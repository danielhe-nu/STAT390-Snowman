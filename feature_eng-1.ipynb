{
    "cells": [
        {
            "cell_type": "code",
            "execution_count": null,
            "source": [],
            "outputs": [],
            "metadata": {}
        }
    ],
    "metadata": {
        "orig_nbformat": 4,
        "language_info": {
            "name": "python",
            "version": "3.9.12"
        },
        "kernelspec": {
            "name": "python3",
            "display_name": "Python 3.9.12 64-bit ('base': conda)"
        },
        "interpreter": {
            "hash": "0f6d84b503d10ab3b01a6b0f24be3e0907c562ee635aa6ab378405e208297f18"
        }
    },
    "nbformat": 4,
    "nbformat_minor": 2
}