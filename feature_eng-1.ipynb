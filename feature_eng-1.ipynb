{
    "cells": [
        {
            "cell_type": "code",
            "execution_count": 49,
            "source": [
                "import pandas as pd\n",
                "import numpy as np\n",
                "from statsmodels.graphics.tsaplots import plot_acf, acf, pacf\n",
                "from matplotlib import pyplot as plt\n",
                "\n",
                "\n",
                "df = pd.read_csv('merged_df_ashvFMT.csv', index_col = 'Date', parse_dates = True)"
            ],
            "outputs": [],
            "metadata": {}
        },
        {
            "cell_type": "code",
            "execution_count": 50,
            "source": [
                "print(df.columns.tolist())"
            ],
            "outputs": [
                {
                    "output_type": "stream",
                    "name": "stdout",
                    "text": [
                        "['STATE', 'PROVINCE_STATE_NAME', 'Completeness_pct', 'Administered_Dose1_Recip', 'Administered_Dose1_Recip_5Plus', 'Administered_Dose1_Recip_12Plus', 'Administered_Dose1_Recip_18Plus', 'Administered_Dose1_Recip_65Plus', 'Series_Complete_Yes', 'Series_Complete_5Plus', 'Series_Complete_5to17', 'Series_Complete_12Plus', 'Series_Complete_18Plus', 'Series_Complete_65Plus', 'Booster_Doses', 'Booster_Doses_5Plus', 'Booster_Doses_12Plus', 'Booster_Doses_18Plus', 'Booster_Doses_50Plus', 'Booster_Doses_65Plus', 'Second_Booster_50Plus', 'Second_Booster_65Plus', 'Bivalent_Booster_5Plus', 'Bivalent_Booster_12Plus', 'Bivalent_Booster_18Plus', 'Bivalent_Booster_65Plus', 'PEOPLE_POSITIVE_CASES_COUNT', 'PEOPLE_DEATH_NEW_COUNT', 'PEOPLE_POSITIVE_NEW_CASES_COUNT', 'PEOPLE_DEATH_COUNT', 'TOT_POP', 'TOT_MALE', 'TOT_FEMALE', 'WA_MALE', 'WA_FEMALE', 'BA_MALE', 'BA_FEMALE', 'IA_MALE', 'IA_FEMALE', 'AA_MALE', 'AA_FEMALE', 'NA_MALE', 'NA_FEMALE', 'TOM_MALE', 'TOM_FEMALE', 'WAC_MALE', 'WAC_FEMALE', 'BAC_MALE', 'BAC_FEMALE', 'IAC_MALE', 'IAC_FEMALE', 'AAC_MALE', 'AAC_FEMALE', 'NAC_MALE', 'NAC_FEMALE', 'NH_MALE', 'NH_FEMALE', 'NHWA_MALE', 'NHWA_FEMALE', 'NHBA_MALE', 'NHBA_FEMALE', 'NHIA_MALE', 'NHIA_FEMALE', 'NHAA_MALE', 'NHAA_FEMALE', 'NHNA_MALE', 'NHNA_FEMALE', 'NHTOM_MALE', 'NHTOM_FEMALE', 'NHWAC_MALE', 'NHWAC_FEMALE', 'NHBAC_MALE', 'NHBAC_FEMALE', 'NHIAC_MALE', 'NHIAC_FEMALE', 'NHAAC_MALE', 'NHAAC_FEMALE', 'NHNAC_MALE', 'NHNAC_FEMALE', 'H_MALE', 'H_FEMALE', 'HWA_MALE', 'HWA_FEMALE', 'HBA_MALE', 'HBA_FEMALE', 'HIA_MALE', 'HIA_FEMALE', 'HAA_MALE', 'HAA_FEMALE', 'HNA_MALE', 'HNA_FEMALE', 'HTOM_MALE', 'HTOM_FEMALE', 'HWAC_MALE', 'HWAC_FEMALE', 'HBAC_MALE', 'HBAC_FEMALE', 'HIAC_MALE', 'HIAC_FEMALE', 'HAAC_MALE', 'HAAC_FEMALE', 'HNAC_MALE', 'HNAC_FEMALE', 'POPESTIMATE', 'POPEST_MALE', 'POPEST_FEM', 'AGE04_TOT', 'AGE04_MALE', 'AGE04_FEM', 'AGE59_TOT', 'AGE59_MALE', 'AGE59_FEM', 'AGE1014_TOT', 'AGE1014_MALE', 'AGE1014_FEM', 'AGE1519_TOT', 'AGE1519_MALE', 'AGE1519_FEM', 'AGE2024_TOT', 'AGE2024_MALE', 'AGE2024_FEM', 'AGE2529_TOT', 'AGE2529_MALE', 'AGE2529_FEM', 'AGE3034_TOT', 'AGE3034_MALE', 'AGE3034_FEM', 'AGE3539_TOT', 'AGE3539_MALE', 'AGE3539_FEM', 'AGE4044_TOT', 'AGE4044_MALE', 'AGE4044_FEM', 'AGE4549_TOT', 'AGE4549_MALE', 'AGE4549_FEM', 'AGE5054_TOT', 'AGE5054_MALE', 'AGE5054_FEM', 'AGE5559_TOT', 'AGE5559_MALE', 'AGE5559_FEM', 'AGE6064_TOT', 'AGE6064_MALE', 'AGE6064_FEM', 'AGE6569_TOT', 'AGE6569_MALE', 'AGE6569_FEM', 'AGE7074_TOT', 'AGE7074_MALE', 'AGE7074_FEM', 'AGE7579_TOT', 'AGE7579_MALE', 'AGE7579_FEM', 'AGE8084_TOT', 'AGE8084_MALE', 'AGE8084_FEM', 'AGE85PLUS_TOT', 'AGE85PLUS_MALE', 'AGE85PLUS_FEM', 'GDP_current_dollar', 'personal_income']\n"
                    ]
                }
            ],
            "metadata": {}
        },
        {
            "cell_type": "code",
            "execution_count": 51,
            "source": [
                "deaths_col = df.PEOPLE_DEATH_NEW_COUNT\n",
                "cases_col = df.PEOPLE_POSITIVE_NEW_CASES_COUNT\n",
                "completeness_col = df.Completeness_pct"
            ],
            "outputs": [],
            "metadata": {}
        },
        {
            "cell_type": "code",
            "execution_count": 52,
            "source": [
                "#AutoCorrelation Function for deaths_col\n",
                "acf_values, confint = acf(deaths_col, alpha=0.05,nlags=365)\n",
                "lags = np.arange(0, len(acf_values))\n",
                "\n",
                "lower_bound = confint[1:, 0] - acf_values[1:]\n",
                "upper_bound = confint[1:, 1] - acf_values[1:]\n",
                "\n",
                "plt.bar(lags, acf_values, width=0.5, align='center', label='ACF')\n",
                "plt.fill_between(lags[1:], lower_bound, upper_bound, color='grey', alpha=0.2, label='95% Confidence Interval')\n",
                "plt.plot(lags[1:], upper_bound, color='grey', lw=0.3)\n",
                "plt.plot(lags[1:], lower_bound, color='grey', lw=0.3)\n",
                "plt.xlabel('Lags')\n",
                "plt.tight_layout()"
            ],
            "outputs": [
                {
                    "output_type": "display_data",
                    "data": {
                        "text/plain": [
                            "<Figure size 432x288 with 1 Axes>"
                        ],
                        "image/png": "[encoded data removed]"
                    },
                    "metadata": {
                        "needs_background": "light"
                    }
                }
            ],
            "metadata": {}
        },
        {
            "cell_type": "code",
            "execution_count": 53,
            "source": [
                "#AutoCorrelation Function for cases_col\n",
                "acf_values, confint = acf(cases_col, alpha=0.05,nlags=365)\n",
                "lags = np.arange(0, len(acf_values))\n",
                "\n",
                "lower_bound = confint[1:, 0] - acf_values[1:]\n",
                "upper_bound = confint[1:, 1] - acf_values[1:]\n",
                "\n",
                "plt.bar(lags, acf_values, width=0.5, align='center', label='ACF')\n",
                "plt.fill_between(lags[1:], lower_bound, upper_bound, color='grey', alpha=0.2, label='95% Confidence Interval')\n",
                "plt.plot(lags[1:], upper_bound, color='grey', lw=0.3)\n",
                "plt.plot(lags[1:], lower_bound, color='grey', lw=0.3)\n",
                "plt.xlabel('Lags')\n",
                "plt.tight_layout()"
            ],
            "outputs": [
                {
                    "output_type": "display_data",
                    "data": {
                        "text/plain": [
                            "<Figure size 432x288 with 1 Axes>"
                        ],
                        "image/png": "[encoded data removed]"
                    },
                    "metadata": {
                        "needs_background": "light"
                    }
                }
            ],
            "metadata": {}
        },
        {
            "cell_type": "code",
            "execution_count": 54,
            "source": [
                "#PACF function for deaths_col\n",
                "acf_values, confint = pacf(deaths_col, alpha=0.05,nlags=30)\n",
                "lags = np.arange(0, len(acf_values))\n",
                "\n",
                "lower_bound = confint[1:, 0] - acf_values[1:]\n",
                "upper_bound = confint[1:, 1] - acf_values[1:]\n",
                "\n",
                "plt.bar(lags, acf_values, width=0.5, align='center', label='ACF')\n",
                "plt.fill_between(lags[1:], lower_bound, upper_bound, color='red', alpha=0.2, label='95% Confidence Interval')\n",
                "plt.plot(lags[1:], upper_bound, color='grey', lw=0.3)\n",
                "plt.plot(lags[1:], lower_bound, color='grey', lw=0.3)\n",
                "plt.xlabel('Lags')\n",
                "plt.tight_layout()"
            ],
            "outputs": [
                {
                    "output_type": "display_data",
                    "data": {
                        "text/plain": [
                            "<Figure size 432x288 with 1 Axes>"
                        ],
                        "image/png": "[encoded data removed]"
                    },
                    "metadata": {
                        "needs_background": "light"
                    }
                }
            ],
            "metadata": {}
        },
        {
            "cell_type": "code",
            "execution_count": 63,
            "source": [
                "#PACF function for cases_col\n",
                "acf_values, confint = pacf(cases_col, alpha=0.05,nlags=30)\n",
                "lags = np.arange(0, len(acf_values))\n",
                "\n",
                "lower_bound = confint[1:, 0] - acf_values[1:]\n",
                "upper_bound = confint[1:, 1] - acf_values[1:]\n",
                "\n",
                "plt.bar(lags, acf_values, width=0.5, align='center', label='ACF')\n",
                "plt.fill_between(lags[1:], lower_bound, upper_bound, color='red', alpha=0.2, label='95% Confidence Interval')\n",
                "plt.plot(lags[1:], upper_bound, color='grey', lw=0.3)\n",
                "plt.plot(lags[1:], lower_bound, color='grey', lw=0.3)\n",
                "plt.xlabel('Lags')\n",
                "plt.title('PACF function for new cases')\n",
                "plt.tight_layout()"
            ],
            "outputs": [
                {
                    "output_type": "display_data",
                    "data": {
                        "text/plain": [
                            "<Figure size 432x288 with 1 Axes>"
                        ],
                        "image/png": "[encoded data removed]"
                    },
                    "metadata": {
                        "needs_background": "light"
                    }
                }
            ],
            "metadata": {}
        },
        {
            "cell_type": "code",
            "execution_count": 56,
            "source": [
                "#create lagged features for cases_col\n",
                "df['new_cases_1 lag'] = df['PEOPLE_POSITIVE_NEW_CASES_COUNT'].shift(1)\n",
                "df['new_cases_2_lag'] = df['PEOPLE_POSITIVE_NEW_CASES_COUNT'].shift(2)\n",
                "df['new_cases_3_lag'] = df['PEOPLE_POSITIVE_NEW_CASES_COUNT'].shift(3)\n",
                "df['new_cases_7_lag'] = df['PEOPLE_POSITIVE_NEW_CASES_COUNT'].shift(7)\n",
                "df['new_cases_30_lag'] = df['PEOPLE_POSITIVE_NEW_CASES_COUNT'].shift(30)\n",
                "df['new_cases_50_lag'] = df['PEOPLE_POSITIVE_NEW_CASES_COUNT'].shift(50)\n",
                "df['new_cases_150_lag'] = df['PEOPLE_POSITIVE_NEW_CASES_COUNT'].shift(150)\n",
                "df['new_cases_350_lag'] = df['PEOPLE_POSITIVE_NEW_CASES_COUNT'].shift(350)"
            ],
            "outputs": [],
            "metadata": {}
        },
        {
            "cell_type": "code",
            "execution_count": 57,
            "source": [
                "#create lagged features for deaths_col\n",
                "df['new_deaths_2 lag'] = df['PEOPLE_DEATH_NEW_COUNT'].shift(2)\n",
                "df['new_deaths_5_lag'] = df['PEOPLE_DEATH_NEW_COUNT'].shift(5)\n",
                "df['new_deaths_7_lag'] = df['PEOPLE_DEATH_NEW_COUNT'].shift(7)\n",
                "df['new_deaths_30_lag'] = df['PEOPLE_DEATH_NEW_COUNT'].shift(30)\n",
                "df['new_deaths_50_lag'] = df['PEOPLE_DEATH_NEW_COUNT'].shift(50)\n",
                "df['new_deaths_250_lag'] = df['PEOPLE_DEATH_NEW_COUNT'].shift(250)"
            ],
            "outputs": [],
            "metadata": {}
        },
        {
            "cell_type": "code",
            "execution_count": 58,
            "source": [
                "#rolling statistics vaccination data (Administered_Dose1_Recip)\n",
                "df['administered_dose1_recip_10_mean'] = df['Administered_Dose1_Recip'].rolling(window = 10).mean()\n",
                "df['administered_dose1_recip_50_mean'] = df['Administered_Dose1_Recip'].rolling(window = 50).mean()\n",
                "df['administered_dose1_recip_100_mean'] = df['Administered_Dose1_Recip'].rolling(window = 100).mean()\n",
                "df['administered_dose1_recip_10_std'] = df['Administered_Dose1_Recip'].rolling(window = 10).std()\n",
                "df['administered_dose1_recip_50_std'] = df['Administered_Dose1_Recip'].rolling(window = 50).std()\n",
                "df['administered_dose1_recip_100_std'] = df['Administered_Dose1_Recip'].rolling(window = 100).std()\n",
                "df['administered_dose1_recip_10_max'] = df['Administered_Dose1_Recip'].rolling(window = 10).max()\n",
                "df['administered_dose1_recip_50_max'] = df['Administered_Dose1_Recip'].rolling(window = 50).max()\n",
                "df['administered_dose1_recip_100_max'] = df['Administered_Dose1_Recip'].rolling(window = 100).max()\n",
                "df['administered_dose1_recip_10_min'] = df['Administered_Dose1_Recip'].rolling(window = 10).min()\n",
                "df['administered_dose1_recip_50_min'] = df['Administered_Dose1_Recip'].rolling(window = 50).min()\n",
                "df['administered_dose1_recip_100_min'] = df['Administered_Dose1_Recip'].rolling(window = 100).min()"
            ],
            "outputs": [],
            "metadata": {}
        },
        {
            "cell_type": "code",
            "execution_count": 59,
            "source": [
                "#rolling statistics cases data (PEOPLE_POSITIVE_NEW_CASES_COUNT)\n",
                "df['new_cases_10_mean'] = df['PEOPLE_POSITIVE_NEW_CASES_COUNT'].rolling(window = 10).mean()\n",
                "df['new_cases_50_mean'] = df['PEOPLE_POSITIVE_NEW_CASES_COUNT'].rolling(window = 50).mean()\n",
                "df['new_cases_100_mean'] = df['PEOPLE_POSITIVE_NEW_CASES_COUNT'].rolling(window = 100).mean()\n",
                "df['new_cases_10_std'] = df['PEOPLE_POSITIVE_NEW_CASES_COUNT'].rolling(window = 10).std()\n",
                "df['new_cases_50_std'] = df['PEOPLE_POSITIVE_NEW_CASES_COUNT'].rolling(window = 50).std()\n",
                "df['new_cases_100_std'] = df['PEOPLE_POSITIVE_NEW_CASES_COUNT'].rolling(window = 100).std()\n",
                "df['new_cases_10_max'] = df['PEOPLE_POSITIVE_NEW_CASES_COUNT'].rolling(window = 10).max()\n",
                "df['new_cases_50_max'] = df['PEOPLE_POSITIVE_NEW_CASES_COUNT'].rolling(window = 50).max()\n",
                "df['new_cases_100_max'] = df['PEOPLE_POSITIVE_NEW_CASES_COUNT'].rolling(window = 100).max()\n",
                "df['new_cases_10_min'] = df['PEOPLE_POSITIVE_NEW_CASES_COUNT'].rolling(window = 10).min()\n",
                "df['new_cases_50_min'] = df['PEOPLE_POSITIVE_NEW_CASES_COUNT'].rolling(window = 50).min()\n",
                "df['new_cases_100_min'] = df['PEOPLE_POSITIVE_NEW_CASES_COUNT'].rolling(window = 100).min()"
            ],
            "outputs": [],
            "metadata": {}
        },
        {
            "cell_type": "code",
            "execution_count": 60,
            "source": [
                "#rolling statistics deaths data (PEOPLE_DEATH_NEW_COUNT)\n",
                "df['new_deaths_10_mean'] = df['PEOPLE_DEATH_NEW_COUNT'].rolling(window = 10).mean()\n",
                "df['new_deaths_50_mean'] = df['PEOPLE_DEATH_NEW_COUNT'].rolling(window = 50).mean()\n",
                "df['new_deaths_100_mean'] = df['PEOPLE_DEATH_NEW_COUNT'].rolling(window = 100).mean()\n",
                "df['new_deaths_10_std'] = df['PEOPLE_DEATH_NEW_COUNT'].rolling(window = 10).std()\n",
                "df['new_deaths_50_std'] = df['PEOPLE_DEATH_NEW_COUNT'].rolling(window = 50).std()\n",
                "df['new_deaths_100_std'] = df['PEOPLE_DEATH_NEW_COUNT'].rolling(window = 100).std()\n",
                "df['new_deaths_10_max'] = df['PEOPLE_DEATH_NEW_COUNT'].rolling(window = 10).max()\n",
                "df['new_deaths_50_max'] = df['PEOPLE_DEATH_NEW_COUNT'].rolling(window = 50).max()\n",
                "df['new_deaths_100_max'] = df['PEOPLE_DEATH_NEW_COUNT'].rolling(window = 100).max()\n",
                "df['new_deaths_10_min'] = df['PEOPLE_DEATH_NEW_COUNT'].rolling(window = 10).min()\n",
                "df['new_deaths_50_min'] = df['PEOPLE_DEATH_NEW_COUNT'].rolling(window = 50).min()\n",
                "df['new_deaths_100_min'] = df['PEOPLE_DEATH_NEW_COUNT'].rolling(window = 100).min()"
            ],
            "outputs": [],
            "metadata": {}
        },
        {
            "cell_type": "code",
            "execution_count": 61,
            "source": [
                "#domain knowledge feature engineering\n",
                "\n",
                "#vaccine coverage per capita features\n",
                "df['vaccination_rate_1dose'] = df['Administered_Dose1_Recip'] / df['TOT_POP']\n",
                "df['vaccination_rate_complete'] = df['Series_Complete_Yes'] / df['TOT_POP']\n",
                "df['booster_rate'] = df['Booster_Doses'] / df['TOT_POP']\n",
                "\n",
                "#age group proportions\n",
                "df['prop_age04'] = (df['AGE04_TOT'] / df['TOT_POP']) * 100\n",
                "df['prop_age59'] = (df['AGE59_TOT'] / df['TOT_POP']) * 100\n",
                "df['prop_age6064'] = (df['AGE6064_TOT'] / df['TOT_POP']) * 100\n",
                "df['prop_age8084'] = (df['AGE8084_TOT'] / df['TOT_POP']) * 100\n",
                "df['prop_age85plus'] = (df['AGE85PLUS_TOT'] / df['TOT_POP']) * 100"
            ],
            "outputs": [],
            "metadata": {}
        },
        {
            "cell_type": "code",
            "execution_count": 62,
            "source": [
                "df.shape"
            ],
            "outputs": [
                {
                    "output_type": "execute_result",
                    "data": {
                        "text/plain": [
                            "(41500, 220)"
                        ]
                    },
                    "metadata": {},
                    "execution_count": 62
                }
            ],
            "metadata": {}
        },
        {
            "cell_type": "code",
            "execution_count": 64,
            "source": [
                "#save df with features\n",
                "df.to_csv('feat_eng_df.csv', index=False)"
            ],
            "outputs": [],
            "metadata": {}
        },
        {
            "cell_type": "code",
            "execution_count": null,
            "source": [],
            "outputs": [],
            "metadata": {}
        }
    ],
    "metadata": {
        "orig_nbformat": 4,
        "language_info": {
            "name": "python",
            "version": "3.9.12",
            "mimetype": "text/x-python",
            "codemirror_mode": {
                "name": "ipython",
                "version": 3
            },
            "pygments_lexer": "ipython3",
            "nbconvert_exporter": "python",
            "file_extension": ".py"
        },
        "kernelspec": {
            "name": "python3",
            "display_name": "Python 3.9.12 64-bit ('base': conda)"
        },
        "interpreter": {
            "hash": "0f6d84b503d10ab3b01a6b0f24be3e0907c562ee635aa6ab378405e208297f18"
        }
    },
    "nbformat": 4,
    "nbformat_minor": 2
}