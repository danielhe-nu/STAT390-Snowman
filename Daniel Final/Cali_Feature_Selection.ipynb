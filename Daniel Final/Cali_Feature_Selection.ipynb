{
 "cells": [
  {
   "cell_type": "code",
   "execution_count": 1,
   "id": "a7149568",
   "metadata": {},
   "outputs": [],
   "source": [
    "import pandas as pd\n",
    "import numpy as np\n",
    "import statsmodels.formula.api as smf\n",
    "import statsmodels.api as sm\n",
    "from pyearth import Earth\n",
    "from sklearn.impute import KNNImputer\n",
    "from sklearn.model_selection import KFold\n",
    "from sklearn.model_selection import train_test_split, cross_val_predict, cross_val_score\n",
    "from sklearn.preprocessing import StandardScaler\n",
    "from sklearn.neighbors import KNeighborsRegressor\n",
    "from sklearn.ensemble import BaggingRegressor,BaggingClassifier,AdaBoostRegressor,AdaBoostClassifier\n",
    "from statsmodels.stats.outliers_influence import variance_inflation_factor\n",
    "from sklearn.model_selection import GridSearchCV, ParameterGrid, StratifiedKFold, RandomizedSearchCV\n",
    "from statsmodels.tools.tools import add_constant\n",
    "import xgboost as xgb\n",
    "from lightgbm import LGBMRegressor\n",
    "from catboost import CatBoostRegressor\n",
    "import time\n",
    "\n",
    "import warnings\n",
    "warnings.filterwarnings(\"ignore\")"
   ]
  },
  {
   "cell_type": "markdown",
   "id": "f9cd2008",
   "metadata": {},
   "source": [
    "## Prophet Feature Selection, so Dropping All Lag and Rolling"
   ]
  },
  {
   "cell_type": "code",
   "execution_count": 2,
   "id": "c704471d",
   "metadata": {},
   "outputs": [],
   "source": [
    "covid_df = pd.read_csv('cali_multi_df.csv', parse_dates=['Date'])\n",
    "covid_df.drop(columns = ['PROVINCE_STATE_NAME'], inplace = True)\n",
    "covid_df = covid_df.rename(columns={'Date': 'ds', 'PEOPLE_POSITIVE_NEW_CASES_COUNT': 'y'})\n",
    "covid_df = covid_df.drop(['new_cases_1 lag', 'new_cases_2_lag', 'new_cases_3_lag', 'new_cases_4_lag', 'new_cases_7_lag', 'new_cases_30_lag', 'new_cases_50_lag', 'new_cases_150_lag', 'new_cases_350_lag', 'new_deaths_1_lag', 'new_deaths_2_lag', 'new_deaths_3_lag', 'new_deaths_4_lag', 'new_deaths_7_lag', 'new_deaths_30_lag', 'new_deaths_50_lag'], axis=1)\n",
    "\n",
    "train_size = int(len(covid_df)* 0.85)\n",
    "covid_train = covid_df[0:train_size] # notice here the original test test is never used"
   ]
  },
  {
   "cell_type": "code",
   "execution_count": 3,
   "id": "553cda9d",
   "metadata": {},
   "outputs": [
    {
     "data": {
      "text/plain": [
       "671"
      ]
     },
     "execution_count": 3,
     "metadata": {},
     "output_type": "execute_result"
    }
   ],
   "source": [
    "train_size"
   ]
  },
  {
   "cell_type": "code",
   "execution_count": 4,
   "id": "43008fd9",
   "metadata": {},
   "outputs": [],
   "source": [
    "X_train = covid_train.drop(columns=['ds', 'y'], axis=1)\n",
    "y_train = covid_train['y']"
   ]
  },
  {
   "cell_type": "code",
   "execution_count": 5,
   "id": "9351efe7",
   "metadata": {},
   "outputs": [
    {
     "name": "stdout",
     "output_type": "stream",
     "text": [
      "['new_cases_10_mean', 'new_cases_10_max', 'new_hospitalized_patients', 'PEOPLE_DEATH_NEW_COUNT', 'new_cases_10_std', 'new_cases_10_min', 'current_intensive_care_patients', 'relative_humidity', 'vaccination_rate_complete', 'new_deaths_50_mean', 'new_deaths_100_std', 'Completeness_pct', 'new_deaths_10_mean', 'new_deaths_100_mean', 'Booster_Doses_18Plus', 'average_temperature_celsius', 'new_deaths_50_min', 'new_cases_50_max', 'new_cases_100_mean', 'new_cases_50_mean', 'vaccination_rate_1dose', 'new_deaths_10_std', 'new_cases_50_std', 'new_deaths_50_std', 'Administered_Dose1_Recip_12Plus', 'dew_point', 'maximum_temperature_celsius', 'minimum_temperature_celsius', 'new_deaths_100_max', 'Administered_Dose1_Recip_65Plus']\n"
     ]
    }
   ],
   "source": [
    "model_a = CatBoostRegressor().fit(X_train, y_train, verbose=False)\n",
    "predictors_1 = pd.concat([pd.Series(model_a.feature_importances_),\n",
    "           pd.Series(X_train.columns)],axis=1).sort_values(by = 0,ascending = False).head(30)\n",
    "print(predictors_1[1].to_list())"
   ]
  },
  {
   "cell_type": "code",
   "execution_count": 6,
   "id": "3893745a",
   "metadata": {},
   "outputs": [
    {
     "name": "stdout",
     "output_type": "stream",
     "text": [
      "['new_cases_10_std', 'PEOPLE_DEATH_NEW_COUNT', 'new_cases_10_mean', 'new_hospitalized_patients', 'relative_humidity', 'average_temperature_celsius', 'new_cases_10_max', 'new_cases_10_min', 'minimum_temperature_celsius', 'new_deaths_10_mean', 'new_deaths_10_std', 'new_cases_50_std', 'current_intensive_care_patients', 'maximum_temperature_celsius', 'dew_point', 'new_cases_50_mean', 'new_deaths_50_mean', 'new_cases_100_mean', 'Booster_Doses', 'Series_Complete_5Plus', 'new_deaths_50_std', 'new_deaths_100_std', 'Booster_Doses_50Plus', 'Administered_Dose1_Recip_5Plus', 'new_deaths_100_mean', 'new_deaths_10_min', 'new_deaths_10_max', 'new_cases_100_std', 'Booster_Doses_18Plus', 'new_cases_50_min']\n"
     ]
    }
   ],
   "source": [
    "model_b = LGBMRegressor().fit(X_train, y_train, verbose=False)\n",
    "predictors_2 = pd.concat([pd.Series(model_b.feature_importances_),\n",
    "           pd.Series(X_train.columns)],axis=1).sort_values(by = 0,ascending = False).head(30)\n",
    "print(predictors_2[1].to_list())"
   ]
  },
  {
   "cell_type": "code",
   "execution_count": 7,
   "id": "414bbf88",
   "metadata": {},
   "outputs": [
    {
     "name": "stdout",
     "output_type": "stream",
     "text": [
      "['new_cases_10_mean', 'new_cases_10_max', 'new_cases_10_std', 'PEOPLE_DEATH_NEW_COUNT', 'current_intensive_care_patients', 'new_deaths_10_mean', 'new_hospitalized_patients', 'new_deaths_100_mean', 'relative_humidity', 'dew_point', 'new_cases_10_min', 'new_cases_50_mean', 'new_cases_50_std', 'rainfall_mm', 'new_deaths_10_std', 'Administered_Dose1_Recip_12Plus', 'new_deaths_50_mean', 'average_temperature_celsius', 'new_cases_100_mean', 'minimum_temperature_celsius', 'stay_at_home_requirements', 'vaccination_rate_1dose', 'Series_Complete_5Plus', 'new_deaths_100_std', 'new_cases_100_max', 'Administered_Dose1_Recip_65Plus', 'new_deaths_50_std', 'new_cases_100_std', 'new_deaths_50_max', 'contact_tracing']\n"
     ]
    }
   ],
   "source": [
    "from sklearn.ensemble import GradientBoostingRegressor,GradientBoostingClassifier, BaggingRegressor,BaggingClassifier,RandomForestRegressor,RandomForestClassifier,AdaBoostRegressor,AdaBoostClassifier\n",
    "\n",
    "model_c = GradientBoostingRegressor().fit(X_train, y_train)\n",
    "predictors_3 = pd.concat([pd.Series(model_c.feature_importances_),\n",
    "           pd.Series(X_train.columns)],axis=1).sort_values(by = 0,ascending = False).head(30)\n",
    "print(predictors_3[1].to_list())"
   ]
  },
  {
   "cell_type": "code",
   "execution_count": 8,
   "id": "f46b63c7",
   "metadata": {},
   "outputs": [
    {
     "name": "stdout",
     "output_type": "stream",
     "text": [
      "['new_cases_10_mean', 'new_cases_10_std', 'new_cases_10_max', 'new_deaths_100_mean', 'new_cases_50_std', 'new_hospitalized_patients', 'PEOPLE_DEATH_NEW_COUNT', 'dew_point', 'new_deaths_10_mean', 'new_cases_10_min', 'average_temperature_celsius', 'new_deaths_50_mean', 'minimum_temperature_celsius', 'relative_humidity', 'current_intensive_care_patients', 'new_deaths_10_std', 'new_deaths_50_std', 'new_cases_50_min', 'rainfall_mm', 'new_cases_50_mean', 'new_deaths_100_std', 'new_cases_100_mean', 'new_deaths_50_max', 'maximum_temperature_celsius', 'new_cases_100_std', 'Series_Complete_5Plus', 'new_cases_100_max', 'Administered_Dose1_Recip_12Plus', 'Series_Complete_65Plus', 'new_deaths_10_max']\n"
     ]
    }
   ],
   "source": [
    "from sklearn.ensemble import BaggingRegressor,BaggingClassifier,AdaBoostRegressor,AdaBoostClassifier\n",
    "from sklearn.tree import DecisionTreeRegressor,DecisionTreeClassifier\n",
    "\n",
    "model_d = AdaBoostRegressor(random_state=1, base_estimator = DecisionTreeRegressor(random_state=1)).fit(X_train, y_train)\n",
    "predictors_4 = pd.concat([pd.Series(model_d.feature_importances_),\n",
    "           pd.Series(X_train.columns)],axis=1).sort_values(by = 0,ascending = False).head(30)\n",
    "print(predictors_4[1].to_list())"
   ]
  },
  {
   "cell_type": "code",
   "execution_count": 9,
   "id": "daedb25e",
   "metadata": {},
   "outputs": [
    {
     "name": "stdout",
     "output_type": "stream",
     "text": [
      "['new_cases_10_mean', 'new_cases_10_max', 'new_hospitalized_patients', 'new_cases_10_std', 'new_deaths_100_mean', 'PEOPLE_DEATH_NEW_COUNT', 'new_cases_50_std', 'current_intensive_care_patients', 'new_deaths_50_mean', 'new_cases_10_min', 'dew_point', 'new_deaths_10_mean', 'relative_humidity', 'new_deaths_10_std', 'new_deaths_50_std', 'new_deaths_100_std', 'new_cases_100_mean', 'minimum_temperature_celsius', 'new_cases_50_mean', 'average_temperature_celsius', 'rainfall_mm', 'new_cases_100_std', 'maximum_temperature_celsius', 'Booster_Doses', 'new_deaths_10_min', 'new_deaths_10_max', 'Administered_Dose1_Recip_18Plus', 'booster_rate', 'Series_Complete_5Plus', 'Series_Complete_12Plus']\n"
     ]
    }
   ],
   "source": [
    "from sklearn.ensemble import BaggingRegressor,BaggingClassifier,RandomForestRegressor,RandomForestClassifier\n",
    "\n",
    "model_e = RandomForestRegressor().fit(X_train, y_train)\n",
    "predictors_5 = pd.concat([pd.Series(model_e.feature_importances_), pd.Series(X_train.columns)], axis=1).sort_values(by=0, ascending = False).head(30)\n",
    "print(predictors_5[1].to_list())"
   ]
  },
  {
   "cell_type": "code",
   "execution_count": 10,
   "id": "e7fdfb69",
   "metadata": {},
   "outputs": [
    {
     "name": "stdout",
     "output_type": "stream",
     "text": [
      "Earth Model\n",
      "--------------------------------------------------------------------\n",
      "Basis Function                                Pruned  Coefficient   \n",
      "--------------------------------------------------------------------\n",
      "(Intercept)                                   No      1.29818e+06   \n",
      "h(new_cases_10_mean-28728)                    No      0.851745      \n",
      "h(28728-new_cases_10_mean)                    No      -1.39325      \n",
      "h(new_cases_50_mean-33036.2)                  No      -1.5207       \n",
      "h(33036.2-new_cases_50_mean)                  No      0.694132      \n",
      "h(Booster_Doses-7.30053E+06)                  Yes     None          \n",
      "h(7.30053E+06-Booster_Doses)                  Yes     None          \n",
      "h(PEOPLE_DEATH_NEW_COUNT-292)                 Yes     None          \n",
      "h(292-PEOPLE_DEATH_NEW_COUNT)                 No      -24.9042      \n",
      "h(new_deaths_10_mean-133)                     No      -32.4465      \n",
      "h(133-new_deaths_10_mean)                     No      24.663        \n",
      "h(new_cases_10_min-61)                        No      -0.405187     \n",
      "h(61-new_cases_10_min)                        No      7.13829       \n",
      "h(current_intensive_care_patients-4708)       No      62.6545       \n",
      "h(4708-current_intensive_care_patients)       Yes     None          \n",
      "h(average_temperature_celsius-30.2444)        No      -2210.01      \n",
      "h(30.2444-average_temperature_celsius)        Yes     None          \n",
      "h(new_cases_50_std-13829.2)                   No      33.1711       \n",
      "h(13829.2-new_cases_50_std)                   No      10.3015       \n",
      "h(Series_Complete_Yes-102)                    No      -0.0524181    \n",
      "h(102-Series_Complete_Yes)                    No      237.576       \n",
      "h(Administered_Dose1_Recip_5Plus-2.3058E+07)  No      -0.000876737  \n",
      "h(2.3058E+07-Administered_Dose1_Recip_5Plus)  No      -0.00103968   \n",
      "h(new_cases_50_min-61)                        No      0.936506      \n",
      "h(61-new_cases_50_min)                        No      -4.14019      \n",
      "h(new_cases_50_std-13336.4)                   Yes     None          \n",
      "h(13336.4-new_cases_50_std)                   No      -11.6666      \n",
      "h(Series_Complete_12Plus-2.41154E+07)         No      0.111402      \n",
      "h(2.41154E+07-Series_Complete_12Plus)         No      -0.0525057    \n",
      "h(new_deaths_10_min-191)                      No      53.2963       \n",
      "h(191-new_deaths_10_min)                      Yes     None          \n",
      "h(new_cases_50_std-2365.12)                   Yes     None          \n",
      "h(2365.12-new_cases_50_std)                   No      0.904067      \n",
      "--------------------------------------------------------------------\n",
      "MSE: 10975776.1192, GCV: 13280689.1042, RSQ: 0.9014, GRSQ: 0.8810\n"
     ]
    }
   ],
   "source": [
    "# using MARS summary for feature selection\n",
    "model = Earth(max_terms=1000, max_degree=1, feature_importance_type = 'rss') # note, terms in brackets are the hyperparameters \n",
    "model.fit(X_train,y_train)\n",
    "print(model.summary())"
   ]
  },
  {
   "cell_type": "code",
   "execution_count": 11,
   "id": "15338145",
   "metadata": {},
   "outputs": [],
   "source": [
    "def common_member(a, b, c, d, e):\n",
    "    set_1 = set(a)\n",
    "    set_2 = set(b)\n",
    "    set_3 = set(c)\n",
    "    set_4 = set(d)\n",
    "    set_5 = set(e)\n",
    " \n",
    "    if (set_1 & set_2 & set_3 & set_4 & set_5):\n",
    "        print(set_1 & set_2 & set_3 & set_4 & set_5)\n"
   ]
  },
  {
   "cell_type": "code",
   "execution_count": 12,
   "id": "0b7a6577",
   "metadata": {},
   "outputs": [],
   "source": [
    "a = predictors_1[1].to_list()\n",
    "b = predictors_2[1].to_list()\n",
    "c = predictors_3[1].to_list()\n",
    "d = predictors_4[1].to_list()\n",
    "e = predictors_5[1].to_list()"
   ]
  },
  {
   "cell_type": "code",
   "execution_count": 13,
   "id": "ba9212ce",
   "metadata": {},
   "outputs": [
    {
     "name": "stdout",
     "output_type": "stream",
     "text": [
      "{'new_hospitalized_patients', 'new_deaths_100_std', 'new_cases_10_mean', 'new_cases_10_std', 'new_cases_10_min', 'dew_point', 'new_deaths_50_mean', 'new_cases_50_std', 'PEOPLE_DEATH_NEW_COUNT', 'new_deaths_100_mean', 'new_deaths_10_std', 'average_temperature_celsius', 'new_cases_50_mean', 'new_deaths_10_mean', 'relative_humidity', 'current_intensive_care_patients', 'new_cases_10_max', 'new_deaths_50_std', 'new_cases_100_mean', 'minimum_temperature_celsius'}\n"
     ]
    }
   ],
   "source": [
    "full = common_member(a, b, c, d, e)\n",
    "full"
   ]
  },
  {
   "cell_type": "markdown",
   "id": "294e996d",
   "metadata": {},
   "source": [
    "## XGBoost Feature Selection, includes lag and rolling"
   ]
  },
  {
   "cell_type": "code",
   "execution_count": null,
   "id": "a4a320ff",
   "metadata": {},
   "outputs": [],
   "source": [
    "import os\n",
    "os._exit(00)"
   ]
  },
  {
   "cell_type": "code",
   "execution_count": 1,
   "id": "781ede05",
   "metadata": {},
   "outputs": [],
   "source": [
    "import pandas as pd\n",
    "import numpy as np\n",
    "import statsmodels.formula.api as smf\n",
    "import statsmodels.api as sm\n",
    "from pyearth import Earth\n",
    "from sklearn.impute import KNNImputer\n",
    "from sklearn.model_selection import KFold\n",
    "from sklearn.model_selection import train_test_split, cross_val_predict, cross_val_score\n",
    "from sklearn.preprocessing import StandardScaler\n",
    "from sklearn.neighbors import KNeighborsRegressor\n",
    "from sklearn.ensemble import BaggingRegressor,BaggingClassifier,AdaBoostRegressor,AdaBoostClassifier\n",
    "from statsmodels.stats.outliers_influence import variance_inflation_factor\n",
    "from sklearn.model_selection import GridSearchCV, ParameterGrid, StratifiedKFold, RandomizedSearchCV\n",
    "from statsmodels.tools.tools import add_constant\n",
    "import xgboost as xgb\n",
    "from lightgbm import LGBMRegressor\n",
    "from catboost import CatBoostRegressor\n",
    "import time\n",
    "\n",
    "import warnings\n",
    "warnings.filterwarnings(\"ignore\")"
   ]
  },
  {
   "cell_type": "code",
   "execution_count": 2,
   "id": "d8a17174",
   "metadata": {},
   "outputs": [],
   "source": [
    "covid_df = pd.read_csv('cali_multi_df.csv', parse_dates=['Date'])\n",
    "covid_df.drop(columns = ['PROVINCE_STATE_NAME'], inplace = True)\n",
    "covid_df = covid_df.rename(columns={'Date': 'ds', 'PEOPLE_POSITIVE_NEW_CASES_COUNT': 'y'})\n",
    "\n",
    "train_size = int(len(covid_df)* 0.85)\n",
    "covid_train = covid_df[0:train_size]\n",
    "\n",
    "X_train = covid_train.drop(columns=['ds', 'y'], axis=1)\n",
    "X_train = X_train.astype('float32')\n",
    "y_train = covid_train['y']"
   ]
  },
  {
   "cell_type": "code",
   "execution_count": 3,
   "id": "f1db7f61",
   "metadata": {},
   "outputs": [
    {
     "name": "stdout",
     "output_type": "stream",
     "text": [
      "['new_cases_10_mean', 'new_cases_7_lag', 'new_cases_2_lag', 'new_cases_10_max', 'new_cases_3_lag', 'PEOPLE_DEATH_NEW_COUNT', 'new_cases_1 lag', 'new_hospitalized_patients', 'new_cases_10_std', 'new_cases_4_lag', 'new_cases_10_min', 'new_deaths_50_lag', 'new_cases_150_lag', 'new_deaths_7_lag', 'new_deaths_50_max', 'new_deaths_100_std', 'new_deaths_1_lag', 'current_intensive_care_patients', 'new_deaths_50_mean', 'Administered_Dose1_Recip_18Plus', 'Booster_Doses', 'maximum_temperature_celsius', 'new_cases_50_lag', 'new_deaths_100_mean', 'new_cases_50_std', 'new_cases_30_lag', 'new_cases_100_max', 'Series_Complete_Yes', 'new_cases_100_std', 'new_deaths_4_lag', 'Series_Complete_18Plus', 'Administered_Dose1_Recip_12Plus', 'booster_rate', 'new_deaths_3_lag', 'new_deaths_50_std', 'dew_point', 'new_cases_100_min', 'relative_humidity', 'average_temperature_celsius', 'Booster_Doses_65Plus']\n"
     ]
    }
   ],
   "source": [
    "model_a = CatBoostRegressor().fit(X_train, y_train, verbose=False)\n",
    "predictors_7 = pd.concat([pd.Series(model_a.feature_importances_),\n",
    "           pd.Series(X_train.columns)],axis=1).sort_values(by = 0,ascending = False).head(40)\n",
    "print(predictors_7[1].to_list())"
   ]
  },
  {
   "cell_type": "code",
   "execution_count": 4,
   "id": "521567e7",
   "metadata": {},
   "outputs": [
    {
     "name": "stdout",
     "output_type": "stream",
     "text": [
      "['new_cases_10_std', 'new_cases_7_lag', 'PEOPLE_DEATH_NEW_COUNT', 'new_cases_2_lag', 'new_cases_4_lag', 'new_cases_10_mean', 'new_cases_1 lag', 'new_cases_3_lag', 'new_deaths_3_lag', 'new_deaths_2_lag', 'new_cases_10_max', 'new_deaths_4_lag', 'new_cases_10_min', 'new_deaths_1_lag', 'new_cases_150_lag', 'new_cases_50_std', 'new_deaths_30_lag', 'new_deaths_7_lag', 'new_deaths_50_lag', 'current_intensive_care_patients', 'new_cases_30_lag', 'minimum_temperature_celsius', 'new_hospitalized_patients', 'dew_point', 'new_cases_350_lag', 'new_cases_50_lag', 'relative_humidity', 'average_temperature_celsius', 'new_deaths_10_min', 'new_deaths_10_mean']\n"
     ]
    }
   ],
   "source": [
    "model_b = LGBMRegressor().fit(X_train, y_train, verbose=False)\n",
    "predictors_8 = pd.concat([pd.Series(model_b.feature_importances_),\n",
    "           pd.Series(X_train.columns)],axis=1).sort_values(by = 0,ascending = False).head(30)\n",
    "print(predictors_8[1].to_list())"
   ]
  },
  {
   "cell_type": "code",
   "execution_count": 5,
   "id": "e085bb4e",
   "metadata": {},
   "outputs": [
    {
     "name": "stdout",
     "output_type": "stream",
     "text": [
      "['new_cases_10_mean', 'new_cases_10_max', 'new_cases_7_lag', 'new_cases_100_mean', 'new_deaths_100_max', 'new_deaths_100_mean', 'new_hospitalized_patients', 'current_intensive_care_patients', 'new_cases_10_std', 'new_cases_2_lag', 'new_deaths_10_mean', 'new_cases_50_std', 'new_cases_1 lag', 'new_cases_10_min', 'new_deaths_50_lag', 'new_cases_3_lag', 'new_cases_150_lag', 'rainfall_mm', 'new_cases_30_lag', 'new_deaths_30_lag', 'PEOPLE_DEATH_NEW_COUNT', 'new_deaths_100_std', 'new_cases_50_mean', 'new_deaths_2_lag', 'Administered_Dose1_Recip_5Plus', 'new_cases_4_lag', 'new_deaths_50_mean', 'maximum_temperature_celsius', 'new_deaths_10_std', 'Booster_Doses']\n"
     ]
    }
   ],
   "source": [
    "model_g = xgb.XGBRegressor().fit(X_train, y_train, verbose=False)\n",
    "predictors_6 = pd.concat([pd.Series(model_g.feature_importances_),\n",
    "           pd.Series(X_train.columns)],axis=1).sort_values(by = 0,ascending = False).head(30)\n",
    "print(predictors_6[1].to_list())"
   ]
  },
  {
   "cell_type": "code",
   "execution_count": 6,
   "id": "16887329",
   "metadata": {},
   "outputs": [
    {
     "name": "stdout",
     "output_type": "stream",
     "text": [
      "Earth Model\n",
      "---------------------------------------------------------------------------\n",
      "Basis Function                                       Pruned  Coefficient   \n",
      "---------------------------------------------------------------------------\n",
      "(Intercept)                                          No      6.27038e+06   \n",
      "h(new_cases_10_mean-28728)                           No      2.92069       \n",
      "h(28728-new_cases_10_mean)                           No      -2.99535      \n",
      "h(new_cases_50_mean-33036.2)                         No      4.55891       \n",
      "h(33036.2-new_cases_50_mean)                         No      1.0835        \n",
      "h(Booster_Doses-7.30053E+06)                         No      0.485186      \n",
      "h(7.30053E+06-Booster_Doses)                         No      -0.485584     \n",
      "present(new_cases_7_lag)                             Yes     None          \n",
      "missing(new_cases_7_lag)                             No      -6985.18      \n",
      "h(new_cases_7_lag-19743)*present(new_cases_7_lag)    No      -0.103843     \n",
      "h(19743-new_cases_7_lag)*present(new_cases_7_lag)    No      -0.366937     \n",
      "h(PEOPLE_DEATH_NEW_COUNT-491)                        Yes     None          \n",
      "h(491-PEOPLE_DEATH_NEW_COUNT)                        No      -12.305       \n",
      "present(new_cases_1 lag)                             Yes     None          \n",
      "missing(new_cases_1 lag)                             Yes     None          \n",
      "h(new_cases_1 lag-11053)*present(new_cases_1 lag)    No      -0.483889     \n",
      "h(11053-new_cases_1 lag)*present(new_cases_1 lag)    No      0.349547      \n",
      "h(new_cases_10_min-61)                               Yes     None          \n",
      "h(61-new_cases_10_min)                               No      14.8225       \n",
      "h(current_intensive_care_patients-4708)              No      60.1593       \n",
      "h(4708-current_intensive_care_patients)              No      29.4046       \n",
      "h(new_cases_10_mean-12598.8)                         No      0.994258      \n",
      "h(12598.8-new_cases_10_mean)                         Yes     None          \n",
      "h(new_cases_50_std-13829.2)                          No      31.9954       \n",
      "h(13829.2-new_cases_50_std)                          Yes     None          \n",
      "h(vaccination_rate_complete-2.58217E-06)             No      -4.57084e+06  \n",
      "h(2.58217E-06-vaccination_rate_complete)             Yes     None          \n",
      "h(Administered_Dose1_Recip_5Plus-2.3058E+07)         Yes     None          \n",
      "h(2.3058E+07-Administered_Dose1_Recip_5Plus)         No      -0.00301864   \n",
      "present(new_cases_2_lag)                             Yes     None          \n",
      "missing(new_cases_2_lag)                             Yes     None          \n",
      "h(new_cases_2_lag-174)*present(new_cases_2_lag)      No      -0.241485     \n",
      "h(174-new_cases_2_lag)*present(new_cases_2_lag)      Yes     None          \n",
      "present(new_cases_3_lag)                             Yes     None          \n",
      "missing(new_cases_3_lag)                             Yes     None          \n",
      "h(new_cases_3_lag-174)*present(new_cases_3_lag)      No      -0.149496     \n",
      "h(174-new_cases_3_lag)*present(new_cases_3_lag)      Yes     None          \n",
      "h(Series_Complete_12Plus-2.41154E+07)                No      0.16086       \n",
      "h(2.41154E+07-Series_Complete_12Plus)                No      -0.0892307    \n",
      "h(new_cases_50_min-61)                               No      -0.925405     \n",
      "h(61-new_cases_50_min)                               No      -8.10737      \n",
      "new_cases_50_max                                     No      0.304142      \n",
      "h(Series_Complete_Yes-2.12551E+07)                   Yes     None          \n",
      "h(2.12551E+07-Series_Complete_Yes)                   No      -0.0249042    \n",
      "h(new_cases_10_std-4369.54)                          No      -0.407889     \n",
      "h(4369.54-new_cases_10_std)                          Yes     None          \n",
      "h(Series_Complete_65Plus-4.41724E+06)                No      -0.307763     \n",
      "h(4.41724E+06-Series_Complete_65Plus)                Yes     None          \n",
      "present(new_cases_4_lag)                             Yes     None          \n",
      "missing(new_cases_4_lag)                             Yes     None          \n",
      "h(new_cases_4_lag-19950)*present(new_cases_4_lag)    No      -0.49559      \n",
      "h(19950-new_cases_4_lag)*present(new_cases_4_lag)    Yes     None          \n",
      "h(new_cases_4_lag-40723)*present(new_cases_4_lag)    No      0.725763      \n",
      "h(40723-new_cases_4_lag)*present(new_cases_4_lag)    Yes     None          \n",
      "present(new_cases_150_lag)                           Yes     None          \n",
      "missing(new_cases_150_lag)                           No      -3848.27      \n",
      "h(new_cases_150_lag-23)*present(new_cases_150_lag)   Yes     None          \n",
      "h(23-new_cases_150_lag)*present(new_cases_150_lag)   No      -248.965      \n",
      "present(new_cases_30_lag)                            Yes     None          \n",
      "missing(new_cases_30_lag)                            Yes     None          \n",
      "h(new_cases_30_lag-16212)*present(new_cases_30_lag)  Yes     None          \n",
      "h(16212-new_cases_30_lag)*present(new_cases_30_lag)  Yes     None          \n",
      "h(booster_rate-0.00246377)                           No      -1.92132e+07  \n",
      "h(0.00246377-booster_rate)                           No      2.51767e+07   \n",
      "h(current_intensive_care_patients-3323)              Yes     None          \n",
      "h(3323-current_intensive_care_patients)              No      -28.6812      \n",
      "h(Series_Complete_18Plus-332672)                     Yes     None          \n",
      "h(332672-Series_Complete_18Plus)                     No      0.0618781     \n",
      "h(Administered_Dose1_Recip_12Plus-2.59815E+07)       No      0.0627572     \n",
      "h(2.59815E+07-Administered_Dose1_Recip_12Plus)       No      -0.00240496   \n",
      "h(new_cases_100_std-3435.47)                         No      2.34267       \n",
      "h(3435.47-new_cases_100_std)                         Yes     None          \n",
      "h(new_cases_10_mean-6558.7)                          No      -1.42732      \n",
      "h(6558.7-new_cases_10_mean)                          Yes     None          \n",
      "h(new_deaths_100_mean-212.43)                        No      -194.848      \n",
      "h(212.43-new_deaths_100_mean)                        No      46.862        \n",
      "h(new_cases_10_std-5189.53)                          Yes     None          \n",
      "h(5189.53-new_cases_10_std)                          No      -5.54697      \n",
      "h(new_cases_100_min-61)                              Yes     None          \n",
      "h(61-new_cases_100_min)                              No      -1.8604       \n",
      "h(Administered_Dose1_Recip-66222)                    Yes     None          \n",
      "h(66222-Administered_Dose1_Recip)                    No      0.145078      \n",
      "h(new_cases_10_std-4570.33)                          Yes     None          \n",
      "h(4570.33-new_cases_10_std)                          No      7.81125       \n",
      "---------------------------------------------------------------------------\n",
      "MSE: 5784535.8372, GCV: 8531963.5548, RSQ: 0.9480, GRSQ: 0.9236\n"
     ]
    }
   ],
   "source": [
    "model = Earth(max_terms=1000, max_degree=1, feature_importance_type = 'rss', allow_missing=True) \n",
    "model.fit(X_train,y_train)\n",
    "print(model.summary())"
   ]
  },
  {
   "cell_type": "code",
   "execution_count": 7,
   "id": "fa55033a",
   "metadata": {},
   "outputs": [],
   "source": [
    "def common_member(a, b, c):\n",
    "    set_1 = set(a)\n",
    "    set_2 = set(b)\n",
    "    set_3 = set(c)\n",
    " \n",
    "    if (set_1 & set_2 & set_3):\n",
    "        print(set_1 & set_2 & set_3)\n"
   ]
  },
  {
   "cell_type": "code",
   "execution_count": 8,
   "id": "b466004a",
   "metadata": {},
   "outputs": [],
   "source": [
    "a = predictors_7[1].to_list()\n",
    "b = predictors_8[1].to_list()\n",
    "c = predictors_6[1].to_list()"
   ]
  },
  {
   "cell_type": "code",
   "execution_count": 9,
   "id": "427e1e31",
   "metadata": {},
   "outputs": [
    {
     "name": "stdout",
     "output_type": "stream",
     "text": [
      "{'new_cases_150_lag', 'new_cases_4_lag', 'new_cases_10_min', 'new_cases_50_std', 'new_cases_10_std', 'new_cases_10_mean', 'PEOPLE_DEATH_NEW_COUNT', 'new_cases_3_lag', 'new_cases_7_lag', 'new_cases_10_max', 'new_deaths_50_lag', 'current_intensive_care_patients', 'new_cases_1 lag', 'new_cases_2_lag', 'new_cases_30_lag', 'new_hospitalized_patients'}\n"
     ]
    }
   ],
   "source": [
    "full = common_member(a, b, c)\n",
    "full"
   ]
  },
  {
   "cell_type": "code",
   "execution_count": null,
   "id": "280036a3",
   "metadata": {},
   "outputs": [],
   "source": []
  },
  {
   "cell_type": "code",
   "execution_count": null,
   "id": "791f1b4d",
   "metadata": {},
   "outputs": [],
   "source": []
  },
  {
   "cell_type": "code",
   "execution_count": null,
   "id": "ca9a3e03",
   "metadata": {},
   "outputs": [],
   "source": []
  }
 ],
 "metadata": {
  "kernelspec": {
   "display_name": "Python 3 (ipykernel)",
   "language": "python",
   "name": "python3"
  },
  "language_info": {
   "codemirror_mode": {
    "name": "ipython",
    "version": 3
   },
   "file_extension": ".py",
   "mimetype": "text/x-python",
   "name": "python",
   "nbconvert_exporter": "python",
   "pygments_lexer": "ipython3",
   "version": "3.9.12"
  }
 },
 "nbformat": 4,
 "nbformat_minor": 5
}
