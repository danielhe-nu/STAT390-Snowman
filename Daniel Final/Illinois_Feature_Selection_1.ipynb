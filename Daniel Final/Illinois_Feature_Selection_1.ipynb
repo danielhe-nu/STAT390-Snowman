{
 "cells": [
  {
   "cell_type": "code",
   "execution_count": 1,
   "id": "a7149568",
   "metadata": {},
   "outputs": [],
   "source": [
    "import pandas as pd\n",
    "import numpy as np\n",
    "import statsmodels.formula.api as smf\n",
    "import statsmodels.api as sm\n",
    "from pyearth import Earth\n",
    "from sklearn.impute import KNNImputer\n",
    "from sklearn.model_selection import KFold\n",
    "from sklearn.model_selection import train_test_split, cross_val_predict, cross_val_score\n",
    "from sklearn.preprocessing import StandardScaler\n",
    "from sklearn.neighbors import KNeighborsRegressor\n",
    "from sklearn.ensemble import BaggingRegressor,BaggingClassifier,AdaBoostRegressor,AdaBoostClassifier\n",
    "from statsmodels.stats.outliers_influence import variance_inflation_factor\n",
    "from sklearn.model_selection import GridSearchCV, ParameterGrid, StratifiedKFold, RandomizedSearchCV\n",
    "from statsmodels.tools.tools import add_constant\n",
    "import xgboost as xgb\n",
    "from lightgbm import LGBMRegressor\n",
    "from catboost import CatBoostRegressor\n",
    "import time\n",
    "\n",
    "import warnings\n",
    "warnings.filterwarnings(\"ignore\")"
   ]
  },
  {
   "cell_type": "markdown",
   "id": "f9cd2008",
   "metadata": {},
   "source": [
    "## Prophet Feature Selection, so Dropping All Lag and Rolling"
   ]
  },
  {
   "cell_type": "code",
   "execution_count": 2,
   "id": "c704471d",
   "metadata": {},
   "outputs": [],
   "source": [
    "covid_df = pd.read_csv('illinois_multi_df.csv', parse_dates=['Date'])\n",
    "covid_df.drop(columns = ['PROVINCE_STATE_NAME'], inplace = True)\n",
    "covid_df = covid_df.rename(columns={'Date': 'ds', 'PEOPLE_POSITIVE_NEW_CASES_COUNT': 'y'})\n",
    "covid_df = covid_df.drop(['new_cases_1 lag', 'new_cases_2_lag', 'new_cases_3_lag', 'new_cases_4_lag', 'new_cases_7_lag', 'new_cases_30_lag', 'new_cases_50_lag', 'new_cases_150_lag', 'new_cases_350_lag', 'new_deaths_1_lag', 'new_deaths_2_lag', 'new_deaths_3_lag', 'new_deaths_4_lag', 'new_deaths_7_lag', 'new_deaths_30_lag', 'new_deaths_50_lag'], axis=1)\n",
    "\n",
    "train_size = int(len(covid_df)* 0.85)\n",
    "covid_train = covid_df[0:train_size] # notice here the original test test is never used"
   ]
  },
  {
   "cell_type": "code",
   "execution_count": 3,
   "id": "553cda9d",
   "metadata": {},
   "outputs": [
    {
     "data": {
      "text/plain": [
       "671"
      ]
     },
     "execution_count": 3,
     "metadata": {},
     "output_type": "execute_result"
    }
   ],
   "source": [
    "train_size"
   ]
  },
  {
   "cell_type": "code",
   "execution_count": 4,
   "id": "43008fd9",
   "metadata": {},
   "outputs": [],
   "source": [
    "X_train = covid_train.drop(columns=['ds', 'y'], axis=1)\n",
    "y_train = covid_train['y']"
   ]
  },
  {
   "cell_type": "code",
   "execution_count": 5,
   "id": "9351efe7",
   "metadata": {},
   "outputs": [
    {
     "name": "stdout",
     "output_type": "stream",
     "text": [
      "['PEOPLE_DEATH_NEW_COUNT', 'new_cases_50_max', 'new_cases_10_mean', 'new_cases_10_max', 'new_cases_10_std', 'new_hospitalized_patients', 'new_deaths_10_mean', 'new_cases_50_std', 'Series_Complete_65Plus', 'new_cases_100_max', 'Series_Complete_Yes', 'Series_Complete_5Plus', 'relative_humidity', 'Booster_Doses', 'average_temperature_celsius', 'minimum_temperature_celsius', 'Administered_Dose1_Recip', 'vaccination_rate_complete', 'new_cases_100_std', 'rainfall_mm', 'Series_Complete_18Plus', 'Administered_Dose1_Recip_5Plus', 'maximum_temperature_celsius', 'new_deaths_10_std', 'dew_point', 'cancel_public_events', 'Administered_Dose1_Recip_12Plus', 'new_cases_50_min', 'Booster_Doses_65Plus', 'new_deaths_50_std']\n"
     ]
    }
   ],
   "source": [
    "model_a = CatBoostRegressor().fit(X_train, y_train, verbose=False)\n",
    "predictors_1 = pd.concat([pd.Series(model_a.feature_importances_),\n",
    "           pd.Series(X_train.columns)],axis=1).sort_values(by = 0,ascending = False).head(30)\n",
    "print(predictors_1[1].to_list())"
   ]
  },
  {
   "cell_type": "code",
   "execution_count": 6,
   "id": "3893745a",
   "metadata": {},
   "outputs": [
    {
     "name": "stdout",
     "output_type": "stream",
     "text": [
      "['new_cases_10_std', 'new_cases_10_mean', 'PEOPLE_DEATH_NEW_COUNT', 'new_hospitalized_patients', 'new_cases_10_max', 'new_deaths_10_std', 'relative_humidity', 'new_cases_50_std', 'new_cases_100_std', 'Administered_Dose1_Recip_65Plus', 'rainfall_mm', 'maximum_temperature_celsius', 'dew_point', 'new_cases_50_mean', 'new_deaths_10_mean', 'minimum_temperature_celsius', 'average_temperature_celsius', 'current_intensive_care_patients', 'new_deaths_50_std', 'Administered_Dose1_Recip', 'Administered_Dose1_Recip_5Plus', 'new_cases_10_min', 'Booster_Doses', 'new_deaths_100_std', 'new_deaths_100_mean', 'new_deaths_50_mean', 'new_cases_50_max', 'new_cases_100_mean', 'Booster_Doses_65Plus', 'new_deaths_10_max']\n"
     ]
    }
   ],
   "source": [
    "model_b = LGBMRegressor().fit(X_train, y_train, verbose=False)\n",
    "predictors_2 = pd.concat([pd.Series(model_b.feature_importances_),\n",
    "           pd.Series(X_train.columns)],axis=1).sort_values(by = 0,ascending = False).head(30)\n",
    "print(predictors_2[1].to_list())"
   ]
  },
  {
   "cell_type": "code",
   "execution_count": 7,
   "id": "414bbf88",
   "metadata": {},
   "outputs": [
    {
     "name": "stdout",
     "output_type": "stream",
     "text": [
      "['new_cases_10_mean', 'new_cases_10_max', 'PEOPLE_DEATH_NEW_COUNT', 'new_cases_10_std', 'new_cases_50_max', 'Series_Complete_65Plus', 'new_deaths_10_mean', 'new_hospitalized_patients', 'Booster_Doses_18Plus', 'new_deaths_100_std', 'Booster_Doses_65Plus', 'relative_humidity', 'Series_Complete_18Plus', 'new_cases_10_min', 'new_deaths_10_std', 'new_deaths_50_std', 'average_temperature_celsius', 'maximum_temperature_celsius', 'Administered_Dose1_Recip_65Plus', 'current_intensive_care_patients', 'dew_point', 'school_closing', 'new_deaths_100_mean', 'new_cases_100_mean', 'Series_Complete_12Plus', 'new_deaths_50_mean', 'rainfall_mm', 'Series_Complete_5Plus', 'new_cases_100_max', 'new_cases_100_min']\n"
     ]
    }
   ],
   "source": [
    "from sklearn.ensemble import GradientBoostingRegressor,GradientBoostingClassifier, BaggingRegressor,BaggingClassifier,RandomForestRegressor,RandomForestClassifier,AdaBoostRegressor,AdaBoostClassifier\n",
    "\n",
    "model_c = GradientBoostingRegressor().fit(X_train, y_train)\n",
    "predictors_3 = pd.concat([pd.Series(model_c.feature_importances_),\n",
    "           pd.Series(X_train.columns)],axis=1).sort_values(by = 0,ascending = False).head(30)\n",
    "print(predictors_3[1].to_list())"
   ]
  },
  {
   "cell_type": "code",
   "execution_count": 8,
   "id": "f46b63c7",
   "metadata": {},
   "outputs": [
    {
     "name": "stdout",
     "output_type": "stream",
     "text": [
      "['new_cases_10_std', 'PEOPLE_DEATH_NEW_COUNT', 'Series_Complete_65Plus', 'new_cases_10_max', 'new_cases_10_mean', 'Administered_Dose1_Recip_12Plus', 'new_cases_50_max', 'new_cases_50_std', 'minimum_temperature_celsius', 'Series_Complete_Yes', 'new_deaths_10_std', 'new_hospitalized_patients', 'vaccination_rate_complete', 'maximum_temperature_celsius', 'relative_humidity', 'new_deaths_10_mean', 'dew_point', 'Booster_Doses_18Plus', 'booster_rate', 'Administered_Dose1_Recip', 'average_temperature_celsius', 'new_cases_100_mean', 'new_deaths_50_std', 'rainfall_mm', 'Administered_Dose1_Recip_65Plus', 'new_deaths_50_mean', 'new_deaths_100_mean', 'current_intensive_care_patients', 'Series_Complete_18Plus', 'new_deaths_100_std']\n"
     ]
    }
   ],
   "source": [
    "from sklearn.ensemble import BaggingRegressor,BaggingClassifier,AdaBoostRegressor,AdaBoostClassifier\n",
    "from sklearn.tree import DecisionTreeRegressor,DecisionTreeClassifier\n",
    "\n",
    "model_d = AdaBoostRegressor(random_state=1, base_estimator = DecisionTreeRegressor(random_state=1)).fit(X_train, y_train)\n",
    "predictors_4 = pd.concat([pd.Series(model_d.feature_importances_),\n",
    "           pd.Series(X_train.columns)],axis=1).sort_values(by = 0,ascending = False).head(30)\n",
    "print(predictors_4[1].to_list())"
   ]
  },
  {
   "cell_type": "code",
   "execution_count": 9,
   "id": "daedb25e",
   "metadata": {},
   "outputs": [
    {
     "name": "stdout",
     "output_type": "stream",
     "text": [
      "['new_cases_10_mean', 'new_cases_10_std', 'new_cases_50_max', 'PEOPLE_DEATH_NEW_COUNT', 'Series_Complete_65Plus', 'new_cases_10_max', 'new_hospitalized_patients', 'new_cases_50_std', 'Series_Complete_5Plus', 'minimum_temperature_celsius', 'Series_Complete_18Plus', 'new_deaths_10_mean', 'new_deaths_100_mean', 'dew_point', 'relative_humidity', 'new_deaths_10_std', 'vaccination_rate_complete', 'average_temperature_celsius', 'current_intensive_care_patients', 'new_cases_100_mean', 'vaccination_rate_1dose', 'Administered_Dose1_Recip_5Plus', 'Administered_Dose1_Recip', 'new_cases_50_mean', 'Series_Complete_Yes', 'Booster_Doses_18Plus', 'Administered_Dose1_Recip_12Plus', 'new_cases_10_min', 'Booster_Doses_65Plus', 'new_cases_100_std']\n"
     ]
    }
   ],
   "source": [
    "from sklearn.ensemble import BaggingRegressor,BaggingClassifier,RandomForestRegressor,RandomForestClassifier\n",
    "\n",
    "model_e = RandomForestRegressor().fit(X_train, y_train)\n",
    "predictors_5 = pd.concat([pd.Series(model_e.feature_importances_), pd.Series(X_train.columns)], axis=1).sort_values(by=0, ascending = False).head(30)\n",
    "print(predictors_5[1].to_list())"
   ]
  },
  {
   "cell_type": "code",
   "execution_count": 10,
   "id": "e7fdfb69",
   "metadata": {},
   "outputs": [
    {
     "name": "stdout",
     "output_type": "stream",
     "text": [
      "Earth Model\n",
      "--------------------------------------------------------------------\n",
      "Basis Function                                 Pruned  Coefficient  \n",
      "--------------------------------------------------------------------\n",
      "(Intercept)                                    No      39028.4      \n",
      "h(new_cases_10_mean-10676.5)                   No      2.9151       \n",
      "h(10676.5-new_cases_10_mean)                   No      -1.25135     \n",
      "h(new_cases_10_std-7026.32)                    Yes     None         \n",
      "h(7026.32-new_cases_10_std)                    No      -0.328222    \n",
      "h(booster_rate-0.208955)                       Yes     None         \n",
      "h(0.208955-booster_rate)                       Yes     None         \n",
      "h(new_cases_10_mean-11699.9)                   Yes     None         \n",
      "h(11699.9-new_cases_10_mean)                   Yes     None         \n",
      "PEOPLE_DEATH_NEW_COUNT                         Yes     None         \n",
      "h(new_deaths_10_max-258)                       Yes     None         \n",
      "h(258-new_deaths_10_max)                       Yes     None         \n",
      "h(new_cases_100_max-19426)                     No      1.77617      \n",
      "h(19426-new_cases_100_max)                     Yes     None         \n",
      "h(Administered_Dose1_Recip_18Plus-7.9325E+06)  No      -0.367119    \n",
      "h(7.9325E+06-Administered_Dose1_Recip_18Plus)  Yes     None         \n",
      "h(new_hospitalized_patients-636)               No      -192.383     \n",
      "h(636-new_hospitalized_patients)               No      -108.046     \n",
      "h(Administered_Dose1_Recip-7.48147E+06)        Yes     None         \n",
      "h(7.48147E+06-Administered_Dose1_Recip)        Yes     None         \n",
      "h(new_hospitalized_patients-599)               Yes     None         \n",
      "h(599-new_hospitalized_patients)               No      112.77       \n",
      "h(current_intensive_care_patients-1263)        No      2.65599      \n",
      "h(1263-current_intensive_care_patients)        No      1.78307      \n",
      "new_deaths_10_mean                             No      -38.2349     \n",
      "h(PEOPLE_DEATH_NEW_COUNT-189)                  Yes     None         \n",
      "h(189-PEOPLE_DEATH_NEW_COUNT)                  No      -42.3853     \n",
      "h(new_cases_10_min-7605)                       No      -1.74474     \n",
      "h(7605-new_cases_10_min)                       Yes     None         \n",
      "h(Booster_Doses_18Plus-2.58717E+06)            No      -0.100494    \n",
      "h(2.58717E+06-Booster_Doses_18Plus)            No      -0.006164    \n",
      "h(new_cases_10_std-5645.69)                    Yes     None         \n",
      "h(5645.69-new_cases_10_std)                    Yes     None         \n",
      "Administered_Dose1_Recip_5Plus                 No      -0.00227635  \n",
      "h(new_cases_10_std-3048.11)                    No      1.65159      \n",
      "h(3048.11-new_cases_10_std)                    Yes     None         \n",
      "h(new_cases_10_mean-6988.9)                    Yes     None         \n",
      "h(6988.9-new_cases_10_mean)                    Yes     None         \n",
      "h(relative_humidity-70.3802)                   Yes     None         \n",
      "h(70.3802-relative_humidity)                   No      27.7794      \n",
      "rainfall_mm                                    No      30.1827      \n",
      "--------------------------------------------------------------------\n",
      "MSE: 2435583.9017, GCV: 2829889.1476, RSQ: 0.8653, GRSQ: 0.8439\n"
     ]
    }
   ],
   "source": [
    "# using MARS summary for feature selection\n",
    "model = Earth(max_terms=1000, max_degree=1, feature_importance_type = 'rss') # note, terms in brackets are the hyperparameters \n",
    "model.fit(X_train,y_train)\n",
    "print(model.summary())"
   ]
  },
  {
   "cell_type": "code",
   "execution_count": 11,
   "id": "15338145",
   "metadata": {},
   "outputs": [],
   "source": [
    "def common_member(a, b, c, d, e):\n",
    "    set_1 = set(a)\n",
    "    set_2 = set(b)\n",
    "    set_3 = set(c)\n",
    "    set_4 = set(d)\n",
    "    set_5 = set(e)\n",
    " \n",
    "    if (set_1 & set_2 & set_3 & set_4 & set_5):\n",
    "        print(set_1 & set_2 & set_3 & set_4 & set_5)\n"
   ]
  },
  {
   "cell_type": "code",
   "execution_count": 12,
   "id": "0b7a6577",
   "metadata": {},
   "outputs": [],
   "source": [
    "a = predictors_1[1].to_list()\n",
    "b = predictors_2[1].to_list()\n",
    "c = predictors_3[1].to_list()\n",
    "d = predictors_4[1].to_list()\n",
    "e = predictors_5[1].to_list()"
   ]
  },
  {
   "cell_type": "code",
   "execution_count": 13,
   "id": "ba9212ce",
   "metadata": {},
   "outputs": [
    {
     "name": "stdout",
     "output_type": "stream",
     "text": [
      "{'new_hospitalized_patients', 'new_cases_50_max', 'new_deaths_10_mean', 'average_temperature_celsius', 'new_cases_10_std', 'new_cases_10_mean', 'new_cases_10_max', 'new_deaths_10_std', 'relative_humidity', 'PEOPLE_DEATH_NEW_COUNT', 'dew_point'}\n"
     ]
    }
   ],
   "source": [
    "full = common_member(a, b, c, d, e)\n",
    "full"
   ]
  },
  {
   "cell_type": "markdown",
   "id": "294e996d",
   "metadata": {},
   "source": [
    "## XGBoost Feature Selection, includes lag and rolling"
   ]
  },
  {
   "cell_type": "code",
   "execution_count": null,
   "id": "a4a320ff",
   "metadata": {},
   "outputs": [],
   "source": [
    "import os\n",
    "os._exit(00)"
   ]
  },
  {
   "cell_type": "code",
   "execution_count": 1,
   "id": "781ede05",
   "metadata": {},
   "outputs": [],
   "source": [
    "import pandas as pd\n",
    "import numpy as np\n",
    "import statsmodels.formula.api as smf\n",
    "import statsmodels.api as sm\n",
    "from pyearth import Earth\n",
    "from sklearn.impute import KNNImputer\n",
    "from sklearn.model_selection import KFold\n",
    "from sklearn.model_selection import train_test_split, cross_val_predict, cross_val_score\n",
    "from sklearn.preprocessing import StandardScaler\n",
    "from sklearn.neighbors import KNeighborsRegressor\n",
    "from sklearn.ensemble import BaggingRegressor,BaggingClassifier,AdaBoostRegressor,AdaBoostClassifier\n",
    "from statsmodels.stats.outliers_influence import variance_inflation_factor\n",
    "from sklearn.model_selection import GridSearchCV, ParameterGrid, StratifiedKFold, RandomizedSearchCV\n",
    "from statsmodels.tools.tools import add_constant\n",
    "import xgboost as xgb\n",
    "from lightgbm import LGBMRegressor\n",
    "from catboost import CatBoostRegressor\n",
    "import time\n",
    "\n",
    "import warnings\n",
    "warnings.filterwarnings(\"ignore\")"
   ]
  },
  {
   "cell_type": "code",
   "execution_count": 2,
   "id": "d8a17174",
   "metadata": {},
   "outputs": [],
   "source": [
    "covid_df = pd.read_csv('illinois_multi_df.csv', parse_dates=['Date'])\n",
    "covid_df.drop(columns = ['PROVINCE_STATE_NAME'], inplace = True)\n",
    "covid_df = covid_df.rename(columns={'Date': 'ds', 'PEOPLE_POSITIVE_NEW_CASES_COUNT': 'y'})\n",
    "\n",
    "train_size = int(len(covid_df)* 0.85)\n",
    "covid_train = covid_df[0:train_size]\n",
    "\n",
    "X_train = covid_train.drop(columns=['ds', 'y'], axis=1)\n",
    "X_train = X_train.astype('float32')\n",
    "y_train = covid_train['y']"
   ]
  },
  {
   "cell_type": "code",
   "execution_count": 3,
   "id": "f1db7f61",
   "metadata": {},
   "outputs": [
    {
     "name": "stdout",
     "output_type": "stream",
     "text": [
      "['new_cases_7_lag', 'PEOPLE_DEATH_NEW_COUNT', 'new_cases_50_max', 'new_hospitalized_patients', 'new_cases_10_mean', 'new_cases_10_max', 'new_cases_1 lag', 'new_cases_50_std', 'new_cases_10_std', 'new_deaths_1_lag', 'new_cases_2_lag', 'Booster_Doses', 'new_cases_150_lag', 'new_deaths_7_lag', 'new_cases_100_max', 'Booster_Doses_18Plus', 'stringency_index', 'new_cases_50_lag', 'vaccination_rate_complete', 'new_deaths_4_lag', 'new_cases_50_mean', 'relative_humidity', 'new_cases_4_lag', 'dew_point', 'new_deaths_50_std', 'Administered_Dose1_Recip_18Plus', 'Series_Complete_65Plus', 'maximum_temperature_celsius', 'new_cases_3_lag', 'Administered_Dose1_Recip_12Plus', 'new_deaths_2_lag', 'Series_Complete_5Plus', 'Series_Complete_12Plus', 'new_deaths_10_std', 'new_deaths_100_mean', 'cancel_public_events', 'Booster_Doses_50Plus', 'new_cases_100_std', 'debt_relief', 'booster_rate']\n"
     ]
    }
   ],
   "source": [
    "model_a = CatBoostRegressor().fit(X_train, y_train, verbose=False)\n",
    "predictors_7 = pd.concat([pd.Series(model_a.feature_importances_),\n",
    "           pd.Series(X_train.columns)],axis=1).sort_values(by = 0,ascending = False).head(40)\n",
    "print(predictors_7[1].to_list())"
   ]
  },
  {
   "cell_type": "code",
   "execution_count": 4,
   "id": "521567e7",
   "metadata": {},
   "outputs": [
    {
     "name": "stdout",
     "output_type": "stream",
     "text": [
      "['new_cases_7_lag', 'new_cases_10_std', 'PEOPLE_DEATH_NEW_COUNT', 'new_cases_10_mean', 'new_cases_10_max', 'new_cases_1 lag', 'relative_humidity', 'new_cases_3_lag', 'new_cases_2_lag', 'new_hospitalized_patients', 'new_cases_30_lag', 'new_cases_4_lag', 'new_deaths_1_lag', 'new_deaths_4_lag', 'new_deaths_2_lag', 'new_deaths_10_std', 'new_cases_50_std', 'new_deaths_7_lag', 'rainfall_mm', 'maximum_temperature_celsius', 'new_deaths_50_lag', 'new_deaths_30_lag', 'new_cases_150_lag', 'new_cases_50_lag', 'new_deaths_3_lag', 'current_intensive_care_patients', 'new_cases_350_lag', 'minimum_temperature_celsius', 'Administered_Dose1_Recip_65Plus', 'Administered_Dose1_Recip']\n"
     ]
    }
   ],
   "source": [
    "model_b = LGBMRegressor().fit(X_train, y_train, verbose=False)\n",
    "predictors_8 = pd.concat([pd.Series(model_b.feature_importances_),\n",
    "           pd.Series(X_train.columns)],axis=1).sort_values(by = 0,ascending = False).head(30)\n",
    "print(predictors_8[1].to_list())"
   ]
  },
  {
   "cell_type": "code",
   "execution_count": 5,
   "id": "e085bb4e",
   "metadata": {},
   "outputs": [
    {
     "name": "stdout",
     "output_type": "stream",
     "text": [
      "['new_cases_7_lag', 'new_cases_10_max', 'new_cases_10_std', 'new_cases_50_max', 'new_cases_10_mean', 'Booster_Doses', 'PEOPLE_DEATH_NEW_COUNT', 'new_cases_1 lag', 'Booster_Doses_65Plus', 'new_cases_150_lag', 'new_deaths_100_max', 'new_deaths_4_lag', 'Series_Complete_Yes', 'new_deaths_50_min', 'new_cases_50_lag', 'new_cases_3_lag', 'Completeness_pct', 'stringency_index', 'new_hospitalized_patients', 'Booster_Doses_50Plus', 'new_cases_4_lag', 'new_deaths_50_lag', 'new_cases_100_mean', 'Administered_Dose1_Recip_5Plus', 'new_deaths_30_lag', 'new_cases_50_mean', 'new_cases_100_min', 'new_deaths_7_lag', 'Administered_Dose1_Recip', 'new_deaths_10_max']\n"
     ]
    }
   ],
   "source": [
    "model_g = xgb.XGBRegressor().fit(X_train, y_train, verbose=False)\n",
    "predictors_6 = pd.concat([pd.Series(model_g.feature_importances_),\n",
    "           pd.Series(X_train.columns)],axis=1).sort_values(by = 0,ascending = False).head(30)\n",
    "print(predictors_6[1].to_list())"
   ]
  },
  {
   "cell_type": "code",
   "execution_count": 6,
   "id": "16887329",
   "metadata": {},
   "outputs": [
    {
     "name": "stdout",
     "output_type": "stream",
     "text": [
      "Earth Model\n",
      "-------------------------------------------------------------------------\n",
      "Basis Function                                      Pruned  Coefficient  \n",
      "-------------------------------------------------------------------------\n",
      "(Intercept)                                         No      18204.5      \n",
      "present(new_cases_7_lag)                            No      284007       \n",
      "missing(new_cases_7_lag)                            Yes     None         \n",
      "h(new_cases_7_lag-12384)*present(new_cases_7_lag)   Yes     None         \n",
      "h(12384-new_cases_7_lag)*present(new_cases_7_lag)   No      2.22538      \n",
      "new_cases_10_max                                    Yes     None         \n",
      "h(PEOPLE_DEATH_NEW_COUNT-189)                       No      18.9245      \n",
      "h(189-PEOPLE_DEATH_NEW_COUNT)                       No      -20.7925     \n",
      "h(new_deaths_10_max-258)                            No      194.15       \n",
      "h(258-new_deaths_10_max)                            Yes     None         \n",
      "present(new_cases_4_lag)                            Yes     None         \n",
      "missing(new_cases_4_lag)                            Yes     None         \n",
      "h(new_cases_4_lag-12673)*present(new_cases_4_lag)   No      0.272219     \n",
      "h(12673-new_cases_4_lag)*present(new_cases_4_lag)   No      0.101901     \n",
      "present(new_deaths_7_lag)                           Yes     None         \n",
      "missing(new_deaths_7_lag)                           Yes     None         \n",
      "new_deaths_7_lag*present(new_deaths_7_lag)          No      -6.38566     \n",
      "h(new_cases_7_lag-11312)*present(new_cases_7_lag)   No      26.0406      \n",
      "h(11312-new_cases_7_lag)*present(new_cases_7_lag)   No      -27.5477     \n",
      "h(Administered_Dose1_Recip-7.72523E+06)             No      -0.00143356  \n",
      "h(7.72523E+06-Administered_Dose1_Recip)             Yes     None         \n",
      "h(Booster_Doses-2.60172E+06)                        No      -0.0825015   \n",
      "h(2.60172E+06-Booster_Doses)                        No      -0.00708737  \n",
      "present(new_cases_3_lag)                            No      -2786.09     \n",
      "missing(new_cases_3_lag)                            Yes     None         \n",
      "h(new_cases_3_lag-11509)*present(new_cases_3_lag)   No      0.473828     \n",
      "h(11509-new_cases_3_lag)*present(new_cases_3_lag)   No      0.510478     \n",
      "h(Series_Complete_5Plus-7.8785E+06)                 Yes     None         \n",
      "h(7.8785E+06-Series_Complete_5Plus)                 No      0.00286795   \n",
      "present(new_cases_30_lag)                           No      -3239.72     \n",
      "missing(new_cases_30_lag)                           Yes     None         \n",
      "h(new_cases_30_lag-1)*present(new_cases_30_lag)     No      0.183734     \n",
      "h(1-new_cases_30_lag)*present(new_cases_30_lag)     No      1077.34      \n",
      "h(Series_Complete_65Plus-1.73331E+06)               No      6.0379       \n",
      "h(1.73331E+06-Series_Complete_65Plus)               No      0.00557418   \n",
      "h(new_cases_100_max-19426)                          No      2.23467      \n",
      "h(19426-new_cases_100_max)                          No      -0.285755    \n",
      "present(new_cases_1 lag)                            Yes     None         \n",
      "missing(new_cases_1 lag)                            Yes     None         \n",
      "h(new_cases_1 lag-6891)*present(new_cases_1 lag)    No      -0.330779    \n",
      "h(6891-new_cases_1 lag)*present(new_cases_1 lag)    No      0.43852      \n",
      "h(new_cases_10_mean-11699.9)                        Yes     None         \n",
      "h(11699.9-new_cases_10_mean)                        No      -1.66736     \n",
      "h(new_cases_7_lag-48)*present(new_cases_7_lag)      No      -25.0934     \n",
      "h(48-new_cases_7_lag)*present(new_cases_7_lag)      Yes     None         \n",
      "h(Series_Complete_12Plus-7.69908E+06)               No      -0.793701    \n",
      "h(7.69908E+06-Series_Complete_12Plus)               No      -0.0332316   \n",
      "h(new_cases_10_std-3459.92)                         No      2.22024      \n",
      "h(3459.92-new_cases_10_std)                         No      0.410275     \n",
      "h(new_deaths_50_std-41.9107)                        No      -119.746     \n",
      "h(41.9107-new_deaths_50_std)                        Yes     None         \n",
      "h(new_cases_30_lag-7401)*present(new_cases_30_lag)  Yes     None         \n",
      "h(7401-new_cases_30_lag)*present(new_cases_30_lag)  No      0.318547     \n",
      "h(new_deaths_10_std-52.4006)                        No      260.298      \n",
      "h(52.4006-new_deaths_10_std)                        Yes     None         \n",
      "h(new_cases_100_std-2079.08)                        No      -1.46736     \n",
      "h(2079.08-new_cases_100_std)                        Yes     None         \n",
      "h(new_cases_3_lag-8920)*present(new_cases_3_lag)    Yes     None         \n",
      "h(8920-new_cases_3_lag)*present(new_cases_3_lag)    No      -0.452949    \n",
      "h(new_deaths_10_std-67.4709)                        No      -977.186     \n",
      "h(67.4709-new_deaths_10_std)                        No      32.6515      \n",
      "present(new_cases_2_lag)                            Yes     None         \n",
      "missing(new_cases_2_lag)                            Yes     None         \n",
      "new_cases_2_lag*present(new_cases_2_lag)            No      -0.187025    \n",
      "h(new_cases_10_std-7026.32)                         No      -4.26437     \n",
      "h(7026.32-new_cases_10_std)                         Yes     None         \n",
      "present(new_deaths_1_lag)                           Yes     None         \n",
      "missing(new_deaths_1_lag)                           No      3012.63      \n",
      "h(new_deaths_1_lag-189)*present(new_deaths_1_lag)   No      21.6472      \n",
      "h(189-new_deaths_1_lag)*present(new_deaths_1_lag)   Yes     None         \n",
      "present(new_cases_50_lag)                           Yes     None         \n",
      "missing(new_cases_50_lag)                           Yes     None         \n",
      "h(new_cases_50_lag-1)*present(new_cases_50_lag)     No      -0.0655841   \n",
      "h(1-new_cases_50_lag)*present(new_cases_50_lag)     No      -933.213     \n",
      "h(vaccination_rate_complete-0.610899)               Yes     None         \n",
      "h(0.610899-vaccination_rate_complete)               No      400711       \n",
      "-------------------------------------------------------------------------\n",
      "MSE: 743097.7147, GCV: 1086187.9982, RSQ: 0.9589, GRSQ: 0.9401\n"
     ]
    }
   ],
   "source": [
    "model = Earth(max_terms=1000, max_degree=1, feature_importance_type = 'rss', allow_missing=True) \n",
    "model.fit(X_train,y_train)\n",
    "print(model.summary())"
   ]
  },
  {
   "cell_type": "code",
   "execution_count": 7,
   "id": "fa55033a",
   "metadata": {},
   "outputs": [],
   "source": [
    "def common_member(a, b, c):\n",
    "    set_1 = set(a)\n",
    "    set_2 = set(b)\n",
    "    set_3 = set(c)\n",
    " \n",
    "    if (set_1 & set_2 & set_3):\n",
    "        print(set_1 & set_2 & set_3)\n"
   ]
  },
  {
   "cell_type": "code",
   "execution_count": 8,
   "id": "b466004a",
   "metadata": {},
   "outputs": [],
   "source": [
    "a = predictors_7[1].to_list()\n",
    "b = predictors_8[1].to_list()\n",
    "c = predictors_6[1].to_list()"
   ]
  },
  {
   "cell_type": "code",
   "execution_count": 9,
   "id": "427e1e31",
   "metadata": {},
   "outputs": [
    {
     "name": "stdout",
     "output_type": "stream",
     "text": [
      "{'PEOPLE_DEATH_NEW_COUNT', 'new_cases_1 lag', 'new_hospitalized_patients', 'new_cases_10_mean', 'new_cases_10_std', 'new_cases_10_max', 'new_cases_4_lag', 'new_cases_150_lag', 'new_cases_50_lag', 'new_deaths_4_lag', 'new_cases_7_lag', 'new_deaths_7_lag', 'new_cases_3_lag'}\n"
     ]
    }
   ],
   "source": [
    "full = common_member(a, b, c)\n",
    "full"
   ]
  },
  {
   "cell_type": "code",
   "execution_count": null,
   "id": "280036a3",
   "metadata": {},
   "outputs": [],
   "source": []
  },
  {
   "cell_type": "code",
   "execution_count": null,
   "id": "791f1b4d",
   "metadata": {},
   "outputs": [],
   "source": []
  },
  {
   "cell_type": "code",
   "execution_count": null,
   "id": "ca9a3e03",
   "metadata": {},
   "outputs": [],
   "source": []
  }
 ],
 "metadata": {
  "kernelspec": {
   "display_name": "Python 3 (ipykernel)",
   "language": "python",
   "name": "python3"
  },
  "language_info": {
   "codemirror_mode": {
    "name": "ipython",
    "version": 3
   },
   "file_extension": ".py",
   "mimetype": "text/x-python",
   "name": "python",
   "nbconvert_exporter": "python",
   "pygments_lexer": "ipython3",
   "version": "3.9.12"
  }
 },
 "nbformat": 4,
 "nbformat_minor": 5
}
