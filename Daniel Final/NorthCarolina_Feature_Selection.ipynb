{
 "cells": [
  {
   "cell_type": "code",
   "execution_count": 1,
   "id": "a7149568",
   "metadata": {},
   "outputs": [],
   "source": [
    "import pandas as pd\n",
    "import numpy as np\n",
    "import statsmodels.formula.api as smf\n",
    "import statsmodels.api as sm\n",
    "from pyearth import Earth\n",
    "from sklearn.impute import KNNImputer\n",
    "from sklearn.model_selection import KFold\n",
    "from sklearn.model_selection import train_test_split, cross_val_predict, cross_val_score\n",
    "from sklearn.preprocessing import StandardScaler\n",
    "from sklearn.neighbors import KNeighborsRegressor\n",
    "from sklearn.ensemble import BaggingRegressor,BaggingClassifier,AdaBoostRegressor,AdaBoostClassifier\n",
    "from statsmodels.stats.outliers_influence import variance_inflation_factor\n",
    "from sklearn.model_selection import GridSearchCV, ParameterGrid, StratifiedKFold, RandomizedSearchCV\n",
    "from statsmodels.tools.tools import add_constant\n",
    "import xgboost as xgb\n",
    "from lightgbm import LGBMRegressor\n",
    "from catboost import CatBoostRegressor\n",
    "import time\n",
    "\n",
    "import warnings\n",
    "warnings.filterwarnings(\"ignore\")"
   ]
  },
  {
   "cell_type": "markdown",
   "id": "f9cd2008",
   "metadata": {},
   "source": [
    "## Prophet Feature Selection, so Dropping All Lag and Rolling"
   ]
  },
  {
   "cell_type": "code",
   "execution_count": 2,
   "id": "c704471d",
   "metadata": {},
   "outputs": [],
   "source": [
    "covid_df = pd.read_csv('nc_multi_df.csv', parse_dates=['Date'])\n",
    "covid_df.drop(columns = ['PROVINCE_STATE_NAME'], inplace = True)\n",
    "covid_df = covid_df.rename(columns={'Date': 'ds', 'PEOPLE_POSITIVE_NEW_CASES_COUNT': 'y'})\n",
    "covid_df = covid_df.drop(['new_cases_1 lag', 'new_cases_2_lag', 'new_cases_3_lag', 'new_cases_4_lag', 'new_cases_7_lag', 'new_cases_30_lag', 'new_cases_50_lag', 'new_cases_150_lag', 'new_cases_350_lag', 'new_deaths_1_lag', 'new_deaths_2_lag', 'new_deaths_3_lag', 'new_deaths_4_lag', 'new_deaths_7_lag', 'new_deaths_30_lag', 'new_deaths_50_lag'], axis=1)\n",
    "\n",
    "train_size = int(len(covid_df)* 0.85)\n",
    "covid_train = covid_df[0:train_size] # notice here the original test test is never used"
   ]
  },
  {
   "cell_type": "code",
   "execution_count": 3,
   "id": "553cda9d",
   "metadata": {},
   "outputs": [
    {
     "data": {
      "text/plain": [
       "671"
      ]
     },
     "execution_count": 3,
     "metadata": {},
     "output_type": "execute_result"
    }
   ],
   "source": [
    "train_size"
   ]
  },
  {
   "cell_type": "code",
   "execution_count": 4,
   "id": "43008fd9",
   "metadata": {},
   "outputs": [],
   "source": [
    "X_train = covid_train.drop(columns=['ds', 'y'], axis=1)\n",
    "y_train = covid_train['y']"
   ]
  },
  {
   "cell_type": "code",
   "execution_count": 5,
   "id": "9351efe7",
   "metadata": {},
   "outputs": [
    {
     "name": "stdout",
     "output_type": "stream",
     "text": [
      "['PEOPLE_DEATH_NEW_COUNT', 'new_cases_10_std', 'new_cases_10_mean', 'new_hospitalized_patients', 'new_cases_10_max', 'new_deaths_10_mean', 'current_intensive_care_patients', 'rainfall_mm', 'minimum_temperature_celsius', 'maximum_temperature_celsius', 'new_deaths_50_std', 'average_temperature_celsius', 'relative_humidity', 'new_cases_10_min', 'new_cases_50_max', 'new_deaths_10_std', 'new_cases_100_mean', 'dew_point', 'new_deaths_50_mean', 'Series_Complete_5Plus', 'stringency_index', 'Booster_Doses_65Plus', 'booster_rate', 'Booster_Doses', 'new_cases_50_mean', 'Administered_Dose1_Recip_5Plus', 'new_cases_100_std', 'Administered_Dose1_Recip_18Plus', 'new_deaths_100_mean', 'Series_Complete_18Plus']\n"
     ]
    }
   ],
   "source": [
    "model_a = CatBoostRegressor().fit(X_train, y_train, verbose=False)\n",
    "predictors_1 = pd.concat([pd.Series(model_a.feature_importances_),\n",
    "           pd.Series(X_train.columns)],axis=1).sort_values(by = 0,ascending = False).head(30)\n",
    "print(predictors_1[1].to_list())"
   ]
  },
  {
   "cell_type": "code",
   "execution_count": 6,
   "id": "3893745a",
   "metadata": {},
   "outputs": [
    {
     "name": "stdout",
     "output_type": "stream",
     "text": [
      "['new_cases_10_std', 'PEOPLE_DEATH_NEW_COUNT', 'new_cases_10_mean', 'new_hospitalized_patients', 'new_cases_10_max', 'new_deaths_10_mean', 'maximum_temperature_celsius', 'rainfall_mm', 'current_intensive_care_patients', 'relative_humidity', 'new_deaths_10_std', 'dew_point', 'minimum_temperature_celsius', 'average_temperature_celsius', 'new_cases_50_std', 'new_deaths_50_std', 'new_deaths_50_mean', 'new_cases_50_mean', 'new_cases_100_std', 'Booster_Doses', 'Administered_Dose1_Recip', 'new_cases_10_min', 'new_cases_100_mean', 'Administered_Dose1_Recip_5Plus', 'Booster_Doses_50Plus', 'Booster_Doses_65Plus', 'new_deaths_100_std', 'new_deaths_10_max', 'new_deaths_100_mean', 'stringency_index']\n"
     ]
    }
   ],
   "source": [
    "model_b = LGBMRegressor().fit(X_train, y_train, verbose=False)\n",
    "predictors_2 = pd.concat([pd.Series(model_b.feature_importances_),\n",
    "           pd.Series(X_train.columns)],axis=1).sort_values(by = 0,ascending = False).head(30)\n",
    "print(predictors_2[1].to_list())"
   ]
  },
  {
   "cell_type": "code",
   "execution_count": 7,
   "id": "414bbf88",
   "metadata": {},
   "outputs": [
    {
     "name": "stdout",
     "output_type": "stream",
     "text": [
      "['PEOPLE_DEATH_NEW_COUNT', 'new_cases_10_mean', 'new_cases_10_std', 'new_cases_10_max', 'new_deaths_10_mean', 'new_hospitalized_patients', 'minimum_temperature_celsius', 'rainfall_mm', 'current_intensive_care_patients', 'maximum_temperature_celsius', 'new_cases_100_std', 'dew_point', 'Administered_Dose1_Recip_65Plus', 'new_deaths_100_max', 'new_deaths_100_mean', 'new_cases_50_std', 'new_deaths_50_mean', 'relative_humidity', 'new_cases_50_mean', 'new_deaths_10_std', 'new_cases_100_mean', 'Booster_Doses_50Plus', 'new_cases_10_min', 'Series_Complete_5Plus', 'stringency_index', 'Booster_Doses', 'new_deaths_50_min', 'new_deaths_50_std', 'new_deaths_100_std', 'Series_Complete_Yes']\n"
     ]
    }
   ],
   "source": [
    "from sklearn.ensemble import GradientBoostingRegressor,GradientBoostingClassifier, BaggingRegressor,BaggingClassifier,RandomForestRegressor,RandomForestClassifier,AdaBoostRegressor,AdaBoostClassifier\n",
    "\n",
    "model_c = GradientBoostingRegressor().fit(X_train, y_train)\n",
    "predictors_3 = pd.concat([pd.Series(model_c.feature_importances_),\n",
    "           pd.Series(X_train.columns)],axis=1).sort_values(by = 0,ascending = False).head(30)\n",
    "print(predictors_3[1].to_list())"
   ]
  },
  {
   "cell_type": "code",
   "execution_count": 8,
   "id": "f46b63c7",
   "metadata": {},
   "outputs": [
    {
     "name": "stdout",
     "output_type": "stream",
     "text": [
      "['new_cases_10_std', 'PEOPLE_DEATH_NEW_COUNT', 'current_intensive_care_patients', 'new_cases_10_mean', 'minimum_temperature_celsius', 'new_hospitalized_patients', 'new_cases_10_max', 'new_deaths_10_mean', 'maximum_temperature_celsius', 'new_deaths_10_std', 'rainfall_mm', 'vaccination_rate_1dose', 'average_temperature_celsius', 'relative_humidity', 'new_deaths_100_mean', 'new_cases_50_std', 'new_deaths_50_mean', 'booster_rate', 'new_cases_50_mean', 'new_cases_100_mean', 'Administered_Dose1_Recip', 'Booster_Doses', 'dew_point', 'Administered_Dose1_Recip_12Plus', 'Series_Complete_18Plus', 'new_deaths_50_std', 'new_deaths_100_std', 'new_cases_100_std', 'Series_Complete_5Plus', 'vaccination_rate_complete']\n"
     ]
    }
   ],
   "source": [
    "from sklearn.ensemble import BaggingRegressor,BaggingClassifier,AdaBoostRegressor,AdaBoostClassifier\n",
    "from sklearn.tree import DecisionTreeRegressor,DecisionTreeClassifier\n",
    "\n",
    "model_d = AdaBoostRegressor(random_state=1, base_estimator = DecisionTreeRegressor(random_state=1)).fit(X_train, y_train)\n",
    "predictors_4 = pd.concat([pd.Series(model_d.feature_importances_),\n",
    "           pd.Series(X_train.columns)],axis=1).sort_values(by = 0,ascending = False).head(30)\n",
    "print(predictors_4[1].to_list())"
   ]
  },
  {
   "cell_type": "code",
   "execution_count": 9,
   "id": "daedb25e",
   "metadata": {},
   "outputs": [
    {
     "name": "stdout",
     "output_type": "stream",
     "text": [
      "['new_cases_10_mean', 'PEOPLE_DEATH_NEW_COUNT', 'new_cases_10_std', 'new_cases_10_max', 'new_hospitalized_patients', 'current_intensive_care_patients', 'new_deaths_10_mean', 'minimum_temperature_celsius', 'new_deaths_10_std', 'maximum_temperature_celsius', 'rainfall_mm', 'Administered_Dose1_Recip_65Plus', 'average_temperature_celsius', 'Series_Complete_5Plus', 'new_cases_100_std', 'Series_Complete_18Plus', 'dew_point', 'new_cases_50_std', 'new_deaths_50_mean', 'new_deaths_100_mean', 'new_deaths_50_std', 'new_cases_100_mean', 'new_cases_50_mean', 'new_deaths_100_std', 'Booster_Doses_65Plus', 'relative_humidity', 'booster_rate', 'new_cases_100_max', 'Booster_Doses_18Plus', 'Booster_Doses_50Plus']\n"
     ]
    }
   ],
   "source": [
    "from sklearn.ensemble import BaggingRegressor,BaggingClassifier,RandomForestRegressor,RandomForestClassifier\n",
    "\n",
    "model_e = RandomForestRegressor().fit(X_train, y_train)\n",
    "predictors_5 = pd.concat([pd.Series(model_e.feature_importances_), pd.Series(X_train.columns)], axis=1).sort_values(by=0, ascending = False).head(30)\n",
    "print(predictors_5[1].to_list())"
   ]
  },
  {
   "cell_type": "code",
   "execution_count": 10,
   "id": "e7fdfb69",
   "metadata": {},
   "outputs": [
    {
     "name": "stdout",
     "output_type": "stream",
     "text": [
      "Earth Model\n",
      "---------------------------------------------------------------------\n",
      "Basis Function                                  Pruned  Coefficient  \n",
      "---------------------------------------------------------------------\n",
      "(Intercept)                                     No      15979.7      \n",
      "PEOPLE_DEATH_NEW_COUNT                          Yes     None         \n",
      "h(new_cases_10_max-23742)                       No      -9.06734     \n",
      "h(23742-new_cases_10_max)                       Yes     None         \n",
      "h(new_deaths_10_std-58.7636)                    Yes     None         \n",
      "h(58.7636-new_deaths_10_std)                    Yes     None         \n",
      "h(new_cases_10_mean-5070.2)                     No      1.26424      \n",
      "h(5070.2-new_cases_10_mean)                     No      -0.885513    \n",
      "new_deaths_10_mean                              No      -108.291     \n",
      "h(current_intensive_care_patients-960)          No      422.477      \n",
      "h(960-current_intensive_care_patients)          Yes     None         \n",
      "h(current_intensive_care_patients-885)          Yes     None         \n",
      "h(885-current_intensive_care_patients)          Yes     None         \n",
      "h(new_deaths_10_max-166)                        No      -2037.74     \n",
      "h(166-new_deaths_10_max)                        Yes     None         \n",
      "public_information_campaigns                    No      1043.63      \n",
      "h(maximum_temperature_celsius-10.1833)          Yes     None         \n",
      "h(10.1833-maximum_temperature_celsius)          No      209.648      \n",
      "h(Administered_Dose1_Recip_18Plus-6.90717E+06)  No      -11.9873     \n",
      "h(6.90717E+06-Administered_Dose1_Recip_18Plus)  No      0.00527887   \n",
      "h(PEOPLE_DEATH_NEW_COUNT-122)                   No      39.8172      \n",
      "h(122-PEOPLE_DEATH_NEW_COUNT)                   No      -58.6216     \n",
      "h(current_intensive_care_patients-925)          No      -145.906     \n",
      "h(925-current_intensive_care_patients)          Yes     None         \n",
      "h(new_cases_10_std-4904.33)                     No      5.41551      \n",
      "h(4904.33-new_cases_10_std)                     No      22.0782      \n",
      "h(new_cases_50_max-24854)                       No      11.5937      \n",
      "h(24854-new_cases_50_max)                       Yes     None         \n",
      "h(new_cases_10_std-4682.77)                     Yes     None         \n",
      "h(4682.77-new_cases_10_std)                     No      -34.8628     \n",
      "h(Series_Complete_65Plus-1.43873E+06)           No      -25.7563     \n",
      "h(1.43873E+06-Series_Complete_65Plus)           Yes     None         \n",
      "h(Administered_Dose1_Recip_65Plus-1.97998E+06)  No      9.99976      \n",
      "h(1.97998E+06-Administered_Dose1_Recip_65Plus)  No      -0.0131938   \n",
      "h(new_cases_10_std-4456.94)                     Yes     None         \n",
      "h(4456.94-new_cases_10_std)                     No      12.4089      \n",
      "h(vaccination_rate_1dose-0.709623)              No      8.71881e+07  \n",
      "h(0.709623-vaccination_rate_1dose)              Yes     None         \n",
      "h(Administered_Dose1_Recip_5Plus-7.49698E+06)   Yes     None         \n",
      "h(7.49698E+06-Administered_Dose1_Recip_5Plus)   Yes     None         \n",
      "h(Series_Complete_18Plus-5.2573E+06)            No      100.42       \n",
      "h(5.2573E+06-Series_Complete_18Plus)            Yes     None         \n",
      "h(Series_Complete_12Plus-5.60882E+06)           No      -101.742     \n",
      "h(5.60882E+06-Series_Complete_12Plus)           No      -0.00257852  \n",
      "h(Series_Complete_5Plus-5.69946E+06)            No      10.7204      \n",
      "h(5.69946E+06-Series_Complete_5Plus)            Yes     None         \n",
      "new_cases_10_min                                Yes     None         \n",
      "h(new_cases_10_std-4013.06)                     Yes     None         \n",
      "h(4013.06-new_cases_10_std)                     Yes     None         \n",
      "vaccination_policy                              No      -970.503     \n",
      "h(new_deaths_100_mean-53.05)                    No      -449.072     \n",
      "h(53.05-new_deaths_100_mean)                    Yes     None         \n",
      "h(new_deaths_10_mean-53.7)                      Yes     None         \n",
      "h(53.7-new_deaths_10_mean)                      No      -47.5957     \n",
      "h(new_cases_10_min-4638)                        No      2.91138      \n",
      "h(4638-new_cases_10_min)                        Yes     None         \n",
      "new_hospitalized_patients                       Yes     None         \n",
      "---------------------------------------------------------------------\n",
      "MSE: 1848801.0150, GCV: 2351263.3792, RSQ: 0.8309, GRSQ: 0.7855\n"
     ]
    }
   ],
   "source": [
    "# using MARS summary for feature selection\n",
    "model = Earth(max_terms=1000, max_degree=1, feature_importance_type = 'rss') # note, terms in brackets are the hyperparameters \n",
    "model.fit(X_train,y_train)\n",
    "print(model.summary())"
   ]
  },
  {
   "cell_type": "code",
   "execution_count": 11,
   "id": "15338145",
   "metadata": {},
   "outputs": [],
   "source": [
    "def common_member(a, b, c, d, e):\n",
    "    set_1 = set(a)\n",
    "    set_2 = set(b)\n",
    "    set_3 = set(c)\n",
    "    set_4 = set(d)\n",
    "    set_5 = set(e)\n",
    " \n",
    "    if (set_1 & set_2 & set_3 & set_4 & set_5):\n",
    "        print(set_1 & set_2 & set_3 & set_4 & set_5)\n"
   ]
  },
  {
   "cell_type": "code",
   "execution_count": 12,
   "id": "0b7a6577",
   "metadata": {},
   "outputs": [],
   "source": [
    "a = predictors_1[1].to_list()\n",
    "b = predictors_2[1].to_list()\n",
    "c = predictors_3[1].to_list()\n",
    "d = predictors_4[1].to_list()\n",
    "e = predictors_5[1].to_list()"
   ]
  },
  {
   "cell_type": "code",
   "execution_count": 13,
   "id": "ba9212ce",
   "metadata": {},
   "outputs": [
    {
     "name": "stdout",
     "output_type": "stream",
     "text": [
      "{'new_hospitalized_patients', 'new_deaths_10_std', 'new_deaths_50_mean', 'relative_humidity', 'new_cases_50_mean', 'new_cases_100_std', 'new_cases_10_std', 'new_deaths_50_std', 'new_cases_100_mean', 'new_deaths_100_mean', 'maximum_temperature_celsius', 'new_deaths_10_mean', 'PEOPLE_DEATH_NEW_COUNT', 'new_cases_10_mean', 'minimum_temperature_celsius', 'new_cases_10_max', 'rainfall_mm', 'current_intensive_care_patients', 'dew_point'}\n"
     ]
    }
   ],
   "source": [
    "full = common_member(a, b, c, d, e)\n",
    "full"
   ]
  },
  {
   "cell_type": "markdown",
   "id": "294e996d",
   "metadata": {},
   "source": [
    "## XGBoost Feature Selection, includes lag and rolling"
   ]
  },
  {
   "cell_type": "code",
   "execution_count": 14,
   "id": "781ede05",
   "metadata": {},
   "outputs": [],
   "source": [
    "import pandas as pd\n",
    "import numpy as np\n",
    "import statsmodels.formula.api as smf\n",
    "import statsmodels.api as sm\n",
    "from pyearth import Earth\n",
    "from sklearn.impute import KNNImputer\n",
    "from sklearn.model_selection import KFold\n",
    "from sklearn.model_selection import train_test_split, cross_val_predict, cross_val_score\n",
    "from sklearn.preprocessing import StandardScaler\n",
    "from sklearn.neighbors import KNeighborsRegressor\n",
    "from sklearn.ensemble import BaggingRegressor,BaggingClassifier,AdaBoostRegressor,AdaBoostClassifier\n",
    "from statsmodels.stats.outliers_influence import variance_inflation_factor\n",
    "from sklearn.model_selection import GridSearchCV, ParameterGrid, StratifiedKFold, RandomizedSearchCV\n",
    "from statsmodels.tools.tools import add_constant\n",
    "import xgboost as xgb\n",
    "from lightgbm import LGBMRegressor\n",
    "from catboost import CatBoostRegressor\n",
    "import time\n",
    "\n",
    "import warnings\n",
    "warnings.filterwarnings(\"ignore\")"
   ]
  },
  {
   "cell_type": "code",
   "execution_count": 15,
   "id": "d8a17174",
   "metadata": {},
   "outputs": [],
   "source": [
    "covid_df = pd.read_csv('nc_multi_df.csv', parse_dates=['Date'])\n",
    "covid_df.drop(columns = ['PROVINCE_STATE_NAME'], inplace = True)\n",
    "covid_df = covid_df.rename(columns={'Date': 'ds', 'PEOPLE_POSITIVE_NEW_CASES_COUNT': 'y'})\n",
    "\n",
    "train_size = int(len(covid_df)* 0.85)\n",
    "covid_train = covid_df[0:train_size]\n",
    "\n",
    "X_train = covid_train.drop(columns=['ds', 'y'], axis=1)\n",
    "X_train = X_train.astype('float32')\n",
    "y_train = covid_train['y']"
   ]
  },
  {
   "cell_type": "code",
   "execution_count": 16,
   "id": "f1db7f61",
   "metadata": {},
   "outputs": [
    {
     "name": "stdout",
     "output_type": "stream",
     "text": [
      "['PEOPLE_DEATH_NEW_COUNT', 'new_cases_7_lag', 'new_cases_10_mean', 'new_cases_10_std', 'new_cases_1 lag', 'new_deaths_1_lag', 'new_hospitalized_patients', 'current_intensive_care_patients', 'new_cases_10_max', 'new_cases_3_lag', 'new_cases_100_max', 'new_cases_30_lag', 'new_deaths_50_std', 'new_cases_50_max', 'new_cases_4_lag', 'new_cases_100_mean', 'new_deaths_7_lag', 'minimum_temperature_celsius', 'maximum_temperature_celsius', 'Booster_Doses_50Plus', 'rainfall_mm', 'new_cases_50_lag', 'new_deaths_2_lag', 'new_deaths_4_lag', 'new_deaths_50_mean', 'Administered_Dose1_Recip_12Plus', 'new_deaths_3_lag', 'Booster_Doses', 'new_deaths_10_std', 'vaccination_rate_complete', 'new_deaths_30_lag', 'vaccination_rate_1dose', 'new_cases_2_lag', 'new_cases_50_std', 'Series_Complete_18Plus', 'booster_rate', 'dew_point', 'average_temperature_celsius', 'new_deaths_10_mean', 'new_cases_150_lag']\n"
     ]
    }
   ],
   "source": [
    "model_a = CatBoostRegressor().fit(X_train, y_train, verbose=False)\n",
    "predictors_7 = pd.concat([pd.Series(model_a.feature_importances_),\n",
    "           pd.Series(X_train.columns)],axis=1).sort_values(by = 0,ascending = False).head(40)\n",
    "print(predictors_7[1].to_list())"
   ]
  },
  {
   "cell_type": "code",
   "execution_count": 17,
   "id": "521567e7",
   "metadata": {},
   "outputs": [
    {
     "name": "stdout",
     "output_type": "stream",
     "text": [
      "['new_cases_7_lag', 'PEOPLE_DEATH_NEW_COUNT', 'new_cases_10_std', 'new_cases_10_mean', 'new_cases_10_max', 'new_cases_1 lag', 'new_cases_3_lag', 'new_cases_2_lag', 'new_cases_30_lag', 'new_hospitalized_patients', 'new_deaths_3_lag', 'new_deaths_1_lag', 'relative_humidity', 'new_deaths_4_lag', 'current_intensive_care_patients', 'new_deaths_30_lag', 'new_deaths_7_lag', 'rainfall_mm', 'new_deaths_50_lag', 'new_deaths_2_lag', 'average_temperature_celsius', 'minimum_temperature_celsius', 'maximum_temperature_celsius', 'new_cases_150_lag', 'new_deaths_10_mean', 'new_cases_4_lag', 'Administered_Dose1_Recip', 'new_deaths_10_std', 'new_cases_100_std', 'new_cases_50_std']\n"
     ]
    }
   ],
   "source": [
    "model_b = LGBMRegressor().fit(X_train, y_train, verbose=False)\n",
    "predictors_8 = pd.concat([pd.Series(model_b.feature_importances_),\n",
    "           pd.Series(X_train.columns)],axis=1).sort_values(by = 0,ascending = False).head(30)\n",
    "print(predictors_8[1].to_list())"
   ]
  },
  {
   "cell_type": "code",
   "execution_count": 18,
   "id": "e085bb4e",
   "metadata": {},
   "outputs": [
    {
     "name": "stdout",
     "output_type": "stream",
     "text": [
      "['new_cases_7_lag', 'new_cases_10_max', 'facial_coverings', 'new_cases_10_mean', 'new_cases_10_std', 'new_deaths_1_lag', 'PEOPLE_DEATH_NEW_COUNT', 'rainfall_mm', 'new_deaths_50_std', 'new_deaths_50_lag', 'new_hospitalized_patients', 'new_cases_3_lag', 'new_cases_1 lag', 'minimum_temperature_celsius', 'new_cases_100_mean', 'new_cases_2_lag', 'new_deaths_100_std', 'Booster_Doses_65Plus', 'current_intensive_care_patients', 'new_deaths_10_std', 'Administered_Dose1_Recip_5Plus', 'new_deaths_7_lag', 'new_cases_50_std', 'new_deaths_50_min', 'new_deaths_100_max', 'average_temperature_celsius', 'Administered_Dose1_Recip', 'new_deaths_50_mean', 'new_deaths_10_mean', 'new_cases_100_std']\n"
     ]
    }
   ],
   "source": [
    "model_g = xgb.XGBRegressor().fit(X_train, y_train, verbose=False)\n",
    "predictors_6 = pd.concat([pd.Series(model_g.feature_importances_),\n",
    "           pd.Series(X_train.columns)],axis=1).sort_values(by = 0,ascending = False).head(30)\n",
    "print(predictors_6[1].to_list())"
   ]
  },
  {
   "cell_type": "code",
   "execution_count": 19,
   "id": "16887329",
   "metadata": {},
   "outputs": [
    {
     "name": "stdout",
     "output_type": "stream",
     "text": [
      "Earth Model\n",
      "------------------------------------------------------------------------\n",
      "Basis Function                                     Pruned  Coefficient  \n",
      "------------------------------------------------------------------------\n",
      "(Intercept)                                        No      -64597.6     \n",
      "PEOPLE_DEATH_NEW_COUNT                             No      26.2575      \n",
      "h(new_cases_10_max-23742)                          No      1.06409      \n",
      "h(23742-new_cases_10_max)                          Yes     None         \n",
      "present(new_cases_7_lag)                           Yes     None         \n",
      "missing(new_cases_7_lag)                           Yes     None         \n",
      "h(new_cases_7_lag-5532)*present(new_cases_7_lag)   No      -0.171864    \n",
      "h(5532-new_cases_7_lag)*present(new_cases_7_lag)   Yes     None         \n",
      "present(new_deaths_7_lag)                          Yes     None         \n",
      "missing(new_deaths_7_lag)                          No      -5238.07     \n",
      "h(new_deaths_7_lag-122)*present(new_deaths_7_lag)  Yes     None         \n",
      "h(122-new_deaths_7_lag)*present(new_deaths_7_lag)  No      7.09596      \n",
      "present(new_cases_1 lag)                           Yes     None         \n",
      "missing(new_cases_1 lag)                           No      3010.57      \n",
      "h(new_cases_1 lag-10236)*present(new_cases_1 lag)  No      -0.799232    \n",
      "h(10236-new_cases_1 lag)*present(new_cases_1 lag)  No      0.61346      \n",
      "present(new_cases_2_lag)                           Yes     None         \n",
      "missing(new_cases_2_lag)                           Yes     None         \n",
      "new_cases_2_lag*present(new_cases_2_lag)           Yes     None         \n",
      "h(new_cases_10_mean-5070.2)                        Yes     None         \n",
      "h(5070.2-new_cases_10_mean)                        Yes     None         \n",
      "h(new_deaths_10_mean-53.7)                         No      -63.0543     \n",
      "h(53.7-new_deaths_10_mean)                         Yes     None         \n",
      "present(new_cases_3_lag)                           Yes     None         \n",
      "missing(new_cases_3_lag)                           Yes     None         \n",
      "new_cases_3_lag*present(new_cases_3_lag)           No      -0.134629    \n",
      "h(current_intensive_care_patients-960)             Yes     None         \n",
      "h(960-current_intensive_care_patients)             No      116.526      \n",
      "h(new_deaths_100_std-36.1206)                      No      681.57       \n",
      "h(36.1206-new_deaths_100_std)                      Yes     None         \n",
      "h(new_deaths_10_std-40.4854)                       No      113.645      \n",
      "h(40.4854-new_deaths_10_std)                       No      36.1788      \n",
      "h(new_cases_100_max-24854)                         Yes     None         \n",
      "h(24854-new_cases_100_max)                         No      -0.233476    \n",
      "present(new_cases_4_lag)                           No      3186.52      \n",
      "missing(new_cases_4_lag)                           Yes     None         \n",
      "new_cases_4_lag*present(new_cases_4_lag)           Yes     None         \n",
      "h(new_cases_100_std-1163.22)                       No      -1.87647     \n",
      "h(1163.22-new_cases_100_std)                       Yes     None         \n",
      "h(Administered_Dose1_Recip_5Plus-5.08746E+06)      No      -0.00101836  \n",
      "h(5.08746E+06-Administered_Dose1_Recip_5Plus)      Yes     None         \n",
      "h(new_deaths_50_std-49.0267)                       Yes     None         \n",
      "h(49.0267-new_deaths_50_std)                       Yes     None         \n",
      "Vaccine_available                                  No      -1643.91     \n",
      "present(new_deaths_1_lag)                          Yes     None         \n",
      "missing(new_deaths_1_lag)                          Yes     None         \n",
      "new_deaths_1_lag*present(new_deaths_1_lag)         No      10.9407      \n",
      "h(maximum_temperature_celsius-11.0309)             Yes     None         \n",
      "h(11.0309-maximum_temperature_celsius)             Yes     None         \n",
      "h(new_cases_2_lag-6693)*present(new_cases_2_lag)   No      -0.377976    \n",
      "h(6693-new_cases_2_lag)*present(new_cases_2_lag)   No      0.706536     \n",
      "present(new_deaths_2_lag)                          Yes     None         \n",
      "missing(new_deaths_2_lag)                          Yes     None         \n",
      "new_deaths_2_lag*present(new_deaths_2_lag)         No      10.2206      \n",
      "h(Series_Complete_65Plus-140121)                   No      0.0101071    \n",
      "h(140121-Series_Complete_65Plus)                   Yes     None         \n",
      "h(new_cases_10_std-260.144)                        Yes     None         \n",
      "h(260.144-new_cases_10_std)                        No      7.43133      \n",
      "h(new_cases_4_lag-5532)*present(new_cases_4_lag)   Yes     None         \n",
      "h(5532-new_cases_4_lag)*present(new_cases_4_lag)   No      0.126974     \n",
      "h(new_cases_100_std-796.745)                       Yes     None         \n",
      "h(796.745-new_cases_100_std)                       No      1.35531      \n",
      "h(new_cases_10_mean-6444.7)                        No      2.17437      \n",
      "h(6444.7-new_cases_10_mean)                        No      -3.816       \n",
      "contact_tracing                                    No      3415.33      \n",
      "h(Administered_Dose1_Recip_65Plus-1.50802E+06)     No      0.44227      \n",
      "h(1.50802E+06-Administered_Dose1_Recip_65Plus)     No      0.00894997   \n",
      "h(Administered_Dose1_Recip_65Plus-1.46227E+06)     No      -0.413737    \n",
      "h(1.46227E+06-Administered_Dose1_Recip_65Plus)     Yes     None         \n",
      "h(new_cases_50_std-738.244)                        No      1.2554       \n",
      "h(738.244-new_cases_50_std)                        No      1.99852      \n",
      "h(new_cases_100_std-2075.56)                       No      5.79538      \n",
      "h(2075.56-new_cases_100_std)                       Yes     None         \n",
      "h(new_deaths_100_std-39.7098)                      No      -1175.92     \n",
      "h(39.7098-new_deaths_100_std)                      Yes     None         \n",
      "h(current_intensive_care_patients-497)             No      96.4023      \n",
      "h(497-current_intensive_care_patients)             No      -105.887     \n",
      "h(new_deaths_100_mean-28.9)                        No      -180.337     \n",
      "h(28.9-new_deaths_100_mean)                        No      38.3247      \n",
      "h(relative_humidity-93.259)                        No      209.08       \n",
      "h(93.259-relative_humidity)                        Yes     None         \n",
      "h(new_cases_7_lag-850)*present(new_cases_7_lag)    No      0.266624     \n",
      "h(850-new_cases_7_lag)*present(new_cases_7_lag)    No      -0.853622    \n",
      "------------------------------------------------------------------------\n",
      "MSE: 663679.0740, GCV: 952855.6439, RSQ: 0.9393, GRSQ: 0.9131\n"
     ]
    }
   ],
   "source": [
    "model = Earth(max_terms=1000, max_degree=1, feature_importance_type = 'rss', allow_missing=True) \n",
    "model.fit(X_train,y_train)\n",
    "print(model.summary())"
   ]
  },
  {
   "cell_type": "code",
   "execution_count": 20,
   "id": "fa55033a",
   "metadata": {},
   "outputs": [],
   "source": [
    "def common_member(a, b, c):\n",
    "    set_1 = set(a)\n",
    "    set_2 = set(b)\n",
    "    set_3 = set(c)\n",
    " \n",
    "    if (set_1 & set_2 & set_3):\n",
    "        print(set_1 & set_2 & set_3)\n"
   ]
  },
  {
   "cell_type": "code",
   "execution_count": 21,
   "id": "b466004a",
   "metadata": {},
   "outputs": [],
   "source": [
    "a = predictors_7[1].to_list()\n",
    "b = predictors_8[1].to_list()\n",
    "c = predictors_6[1].to_list()"
   ]
  },
  {
   "cell_type": "code",
   "execution_count": 22,
   "id": "427e1e31",
   "metadata": {},
   "outputs": [
    {
     "name": "stdout",
     "output_type": "stream",
     "text": [
      "{'new_deaths_10_mean', 'PEOPLE_DEATH_NEW_COUNT', 'new_hospitalized_patients', 'new_deaths_10_std', 'new_cases_10_mean', 'minimum_temperature_celsius', 'new_deaths_7_lag', 'new_cases_10_max', 'current_intensive_care_patients', 'new_cases_50_std', 'rainfall_mm', 'average_temperature_celsius', 'new_cases_1 lag', 'new_deaths_1_lag', 'new_cases_3_lag', 'new_cases_7_lag', 'new_cases_10_std', 'new_cases_2_lag'}\n"
     ]
    }
   ],
   "source": [
    "full = common_member(a, b, c)\n",
    "full"
   ]
  },
  {
   "cell_type": "code",
   "execution_count": null,
   "id": "280036a3",
   "metadata": {},
   "outputs": [],
   "source": []
  },
  {
   "cell_type": "code",
   "execution_count": null,
   "id": "791f1b4d",
   "metadata": {},
   "outputs": [],
   "source": []
  },
  {
   "cell_type": "code",
   "execution_count": null,
   "id": "ca9a3e03",
   "metadata": {},
   "outputs": [],
   "source": []
  }
 ],
 "metadata": {
  "kernelspec": {
   "display_name": "Python 3 (ipykernel)",
   "language": "python",
   "name": "python3"
  },
  "language_info": {
   "codemirror_mode": {
    "name": "ipython",
    "version": 3
   },
   "file_extension": ".py",
   "mimetype": "text/x-python",
   "name": "python",
   "nbconvert_exporter": "python",
   "pygments_lexer": "ipython3",
   "version": "3.9.12"
  }
 },
 "nbformat": 4,
 "nbformat_minor": 5
}
