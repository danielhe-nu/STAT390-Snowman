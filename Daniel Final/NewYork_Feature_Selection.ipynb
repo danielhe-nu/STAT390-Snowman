{
 "cells": [
  {
   "cell_type": "code",
   "execution_count": 1,
   "id": "a7149568",
   "metadata": {},
   "outputs": [],
   "source": [
    "import pandas as pd\n",
    "import numpy as np\n",
    "import statsmodels.formula.api as smf\n",
    "import statsmodels.api as sm\n",
    "from pyearth import Earth\n",
    "from sklearn.impute import KNNImputer\n",
    "from sklearn.model_selection import KFold\n",
    "from sklearn.model_selection import train_test_split, cross_val_predict, cross_val_score\n",
    "from sklearn.preprocessing import StandardScaler\n",
    "from sklearn.neighbors import KNeighborsRegressor\n",
    "from sklearn.ensemble import BaggingRegressor,BaggingClassifier,AdaBoostRegressor,AdaBoostClassifier\n",
    "from statsmodels.stats.outliers_influence import variance_inflation_factor\n",
    "from sklearn.model_selection import GridSearchCV, ParameterGrid, StratifiedKFold, RandomizedSearchCV\n",
    "from statsmodels.tools.tools import add_constant\n",
    "import xgboost as xgb\n",
    "from lightgbm import LGBMRegressor\n",
    "from catboost import CatBoostRegressor\n",
    "import time\n",
    "\n",
    "import warnings\n",
    "warnings.filterwarnings(\"ignore\")"
   ]
  },
  {
   "cell_type": "code",
   "execution_count": 2,
   "id": "c704471d",
   "metadata": {},
   "outputs": [],
   "source": [
    "covid_df = pd.read_csv('ny_multi_df.csv', parse_dates=['Date'])\n",
    "covid_df.drop(columns = ['PROVINCE_STATE_NAME'], inplace = True)\n",
    "covid_df = covid_df.rename(columns={'Date': 'ds', 'PEOPLE_POSITIVE_NEW_CASES_COUNT': 'y'})\n",
    "\n",
    "train_size = int(len(covid_df)* 0.85)\n",
    "covid_train, covid_test = covid_df[0:train_size], covid_df[train_size:]"
   ]
  },
  {
   "cell_type": "code",
   "execution_count": 3,
   "id": "43008fd9",
   "metadata": {},
   "outputs": [],
   "source": [
    "X_train = covid_train.drop(columns=['ds', 'y'], axis=1)\n",
    "y_train = covid_train['y']"
   ]
  },
  {
   "cell_type": "code",
   "execution_count": 4,
   "id": "9351efe7",
   "metadata": {},
   "outputs": [
    {
     "name": "stdout",
     "output_type": "stream",
     "text": [
      "['new_cases_10_mean', 'new_cases_10_min', 'new_cases_7_lag', 'new_cases_1 lag', 'new_cases_3_lag', 'minimum_temperature_celsius', 'new_cases_10_max', 'booster_rate', 'Administered_Dose1_Recip_5Plus', 'new_cases_2_lag', 'PEOPLE_DEATH_NEW_COUNT', 'new_hospitalized_patients', 'new_cases_4_lag', 'Booster_Doses_18Plus', 'new_cases_50_max', 'vaccination_rate_complete', 'Series_Complete_18Plus', 'new_cases_10_std', 'Administered_Dose1_Recip_18Plus', 'new_cases_50_min', 'Administered_Dose1_Recip_65Plus', 'Series_Complete_5Plus', 'new_cases_100_std', 'new_cases_150_lag', 'new_cases_50_lag', 'Booster_Doses_50Plus', 'vaccination_rate_1dose', 'new_cases_50_std', 'dew_point', 'new_cases_100_max', 'new_cases_30_lag', 'new_cases_350_lag', 'Administered_Dose1_Recip_12Plus', 'new_deaths_2_lag', 'Series_Complete_65Plus', 'new_deaths_50_lag', 'Booster_Doses_65Plus', 'Series_Complete_12Plus', 'relative_humidity', 'Series_Complete_Yes']\n"
     ]
    }
   ],
   "source": [
    "model_a = CatBoostRegressor().fit(X_train, y_train, verbose=False)\n",
    "predictors_1 = pd.concat([pd.Series(model_a.feature_importances_),\n",
    "           pd.Series(X_train.columns)],axis=1).sort_values(by = 0,ascending = False).head(40)\n",
    "print(predictors_1[1].to_list())"
   ]
  },
  {
   "cell_type": "code",
   "execution_count": 5,
   "id": "3893745a",
   "metadata": {},
   "outputs": [
    {
     "name": "stdout",
     "output_type": "stream",
     "text": [
      "['new_cases_1 lag', 'new_cases_7_lag', 'new_cases_3_lag', 'new_cases_10_std', 'new_cases_4_lag', 'new_cases_350_lag', 'new_cases_10_mean', 'new_cases_2_lag', 'relative_humidity', 'new_cases_10_max', 'new_cases_30_lag', 'new_hospitalized_patients', 'new_cases_100_std', 'new_cases_10_min', 'new_cases_150_lag', 'maximum_temperature_celsius', 'dew_point', 'new_deaths_10_std', 'rainfall_mm', 'new_cases_50_mean', 'current_intensive_care_patients', 'new_cases_50_std', 'new_deaths_7_lag', 'new_deaths_1_lag', 'minimum_temperature_celsius', 'average_temperature_celsius', 'new_deaths_3_lag', 'new_deaths_50_std', 'PEOPLE_DEATH_NEW_COUNT', 'new_cases_50_lag', 'new_deaths_2_lag', 'new_deaths_100_mean', 'new_deaths_10_mean', 'new_deaths_4_lag', 'new_deaths_30_lag', 'Administered_Dose1_Recip', 'new_deaths_50_lag', 'new_cases_100_mean', 'new_deaths_100_std', 'Administered_Dose1_Recip_5Plus']\n"
     ]
    }
   ],
   "source": [
    "model_b = LGBMRegressor().fit(X_train, y_train, verbose=False)\n",
    "predictors_2 = pd.concat([pd.Series(model_b.feature_importances_),\n",
    "           pd.Series(X_train.columns)],axis=1).sort_values(by = 0,ascending = False).head(40)\n",
    "print(predictors_2[1].to_list())"
   ]
  },
  {
   "cell_type": "code",
   "execution_count": 6,
   "id": "414bbf88",
   "metadata": {},
   "outputs": [
    {
     "name": "stdout",
     "output_type": "stream",
     "text": [
      "['new_cases_10_max', 'new_cases_10_mean', 'new_cases_1 lag', 'new_cases_7_lag', 'new_cases_50_std', 'new_cases_350_lag', 'new_cases_10_std', 'new_cases_2_lag', 'new_deaths_1_lag', 'PEOPLE_DEATH_NEW_COUNT', 'minimum_temperature_celsius', 'new_hospitalized_patients', 'new_cases_150_lag', 'new_cases_30_lag', 'new_deaths_50_lag', 'new_deaths_30_lag', 'new_deaths_50_mean', 'average_temperature_celsius', 'maximum_temperature_celsius', 'new_cases_3_lag', 'new_cases_4_lag', 'new_deaths_10_mean', 'new_deaths_7_lag', 'dew_point', 'new_cases_100_mean', 'new_deaths_100_mean', 'new_deaths_10_std', 'new_cases_10_min', 'new_deaths_100_std', 'rainfall_mm', 'current_intensive_care_patients', 'new_deaths_4_lag', 'Administered_Dose1_Recip_18Plus', 'new_cases_100_std', 'relative_humidity', 'new_deaths_50_min', 'new_deaths_3_lag', 'Series_Complete_5Plus', 'new_deaths_2_lag', 'Series_Complete_18Plus']\n"
     ]
    }
   ],
   "source": [
    "from sklearn.ensemble import GradientBoostingRegressor,GradientBoostingClassifier, BaggingRegressor,BaggingClassifier,RandomForestRegressor,RandomForestClassifier,AdaBoostRegressor,AdaBoostClassifier\n",
    "\n",
    "model_c = GradientBoostingRegressor().fit(X_train, y_train)\n",
    "predictors_3 = pd.concat([pd.Series(model_c.feature_importances_),\n",
    "           pd.Series(X_train.columns)],axis=1).sort_values(by = 0,ascending = False).head(40)\n",
    "print(predictors_3[1].to_list())"
   ]
  },
  {
   "cell_type": "code",
   "execution_count": 7,
   "id": "f46b63c7",
   "metadata": {},
   "outputs": [
    {
     "name": "stdout",
     "output_type": "stream",
     "text": [
      "['new_cases_10_mean', 'new_cases_50_std', 'new_cases_10_max', 'new_cases_10_min', 'new_cases_3_lag', 'Booster_Doses_18Plus', 'new_cases_1 lag', 'Series_Complete_12Plus', 'Administered_Dose1_Recip_5Plus', 'new_cases_350_lag', 'minimum_temperature_celsius', 'new_cases_2_lag', 'new_cases_7_lag', 'PEOPLE_DEATH_NEW_COUNT', 'new_hospitalized_patients', 'new_cases_50_lag', 'dew_point', 'new_deaths_1_lag', 'relative_humidity', 'new_deaths_3_lag', 'new_cases_10_std', 'new_cases_150_lag', 'rainfall_mm', 'new_deaths_50_lag', 'new_cases_4_lag', 'new_deaths_10_mean', 'Series_Complete_Yes', 'vaccination_rate_complete', 'new_cases_30_lag', 'new_deaths_2_lag', 'Series_Complete_65Plus', 'new_deaths_50_std', 'Administered_Dose1_Recip', 'new_cases_100_mean', 'Administered_Dose1_Recip_12Plus', 'new_deaths_10_std', 'booster_rate', 'new_deaths_30_lag', 'Booster_Doses_65Plus', 'average_temperature_celsius']\n"
     ]
    }
   ],
   "source": [
    "from sklearn.ensemble import BaggingRegressor,BaggingClassifier,AdaBoostRegressor,AdaBoostClassifier\n",
    "from sklearn.tree import DecisionTreeRegressor,DecisionTreeClassifier\n",
    "\n",
    "model_d = AdaBoostRegressor(random_state=1, base_estimator = DecisionTreeRegressor(random_state=1)).fit(X_train, y_train)\n",
    "predictors_4 = pd.concat([pd.Series(model_d.feature_importances_),\n",
    "           pd.Series(X_train.columns)],axis=1).sort_values(by = 0,ascending = False).head(40)\n",
    "print(predictors_4[1].to_list())"
   ]
  },
  {
   "cell_type": "code",
   "execution_count": 8,
   "id": "daedb25e",
   "metadata": {},
   "outputs": [
    {
     "name": "stdout",
     "output_type": "stream",
     "text": [
      "['new_cases_10_mean', 'new_cases_1 lag', 'new_cases_10_max', 'new_cases_50_std', 'Booster_Doses_65Plus', 'new_cases_3_lag', 'new_cases_350_lag', 'new_cases_10_min', 'new_cases_2_lag', 'new_cases_10_std', 'new_cases_7_lag', 'Booster_Doses', 'booster_rate', 'new_cases_100_std', 'Administered_Dose1_Recip_65Plus', 'Administered_Dose1_Recip', 'Series_Complete_12Plus', 'Series_Complete_5Plus', 'Administered_Dose1_Recip_5Plus', 'Booster_Doses_50Plus', 'Series_Complete_Yes', 'relative_humidity', 'new_deaths_1_lag', 'PEOPLE_DEATH_NEW_COUNT', 'Series_Complete_18Plus', 'vaccination_rate_1dose', 'vaccination_rate_complete', 'Booster_Doses_18Plus', 'new_cases_150_lag', 'Administered_Dose1_Recip_12Plus', 'new_hospitalized_patients', 'new_deaths_10_std', 'Series_Complete_65Plus', 'minimum_temperature_celsius', 'Administered_Dose1_Recip_18Plus', 'new_cases_30_lag', 'new_deaths_30_lag', 'new_cases_50_lag', 'new_deaths_3_lag', 'new_deaths_4_lag']\n"
     ]
    }
   ],
   "source": [
    "from sklearn.ensemble import BaggingRegressor,BaggingClassifier,RandomForestRegressor,RandomForestClassifier\n",
    "\n",
    "model_e = RandomForestRegressor().fit(X_train, y_train)\n",
    "predictors_5 = pd.concat([pd.Series(model_e.feature_importances_), pd.Series(X_train.columns)], axis=1).sort_values(by=0, ascending = False).head(40)\n",
    "print(predictors_5[1].to_list())"
   ]
  },
  {
   "cell_type": "code",
   "execution_count": 9,
   "id": "e7fdfb69",
   "metadata": {},
   "outputs": [
    {
     "name": "stdout",
     "output_type": "stream",
     "text": [
      "Earth Model\n",
      "--------------------------------------------------------\n",
      "Basis Function                     Pruned  Coefficient  \n",
      "--------------------------------------------------------\n",
      "(Intercept)                        No      8776         \n",
      "h(new_cases_10_mean-9816.9)        No      8.5099       \n",
      "h(9816.9-new_cases_10_mean)        No      -2.432       \n",
      "h(new_cases_1 lag-10319)           No      -1.47548     \n",
      "h(10319-new_cases_1 lag)           No      -0.150382    \n",
      "h(new_cases_2_lag-10074)           No      -1.50665     \n",
      "h(10074-new_cases_2_lag)           No      0.208379     \n",
      "h(new_cases_50_mean-7090.86)       No      -1.27292     \n",
      "h(7090.86-new_cases_50_mean)       No      0.691411     \n",
      "h(new_cases_3_lag-6051)            No      -1.30049     \n",
      "h(6051-new_cases_3_lag)            No      1.49935      \n",
      "h(new_hospitalized_patients-1083)  No      -29.1863     \n",
      "h(1083-new_hospitalized_patients)  No      -1.43724     \n",
      "h(new_cases_10_mean-6680)          Yes     None         \n",
      "h(6680-new_cases_10_mean)          No      1.00347      \n",
      "h(Completeness_pct-3939.6)         No      6.4619       \n",
      "h(3939.6-Completeness_pct)         No      -3.08684     \n",
      "h(new_cases_10_std-2027.37)        Yes     None         \n",
      "h(2027.37-new_cases_10_std)        No      -0.891598    \n",
      "h(new_cases_50_max-12548)          No      0.92849      \n",
      "h(12548-new_cases_50_max)          No      -0.175121    \n",
      "new_cases_4_lag                    Yes     None         \n",
      "h(new_cases_3_lag-10036)           Yes     None         \n",
      "h(10036-new_cases_3_lag)           No      -1.20687     \n",
      "h(Series_Complete_18Plus-95327)    No      0.000293957  \n",
      "h(95327-Series_Complete_18Plus)    No      0.458454     \n",
      "h(Series_Complete_65Plus-18198)    No      -0.00139391  \n",
      "h(18198-Series_Complete_65Plus)    No      -1.19268     \n",
      "new_cases_50_min                   No      0.46458      \n",
      "h(new_cases_4_lag-7674)            No      -0.508092    \n",
      "h(7674-new_cases_4_lag)            No      0.218864     \n",
      "--------------------------------------------------------\n",
      "MSE: 193300.9908, GCV: 237776.1939, RSQ: 0.9836, GRSQ: 0.9799\n"
     ]
    }
   ],
   "source": [
    "# using MARS summary for feature selection\n",
    "model = Earth(max_terms=1000, max_degree=1, feature_importance_type = 'rss') # note, terms in brackets are the hyperparameters \n",
    "model.fit(X_train,y_train)\n",
    "print(model.summary())"
   ]
  },
  {
   "cell_type": "code",
   "execution_count": 10,
   "id": "15338145",
   "metadata": {},
   "outputs": [],
   "source": [
    "def common_member(a, b, c, d, e):\n",
    "    set_1 = set(a)\n",
    "    set_2 = set(b)\n",
    "    set_3 = set(c)\n",
    "    set_4 = set(d)\n",
    "    set_5 = set(e)\n",
    " \n",
    "    if (set_1 & set_2 & set_3 & set_4 & set_5):\n",
    "        print(set_1 & set_2 & set_3 & set_4 & set_5)\n"
   ]
  },
  {
   "cell_type": "code",
   "execution_count": 11,
   "id": "0b7a6577",
   "metadata": {},
   "outputs": [],
   "source": [
    "a = predictors_1[1].to_list()\n",
    "b = predictors_2[1].to_list()\n",
    "c = predictors_3[1].to_list()\n",
    "d = predictors_4[1].to_list()\n",
    "e = predictors_5[1].to_list()"
   ]
  },
  {
   "cell_type": "code",
   "execution_count": 12,
   "id": "ba9212ce",
   "metadata": {},
   "outputs": [
    {
     "name": "stdout",
     "output_type": "stream",
     "text": [
      "{'PEOPLE_DEATH_NEW_COUNT', 'new_cases_10_mean', 'new_cases_350_lag', 'new_cases_1 lag', 'new_cases_150_lag', 'new_cases_2_lag', 'new_cases_30_lag', 'minimum_temperature_celsius', 'new_cases_10_std', 'new_hospitalized_patients', 'new_cases_10_max', 'new_cases_7_lag', 'new_cases_10_min', 'relative_humidity', 'new_cases_3_lag', 'new_cases_50_std'}\n"
     ]
    }
   ],
   "source": [
    "full = common_member(a, b, c, d, e)\n",
    "full"
   ]
  },
  {
   "cell_type": "code",
   "execution_count": null,
   "id": "48a7d096",
   "metadata": {},
   "outputs": [],
   "source": []
  }
 ],
 "metadata": {
  "kernelspec": {
   "display_name": "Python 3 (ipykernel)",
   "language": "python",
   "name": "python3"
  },
  "language_info": {
   "codemirror_mode": {
    "name": "ipython",
    "version": 3
   },
   "file_extension": ".py",
   "mimetype": "text/x-python",
   "name": "python",
   "nbconvert_exporter": "python",
   "pygments_lexer": "ipython3",
   "version": "3.9.12"
  }
 },
 "nbformat": 4,
 "nbformat_minor": 5
}
