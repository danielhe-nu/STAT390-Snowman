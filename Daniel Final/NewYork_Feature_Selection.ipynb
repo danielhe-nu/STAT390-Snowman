{
 "cells": [
  {
   "cell_type": "code",
   "execution_count": 1,
   "id": "a7149568",
   "metadata": {},
   "outputs": [],
   "source": [
    "import pandas as pd\n",
    "import numpy as np\n",
    "import statsmodels.formula.api as smf\n",
    "import statsmodels.api as sm\n",
    "from pyearth import Earth\n",
    "from sklearn.impute import KNNImputer\n",
    "from sklearn.model_selection import KFold\n",
    "from sklearn.model_selection import train_test_split, cross_val_predict, cross_val_score\n",
    "from sklearn.preprocessing import StandardScaler\n",
    "from sklearn.neighbors import KNeighborsRegressor\n",
    "from sklearn.ensemble import BaggingRegressor,BaggingClassifier,AdaBoostRegressor,AdaBoostClassifier\n",
    "from statsmodels.stats.outliers_influence import variance_inflation_factor\n",
    "from sklearn.model_selection import GridSearchCV, ParameterGrid, StratifiedKFold, RandomizedSearchCV\n",
    "from statsmodels.tools.tools import add_constant\n",
    "import xgboost as xgb\n",
    "from lightgbm import LGBMRegressor\n",
    "from catboost import CatBoostRegressor\n",
    "import time\n",
    "\n",
    "import warnings\n",
    "warnings.filterwarnings(\"ignore\")"
   ]
  },
  {
   "cell_type": "markdown",
   "id": "f9cd2008",
   "metadata": {},
   "source": [
    "## Prophet Feature Selection, so Dropping All Lag and Rolling"
   ]
  },
  {
   "cell_type": "code",
   "execution_count": 2,
   "id": "c704471d",
   "metadata": {},
   "outputs": [],
   "source": [
    "covid_df = pd.read_csv('ny_multi_df.csv', parse_dates=['Date'])\n",
    "covid_df.drop(columns = ['PROVINCE_STATE_NAME'], inplace = True)\n",
    "covid_df = covid_df.rename(columns={'Date': 'ds', 'PEOPLE_POSITIVE_NEW_CASES_COUNT': 'y'})\n",
    "covid_df = covid_df.drop(['new_cases_1 lag', 'new_cases_2_lag', 'new_cases_3_lag', 'new_cases_4_lag', 'new_cases_7_lag', 'new_cases_30_lag', 'new_cases_50_lag', 'new_cases_150_lag', 'new_cases_350_lag', 'new_deaths_1_lag', 'new_deaths_2_lag', 'new_deaths_3_lag', 'new_deaths_4_lag', 'new_deaths_7_lag', 'new_deaths_30_lag', 'new_deaths_50_lag'], axis=1)\n",
    "\n",
    "train_size = int(len(covid_df)* 0.85)\n",
    "covid_train = covid_df[0:train_size] # notice here the original test test is never used"
   ]
  },
  {
   "cell_type": "code",
   "execution_count": 3,
   "id": "553cda9d",
   "metadata": {},
   "outputs": [
    {
     "data": {
      "text/plain": [
       "671"
      ]
     },
     "execution_count": 3,
     "metadata": {},
     "output_type": "execute_result"
    }
   ],
   "source": [
    "train_size"
   ]
  },
  {
   "cell_type": "code",
   "execution_count": 4,
   "id": "43008fd9",
   "metadata": {},
   "outputs": [],
   "source": [
    "X_train = covid_train.drop(columns=['ds', 'y'], axis=1)\n",
    "y_train = covid_train['y']"
   ]
  },
  {
   "cell_type": "code",
   "execution_count": 5,
   "id": "9351efe7",
   "metadata": {},
   "outputs": [
    {
     "name": "stdout",
     "output_type": "stream",
     "text": [
      "['new_cases_10_mean', 'new_cases_10_max', 'new_cases_10_min', 'new_hospitalized_patients', 'minimum_temperature_celsius', 'new_cases_10_std', 'booster_rate', 'Booster_Doses_50Plus', 'PEOPLE_DEATH_NEW_COUNT', 'relative_humidity', 'new_cases_50_std', 'dew_point', 'new_cases_100_std', 'new_deaths_10_mean', 'new_cases_50_min', 'Administered_Dose1_Recip', 'Series_Complete_5Plus', 'vaccination_rate_complete', 'vaccination_rate_1dose', 'maximum_temperature_celsius', 'Booster_Doses_18Plus', 'new_cases_50_max', 'average_temperature_celsius', 'Administered_Dose1_Recip_65Plus', 'Booster_Doses', 'Series_Complete_65Plus', 'Series_Complete_12Plus', 'new_cases_100_min', 'new_deaths_10_std', 'new_cases_50_mean']\n"
     ]
    }
   ],
   "source": [
    "model_a = CatBoostRegressor().fit(X_train, y_train, verbose=False)\n",
    "predictors_1 = pd.concat([pd.Series(model_a.feature_importances_),\n",
    "           pd.Series(X_train.columns)],axis=1).sort_values(by = 0,ascending = False).head(30)\n",
    "print(predictors_1[1].to_list())"
   ]
  },
  {
   "cell_type": "code",
   "execution_count": 6,
   "id": "3893745a",
   "metadata": {},
   "outputs": [
    {
     "name": "stdout",
     "output_type": "stream",
     "text": [
      "['new_cases_10_std', 'new_cases_10_mean', 'new_hospitalized_patients', 'new_cases_50_mean', 'relative_humidity', 'new_cases_10_max', 'rainfall_mm', 'dew_point', 'new_cases_100_std', 'maximum_temperature_celsius', 'new_deaths_10_std', 'new_cases_10_min', 'new_cases_50_std', 'current_intensive_care_patients', 'PEOPLE_DEATH_NEW_COUNT', 'minimum_temperature_celsius', 'average_temperature_celsius', 'new_cases_100_mean', 'new_deaths_10_mean', 'new_deaths_100_mean', 'new_deaths_100_std', 'new_deaths_50_std', 'new_deaths_10_min', 'Booster_Doses', 'new_deaths_50_mean', 'Booster_Doses_50Plus', 'new_cases_50_max', 'Administered_Dose1_Recip', 'Administered_Dose1_Recip_5Plus', 'new_deaths_50_min']\n"
     ]
    }
   ],
   "source": [
    "model_b = LGBMRegressor().fit(X_train, y_train, verbose=False)\n",
    "predictors_2 = pd.concat([pd.Series(model_b.feature_importances_),\n",
    "           pd.Series(X_train.columns)],axis=1).sort_values(by = 0,ascending = False).head(30)\n",
    "print(predictors_2[1].to_list())"
   ]
  },
  {
   "cell_type": "code",
   "execution_count": 7,
   "id": "414bbf88",
   "metadata": {},
   "outputs": [
    {
     "name": "stdout",
     "output_type": "stream",
     "text": [
      "['new_cases_10_max', 'new_cases_10_mean', 'new_cases_50_std', 'PEOPLE_DEATH_NEW_COUNT', 'new_cases_10_min', 'relative_humidity', 'new_cases_10_std', 'minimum_temperature_celsius', 'new_hospitalized_patients', 'average_temperature_celsius', 'dew_point', 'new_deaths_100_mean', 'new_deaths_10_mean', 'new_cases_100_mean', 'new_deaths_10_std', 'new_cases_100_std', 'new_deaths_100_max', 'maximum_temperature_celsius', 'new_deaths_50_mean', 'Booster_Doses', 'new_cases_50_min', 'new_deaths_50_std', 'vaccination_rate_complete', 'new_cases_50_mean', 'Administered_Dose1_Recip_12Plus', 'current_intensive_care_patients', 'Administered_Dose1_Recip_5Plus', 'Series_Complete_5Plus', 'Booster_Doses_50Plus', 'new_cases_50_max']\n"
     ]
    }
   ],
   "source": [
    "from sklearn.ensemble import GradientBoostingRegressor,GradientBoostingClassifier, BaggingRegressor,BaggingClassifier,RandomForestRegressor,RandomForestClassifier,AdaBoostRegressor,AdaBoostClassifier\n",
    "\n",
    "model_c = GradientBoostingRegressor().fit(X_train, y_train)\n",
    "predictors_3 = pd.concat([pd.Series(model_c.feature_importances_),\n",
    "           pd.Series(X_train.columns)],axis=1).sort_values(by = 0,ascending = False).head(30)\n",
    "print(predictors_3[1].to_list())"
   ]
  },
  {
   "cell_type": "code",
   "execution_count": 8,
   "id": "f46b63c7",
   "metadata": {},
   "outputs": [
    {
     "name": "stdout",
     "output_type": "stream",
     "text": [
      "['new_cases_10_mean', 'new_cases_50_std', 'new_cases_10_min', 'new_cases_10_max', 'relative_humidity', 'minimum_temperature_celsius', 'new_cases_50_max', 'PEOPLE_DEATH_NEW_COUNT', 'Series_Complete_Yes', 'new_hospitalized_patients', 'dew_point', 'Administered_Dose1_Recip_65Plus', 'Series_Complete_12Plus', 'new_cases_10_std', 'average_temperature_celsius', 'Booster_Doses_18Plus', 'Series_Complete_5Plus', 'Series_Complete_65Plus', 'Booster_Doses', 'new_deaths_10_mean', 'maximum_temperature_celsius', 'new_deaths_10_std', 'rainfall_mm', 'new_cases_100_min', 'booster_rate', 'new_deaths_50_std', 'new_cases_50_min', 'new_cases_100_mean', 'Booster_Doses_65Plus', 'Administered_Dose1_Recip_12Plus']\n"
     ]
    }
   ],
   "source": [
    "from sklearn.ensemble import BaggingRegressor,BaggingClassifier,AdaBoostRegressor,AdaBoostClassifier\n",
    "from sklearn.tree import DecisionTreeRegressor,DecisionTreeClassifier\n",
    "\n",
    "model_d = AdaBoostRegressor(random_state=1, base_estimator = DecisionTreeRegressor(random_state=1)).fit(X_train, y_train)\n",
    "predictors_4 = pd.concat([pd.Series(model_d.feature_importances_),\n",
    "           pd.Series(X_train.columns)],axis=1).sort_values(by = 0,ascending = False).head(30)\n",
    "print(predictors_4[1].to_list())"
   ]
  },
  {
   "cell_type": "code",
   "execution_count": 9,
   "id": "daedb25e",
   "metadata": {},
   "outputs": [
    {
     "name": "stdout",
     "output_type": "stream",
     "text": [
      "['new_cases_10_mean', 'new_cases_10_max', 'new_cases_50_std', 'new_cases_10_min', 'Series_Complete_65Plus', 'vaccination_rate_1dose', 'new_cases_100_std', 'relative_humidity', 'vaccination_rate_complete', 'Series_Complete_5Plus', 'Series_Complete_12Plus', 'PEOPLE_DEATH_NEW_COUNT', 'Administered_Dose1_Recip_65Plus', 'new_cases_10_std', 'new_deaths_10_std', 'Administered_Dose1_Recip_12Plus', 'Series_Complete_Yes', 'new_cases_50_max', 'Booster_Doses', 'minimum_temperature_celsius', 'Booster_Doses_18Plus', 'booster_rate', 'new_cases_100_max', 'dew_point', 'maximum_temperature_celsius', 'rainfall_mm', 'Series_Complete_18Plus', 'new_deaths_10_mean', 'new_hospitalized_patients', 'Administered_Dose1_Recip_18Plus']\n"
     ]
    }
   ],
   "source": [
    "from sklearn.ensemble import BaggingRegressor,BaggingClassifier,RandomForestRegressor,RandomForestClassifier\n",
    "\n",
    "model_e = RandomForestRegressor().fit(X_train, y_train)\n",
    "predictors_5 = pd.concat([pd.Series(model_e.feature_importances_), pd.Series(X_train.columns)], axis=1).sort_values(by=0, ascending = False).head(30)\n",
    "print(predictors_5[1].to_list())"
   ]
  },
  {
   "cell_type": "code",
   "execution_count": 10,
   "id": "e7fdfb69",
   "metadata": {},
   "outputs": [
    {
     "name": "stdout",
     "output_type": "stream",
     "text": [
      "Earth Model\n",
      "----------------------------------------------------------------\n",
      "Basis Function                             Pruned  Coefficient  \n",
      "----------------------------------------------------------------\n",
      "(Intercept)                                No      -61576.2     \n",
      "h(new_cases_10_mean-9816.9)                Yes     None         \n",
      "h(9816.9-new_cases_10_mean)                No      5.40089      \n",
      "h(new_cases_50_mean-7090.86)               Yes     None         \n",
      "h(7090.86-new_cases_50_mean)               No      -34.5068     \n",
      "h(new_deaths_10_mean-94.4)                 No      -8.40888     \n",
      "h(94.4-new_deaths_10_mean)                 Yes     None         \n",
      "h(new_cases_10_std-2027.37)                No      -9.19775     \n",
      "h(2027.37-new_cases_10_std)                No      -0.853886    \n",
      "h(new_cases_50_max-12548)                  Yes     None         \n",
      "h(12548-new_cases_50_max)                  No      -0.170552    \n",
      "h(new_cases_50_mean-7869.86)               No      -74.4418     \n",
      "h(7869.86-new_cases_50_mean)               No      35.1875      \n",
      "h(new_cases_50_min-4314)                   No      15.844       \n",
      "h(4314-new_cases_50_min)                   No      -0.660795    \n",
      "h(new_cases_10_min-6770)                   No      -7.65863     \n",
      "h(6770-new_cases_10_min)                   Yes     None         \n",
      "h(new_cases_10_mean-8226.4)                No      12.9097      \n",
      "h(8226.4-new_cases_10_mean)                No      -6.49094     \n",
      "h(Completeness_pct-3939.6)                 Yes     None         \n",
      "h(3939.6-Completeness_pct)                 Yes     None         \n",
      "h(new_cases_100_std-3093.01)               No      33.1432      \n",
      "h(3093.01-new_cases_100_std)               Yes     None         \n",
      "h(Administered_Dose1_Recip_65Plus-60869)   No      0.00445359   \n",
      "h(60869-Administered_Dose1_Recip_65Plus)   No      0.384559     \n",
      "h(Series_Complete_18Plus-666024)           No      0.00167272   \n",
      "h(666024-Series_Complete_18Plus)           No      0.0624064    \n",
      "h(Completeness_pct-2285)                   No      10.647       \n",
      "h(2285-Completeness_pct)                   Yes     None         \n",
      "h(Administered_Dose1_Recip_18Plus-914856)  No      -0.00273724  \n",
      "h(914856-Administered_Dose1_Recip_18Plus)  No      -0.0198976   \n",
      "h(Series_Complete_65Plus-3033)             Yes     None         \n",
      "h(3033-Series_Complete_65Plus)             No      -3.4462      \n",
      "----------------------------------------------------------------\n",
      "MSE: 630235.8661, GCV: 750236.0410, RSQ: 0.9465, GRSQ: 0.9365\n"
     ]
    }
   ],
   "source": [
    "# using MARS summary for feature selection\n",
    "model = Earth(max_terms=1000, max_degree=1, feature_importance_type = 'rss') # note, terms in brackets are the hyperparameters \n",
    "model.fit(X_train,y_train)\n",
    "print(model.summary())"
   ]
  },
  {
   "cell_type": "code",
   "execution_count": 11,
   "id": "15338145",
   "metadata": {},
   "outputs": [],
   "source": [
    "def common_member(a, b, c, d, e):\n",
    "    set_1 = set(a)\n",
    "    set_2 = set(b)\n",
    "    set_3 = set(c)\n",
    "    set_4 = set(d)\n",
    "    set_5 = set(e)\n",
    " \n",
    "    if (set_1 & set_2 & set_3 & set_4 & set_5):\n",
    "        print(set_1 & set_2 & set_3 & set_4 & set_5)\n"
   ]
  },
  {
   "cell_type": "code",
   "execution_count": 12,
   "id": "0b7a6577",
   "metadata": {},
   "outputs": [],
   "source": [
    "a = predictors_1[1].to_list()\n",
    "b = predictors_2[1].to_list()\n",
    "c = predictors_3[1].to_list()\n",
    "d = predictors_4[1].to_list()\n",
    "e = predictors_5[1].to_list()"
   ]
  },
  {
   "cell_type": "code",
   "execution_count": 13,
   "id": "ba9212ce",
   "metadata": {},
   "outputs": [
    {
     "name": "stdout",
     "output_type": "stream",
     "text": [
      "{'new_cases_10_std', 'new_cases_10_mean', 'new_deaths_10_std', 'PEOPLE_DEATH_NEW_COUNT', 'new_deaths_10_mean', 'Booster_Doses', 'new_cases_50_max', 'new_cases_50_std', 'dew_point', 'new_hospitalized_patients', 'minimum_temperature_celsius', 'relative_humidity', 'new_cases_10_min', 'maximum_temperature_celsius', 'new_cases_10_max'}\n"
     ]
    }
   ],
   "source": [
    "full = common_member(a, b, c, d, e)\n",
    "full"
   ]
  },
  {
   "cell_type": "markdown",
   "id": "294e996d",
   "metadata": {},
   "source": [
    "## XGBoost Feature Selection, includes lag and rolling"
   ]
  },
  {
   "cell_type": "code",
   "execution_count": null,
   "id": "a4a320ff",
   "metadata": {},
   "outputs": [],
   "source": [
    "import os\n",
    "os._exit(00)"
   ]
  },
  {
   "cell_type": "code",
   "execution_count": 1,
   "id": "781ede05",
   "metadata": {},
   "outputs": [],
   "source": [
    "import pandas as pd\n",
    "import numpy as np\n",
    "import statsmodels.formula.api as smf\n",
    "import statsmodels.api as sm\n",
    "from pyearth import Earth\n",
    "from sklearn.impute import KNNImputer\n",
    "from sklearn.model_selection import KFold\n",
    "from sklearn.model_selection import train_test_split, cross_val_predict, cross_val_score\n",
    "from sklearn.preprocessing import StandardScaler\n",
    "from sklearn.neighbors import KNeighborsRegressor\n",
    "from sklearn.ensemble import BaggingRegressor,BaggingClassifier,AdaBoostRegressor,AdaBoostClassifier\n",
    "from statsmodels.stats.outliers_influence import variance_inflation_factor\n",
    "from sklearn.model_selection import GridSearchCV, ParameterGrid, StratifiedKFold, RandomizedSearchCV\n",
    "from statsmodels.tools.tools import add_constant\n",
    "import xgboost as xgb\n",
    "from lightgbm import LGBMRegressor\n",
    "from catboost import CatBoostRegressor\n",
    "import time\n",
    "\n",
    "import warnings\n",
    "warnings.filterwarnings(\"ignore\")"
   ]
  },
  {
   "cell_type": "code",
   "execution_count": 2,
   "id": "d8a17174",
   "metadata": {},
   "outputs": [],
   "source": [
    "covid_df = pd.read_csv('ny_multi_df.csv', parse_dates=['Date'])\n",
    "covid_df.drop(columns = ['PROVINCE_STATE_NAME'], inplace = True)\n",
    "covid_df = covid_df.rename(columns={'Date': 'ds', 'PEOPLE_POSITIVE_NEW_CASES_COUNT': 'y'})\n",
    "\n",
    "train_size = int(len(covid_df)* 0.85)\n",
    "covid_train = covid_df[0:train_size]\n",
    "\n",
    "X_train = covid_train.drop(columns=['ds', 'y'], axis=1)\n",
    "X_train = X_train.astype('float32')\n",
    "y_train = covid_train['y']"
   ]
  },
  {
   "cell_type": "code",
   "execution_count": 3,
   "id": "f1db7f61",
   "metadata": {},
   "outputs": [
    {
     "name": "stdout",
     "output_type": "stream",
     "text": [
      "['new_cases_2_lag', 'new_cases_10_min', 'new_cases_10_max', 'new_cases_7_lag', 'new_cases_10_std', 'new_cases_10_mean', 'new_cases_1 lag', 'new_cases_3_lag', 'new_cases_50_std', 'minimum_temperature_celsius', 'PEOPLE_DEATH_NEW_COUNT', 'booster_rate', 'new_hospitalized_patients', 'Administered_Dose1_Recip', 'Booster_Doses_50Plus', 'Administered_Dose1_Recip_5Plus', 'vaccination_rate_complete', 'Series_Complete_12Plus', 'Series_Complete_18Plus', 'new_cases_4_lag', 'average_temperature_celsius', 'Administered_Dose1_Recip_12Plus', 'relative_humidity', 'new_deaths_50_lag', 'new_cases_100_std', 'new_deaths_3_lag', 'new_cases_350_lag', 'new_cases_50_max', 'new_cases_100_max', 'Administered_Dose1_Recip_65Plus', 'new_cases_100_min', 'new_deaths_2_lag', 'new_cases_50_lag', 'new_deaths_30_lag', 'new_deaths_1_lag', 'new_cases_30_lag', 'restrictions_on_internal_movement', 'dew_point', 'Booster_Doses', 'vaccination_rate_1dose']\n"
     ]
    }
   ],
   "source": [
    "model_a = CatBoostRegressor().fit(X_train, y_train, verbose=False)\n",
    "predictors_7 = pd.concat([pd.Series(model_a.feature_importances_),\n",
    "           pd.Series(X_train.columns)],axis=1).sort_values(by = 0,ascending = False).head(40)\n",
    "print(predictors_7[1].to_list())"
   ]
  },
  {
   "cell_type": "code",
   "execution_count": 4,
   "id": "521567e7",
   "metadata": {},
   "outputs": [
    {
     "name": "stdout",
     "output_type": "stream",
     "text": [
      "['new_cases_1 lag', 'new_cases_7_lag', 'new_cases_10_std', 'new_cases_4_lag', 'new_cases_3_lag', 'new_cases_30_lag', 'new_cases_2_lag', 'new_cases_10_mean', 'new_cases_10_max', 'new_hospitalized_patients', 'new_cases_150_lag', 'new_cases_350_lag', 'rainfall_mm', 'new_cases_50_mean', 'maximum_temperature_celsius', 'relative_humidity', 'new_cases_100_std', 'dew_point', 'new_deaths_7_lag', 'new_cases_10_min', 'current_intensive_care_patients', 'minimum_temperature_celsius', 'new_deaths_10_std', 'new_deaths_1_lag', 'PEOPLE_DEATH_NEW_COUNT', 'new_cases_50_lag', 'new_deaths_50_lag', 'new_deaths_4_lag', 'new_deaths_50_std', 'new_deaths_2_lag']\n"
     ]
    }
   ],
   "source": [
    "model_b = LGBMRegressor().fit(X_train, y_train, verbose=False)\n",
    "predictors_8 = pd.concat([pd.Series(model_b.feature_importances_),\n",
    "           pd.Series(X_train.columns)],axis=1).sort_values(by = 0,ascending = False).head(30)\n",
    "print(predictors_8[1].to_list())"
   ]
  },
  {
   "cell_type": "code",
   "execution_count": 5,
   "id": "e085bb4e",
   "metadata": {},
   "outputs": [
    {
     "name": "stdout",
     "output_type": "stream",
     "text": [
      "['new_cases_10_max', 'new_cases_10_mean', 'new_cases_1 lag', 'new_cases_7_lag', 'Administered_Dose1_Recip', 'new_cases_100_mean', 'minimum_temperature_celsius', 'new_cases_350_lag', 'PEOPLE_DEATH_NEW_COUNT', 'new_cases_2_lag', 'Booster_Doses_50Plus', 'new_cases_10_std', 'new_cases_150_lag', 'new_cases_3_lag', 'new_deaths_50_lag', 'new_cases_50_mean', 'new_deaths_10_mean', 'new_cases_4_lag', 'new_cases_10_min', 'new_deaths_10_std', 'current_intensive_care_patients', 'new_deaths_4_lag', 'new_cases_50_lag', 'rainfall_mm', 'new_deaths_1_lag', 'new_deaths_7_lag', 'new_deaths_10_min', 'new_hospitalized_patients', 'new_cases_30_lag', 'average_temperature_celsius']\n"
     ]
    }
   ],
   "source": [
    "model_g = xgb.XGBRegressor().fit(X_train, y_train, verbose=False)\n",
    "predictors_6 = pd.concat([pd.Series(model_g.feature_importances_),\n",
    "           pd.Series(X_train.columns)],axis=1).sort_values(by = 0,ascending = False).head(30)\n",
    "print(predictors_6[1].to_list())"
   ]
  },
  {
   "cell_type": "code",
   "execution_count": 6,
   "id": "16887329",
   "metadata": {},
   "outputs": [
    {
     "name": "stdout",
     "output_type": "stream",
     "text": [
      "Earth Model\n",
      "---------------------------------------------------------------------------\n",
      "Basis Function                                        Pruned  Coefficient  \n",
      "---------------------------------------------------------------------------\n",
      "(Intercept)                                           No      15513        \n",
      "h(new_cases_10_mean-9816.9)                           No      7.80703      \n",
      "h(9816.9-new_cases_10_mean)                           No      -1.99817     \n",
      "present(new_cases_1 lag)                              Yes     None         \n",
      "missing(new_cases_1 lag)                              Yes     None         \n",
      "h(new_cases_1 lag-10319)*present(new_cases_1 lag)     No      -1.3817      \n",
      "h(10319-new_cases_1 lag)*present(new_cases_1 lag)     No      -0.0953862   \n",
      "present(new_cases_2_lag)                              Yes     None         \n",
      "missing(new_cases_2_lag)                              Yes     None         \n",
      "h(new_cases_2_lag-10074)*present(new_cases_2_lag)     No      -1.50326     \n",
      "h(10074-new_cases_2_lag)*present(new_cases_2_lag)     No      0.13683      \n",
      "h(new_cases_50_mean-7090.86)                          No      -11.8367     \n",
      "h(7090.86-new_cases_50_mean)                          Yes     None         \n",
      "present(new_cases_350_lag)                            No      -2523.8      \n",
      "missing(new_cases_350_lag)                            Yes     None         \n",
      "h(new_cases_350_lag-7248)*present(new_cases_350_lag)  No      0.346306     \n",
      "h(7248-new_cases_350_lag)*present(new_cases_350_lag)  No      -0.0498584   \n",
      "present(new_cases_3_lag)                              Yes     None         \n",
      "missing(new_cases_3_lag)                              No      3335.62      \n",
      "h(new_cases_3_lag-8146)*present(new_cases_3_lag)      Yes     None         \n",
      "h(8146-new_cases_3_lag)*present(new_cases_3_lag)      No      0.342475     \n",
      "h(new_hospitalized_patients-1083)                     No      -14.6488     \n",
      "h(1083-new_hospitalized_patients)                     Yes     None         \n",
      "h(Completeness_pct-159.8)                             Yes     None         \n",
      "h(159.8-Completeness_pct)                             No      -18.0587     \n",
      "h(new_cases_50_max-12548)                             No      1.02112      \n",
      "h(12548-new_cases_50_max)                             No      -0.065842    \n",
      "present(new_cases_4_lag)                              Yes     None         \n",
      "missing(new_cases_4_lag)                              No      3233.13      \n",
      "h(new_cases_4_lag-9958)*present(new_cases_4_lag)      No      -0.523962    \n",
      "h(9958-new_cases_4_lag)*present(new_cases_4_lag)      No      0.330571     \n",
      "h(new_cases_3_lag-10036)*present(new_cases_3_lag)     No      -1.33067     \n",
      "h(10036-new_cases_3_lag)*present(new_cases_3_lag)     Yes     None         \n",
      "h(new_cases_50_mean-7366.34)                          No      10.2922      \n",
      "h(7366.34-new_cases_50_mean)                          Yes     None         \n",
      "h(new_deaths_10_mean-186.3)                           No      -36.0594     \n",
      "h(186.3-new_deaths_10_mean)                           Yes     None         \n",
      "present(new_cases_30_lag)                             Yes     None         \n",
      "missing(new_cases_30_lag)                             No      2193.9       \n",
      "h(new_cases_30_lag-5170)*present(new_cases_30_lag)    Yes     None         \n",
      "h(5170-new_cases_30_lag)*present(new_cases_30_lag)    No      0.265059     \n",
      "present(new_cases_7_lag)                              Yes     None         \n",
      "missing(new_cases_7_lag)                              No      -1073.07     \n",
      "h(new_cases_7_lag-84)*present(new_cases_7_lag)        No      -0.179913    \n",
      "h(84-new_cases_7_lag)*present(new_cases_7_lag)        No      -12.0539     \n",
      "---------------------------------------------------------------------------\n",
      "MSE: 197213.3899, GCV: 244606.1298, RSQ: 0.9832, GRSQ: 0.9793\n"
     ]
    }
   ],
   "source": [
    "model = Earth(max_terms=1000, max_degree=1, feature_importance_type = 'rss', allow_missing=True) # note, terms in brackets are the hyperparameters \n",
    "model.fit(X_train,y_train)\n",
    "print(model.summary())"
   ]
  },
  {
   "cell_type": "code",
   "execution_count": 7,
   "id": "fa55033a",
   "metadata": {},
   "outputs": [],
   "source": [
    "def common_member(a, b, c):\n",
    "    set_1 = set(a)\n",
    "    set_2 = set(b)\n",
    "    set_3 = set(c)\n",
    " \n",
    "    if (set_1 & set_2 & set_3):\n",
    "        print(set_1 & set_2 & set_3)\n"
   ]
  },
  {
   "cell_type": "code",
   "execution_count": 8,
   "id": "b466004a",
   "metadata": {},
   "outputs": [],
   "source": [
    "a = predictors_7[1].to_list()\n",
    "b = predictors_8[1].to_list()\n",
    "c = predictors_6[1].to_list()"
   ]
  },
  {
   "cell_type": "code",
   "execution_count": 9,
   "id": "427e1e31",
   "metadata": {},
   "outputs": [
    {
     "name": "stdout",
     "output_type": "stream",
     "text": [
      "{'new_cases_350_lag', 'minimum_temperature_celsius', 'new_cases_1 lag', 'new_cases_10_max', 'new_cases_30_lag', 'new_deaths_1_lag', 'PEOPLE_DEATH_NEW_COUNT', 'new_cases_3_lag', 'new_cases_7_lag', 'new_deaths_50_lag', 'new_cases_10_min', 'new_cases_10_mean', 'new_cases_2_lag', 'new_cases_4_lag', 'new_hospitalized_patients', 'new_cases_50_lag', 'new_cases_10_std'}\n"
     ]
    }
   ],
   "source": [
    "full = common_member(a, b, c)\n",
    "full"
   ]
  },
  {
   "cell_type": "code",
   "execution_count": null,
   "id": "280036a3",
   "metadata": {},
   "outputs": [],
   "source": []
  },
  {
   "cell_type": "code",
   "execution_count": null,
   "id": "791f1b4d",
   "metadata": {},
   "outputs": [],
   "source": []
  },
  {
   "cell_type": "code",
   "execution_count": null,
   "id": "ca9a3e03",
   "metadata": {},
   "outputs": [],
   "source": []
  }
 ],
 "metadata": {
  "kernelspec": {
   "display_name": "Python 3 (ipykernel)",
   "language": "python",
   "name": "python3"
  },
  "language_info": {
   "codemirror_mode": {
    "name": "ipython",
    "version": 3
   },
   "file_extension": ".py",
   "mimetype": "text/x-python",
   "name": "python",
   "nbconvert_exporter": "python",
   "pygments_lexer": "ipython3",
   "version": "3.9.12"
  }
 },
 "nbformat": 4,
 "nbformat_minor": 5
}
