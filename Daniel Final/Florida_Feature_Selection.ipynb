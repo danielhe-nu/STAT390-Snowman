{
 "cells": [
  {
   "cell_type": "code",
   "execution_count": 1,
   "id": "a7149568",
   "metadata": {},
   "outputs": [],
   "source": [
    "import pandas as pd\n",
    "import numpy as np\n",
    "import statsmodels.formula.api as smf\n",
    "import statsmodels.api as sm\n",
    "from pyearth import Earth\n",
    "from sklearn.impute import KNNImputer\n",
    "from sklearn.model_selection import KFold\n",
    "from sklearn.model_selection import train_test_split, cross_val_predict, cross_val_score\n",
    "from sklearn.preprocessing import StandardScaler\n",
    "from sklearn.neighbors import KNeighborsRegressor\n",
    "from sklearn.ensemble import BaggingRegressor,BaggingClassifier,AdaBoostRegressor,AdaBoostClassifier\n",
    "from statsmodels.stats.outliers_influence import variance_inflation_factor\n",
    "from sklearn.model_selection import GridSearchCV, ParameterGrid, StratifiedKFold, RandomizedSearchCV\n",
    "from statsmodels.tools.tools import add_constant\n",
    "import xgboost as xgb\n",
    "from lightgbm import LGBMRegressor\n",
    "from catboost import CatBoostRegressor\n",
    "import time\n",
    "\n",
    "import warnings\n",
    "warnings.filterwarnings(\"ignore\")"
   ]
  },
  {
   "cell_type": "markdown",
   "id": "f9cd2008",
   "metadata": {},
   "source": [
    "## Prophet Feature Selection, so Dropping All Lag and Rolling"
   ]
  },
  {
   "cell_type": "code",
   "execution_count": 2,
   "id": "c704471d",
   "metadata": {},
   "outputs": [],
   "source": [
    "covid_df = pd.read_csv('florida_multi_df.csv', parse_dates=['Date'])\n",
    "covid_df.drop(columns = ['PROVINCE_STATE_NAME'], inplace = True)\n",
    "covid_df = covid_df.rename(columns={'Date': 'ds', 'PEOPLE_POSITIVE_NEW_CASES_COUNT': 'y'})\n",
    "covid_df = covid_df.drop(['new_cases_1 lag', 'new_cases_2_lag', 'new_cases_3_lag', 'new_cases_4_lag', 'new_cases_7_lag', 'new_cases_30_lag', 'new_cases_50_lag', 'new_cases_150_lag', 'new_cases_350_lag', 'new_deaths_1_lag', 'new_deaths_2_lag', 'new_deaths_3_lag', 'new_deaths_4_lag', 'new_deaths_7_lag', 'new_deaths_30_lag', 'new_deaths_50_lag'], axis=1)\n",
    "\n",
    "train_size = int(len(covid_df)* 0.85)\n",
    "covid_train = covid_df[0:train_size] # notice here the original test test is never used"
   ]
  },
  {
   "cell_type": "code",
   "execution_count": 3,
   "id": "553cda9d",
   "metadata": {},
   "outputs": [
    {
     "data": {
      "text/plain": [
       "671"
      ]
     },
     "execution_count": 3,
     "metadata": {},
     "output_type": "execute_result"
    }
   ],
   "source": [
    "train_size"
   ]
  },
  {
   "cell_type": "code",
   "execution_count": 4,
   "id": "43008fd9",
   "metadata": {},
   "outputs": [],
   "source": [
    "X_train = covid_train.drop(columns=['ds', 'y'], axis=1)\n",
    "y_train = covid_train['y']"
   ]
  },
  {
   "cell_type": "code",
   "execution_count": 5,
   "id": "9351efe7",
   "metadata": {},
   "outputs": [
    {
     "name": "stdout",
     "output_type": "stream",
     "text": [
      "['new_cases_10_mean', 'new_hospitalized_patients', 'new_cases_50_mean', 'new_cases_10_std', 'minimum_temperature_celsius', 'relative_humidity', 'maximum_temperature_celsius', 'new_cases_50_std', 'new_cases_100_mean', 'Booster_Doses_50Plus', 'average_temperature_celsius', 'current_intensive_care_patients', 'Booster_Doses', 'rainfall_mm', 'booster_rate', 'Series_Complete_5Plus', 'new_cases_100_max', 'new_cases_10_max', 'Booster_Doses_65Plus', 'new_cases_50_max', 'Booster_Doses_18Plus', 'new_deaths_100_std', 'dew_point', 'new_cases_50_min', 'vaccination_rate_1dose', 'Series_Complete_65Plus', 'new_cases_100_std', 'new_deaths_100_mean', 'Administered_Dose1_Recip', 'new_deaths_10_mean']\n"
     ]
    }
   ],
   "source": [
    "model_a = CatBoostRegressor().fit(X_train, y_train, verbose=False)\n",
    "predictors_1 = pd.concat([pd.Series(model_a.feature_importances_),\n",
    "           pd.Series(X_train.columns)],axis=1).sort_values(by = 0,ascending = False).head(30)\n",
    "print(predictors_1[1].to_list())"
   ]
  },
  {
   "cell_type": "code",
   "execution_count": 6,
   "id": "3893745a",
   "metadata": {},
   "outputs": [
    {
     "name": "stdout",
     "output_type": "stream",
     "text": [
      "['new_cases_10_std', 'new_cases_50_std', 'dew_point', 'new_cases_10_mean', 'minimum_temperature_celsius', 'new_hospitalized_patients', 'relative_humidity', 'current_intensive_care_patients', 'PEOPLE_DEATH_NEW_COUNT', 'average_temperature_celsius', 'new_cases_10_max', 'rainfall_mm', 'maximum_temperature_celsius', 'new_cases_50_mean', 'new_deaths_10_std', 'new_cases_100_std', 'new_deaths_100_std', 'new_deaths_10_mean', 'new_cases_10_min', 'new_deaths_50_mean', 'Administered_Dose1_Recip', 'new_deaths_50_std', 'Administered_Dose1_Recip_5Plus', 'new_deaths_100_mean', 'new_cases_100_mean', 'Booster_Doses_65Plus', 'Series_Complete_5Plus', 'Booster_Doses', 'Booster_Doses_50Plus', 'new_deaths_10_max']\n"
     ]
    }
   ],
   "source": [
    "model_b = LGBMRegressor().fit(X_train, y_train, verbose=False)\n",
    "predictors_2 = pd.concat([pd.Series(model_b.feature_importances_),\n",
    "           pd.Series(X_train.columns)],axis=1).sort_values(by = 0,ascending = False).head(30)\n",
    "print(predictors_2[1].to_list())"
   ]
  },
  {
   "cell_type": "code",
   "execution_count": 7,
   "id": "414bbf88",
   "metadata": {},
   "outputs": [
    {
     "name": "stdout",
     "output_type": "stream",
     "text": [
      "['new_hospitalized_patients', 'new_cases_10_mean', 'Series_Complete_Yes', 'new_cases_50_mean', 'relative_humidity', 'Booster_Doses', 'Administered_Dose1_Recip_18Plus', 'Administered_Dose1_Recip', 'Administered_Dose1_Recip_5Plus', 'maximum_temperature_celsius', 'current_intensive_care_patients', 'vaccination_rate_complete', 'minimum_temperature_celsius', 'new_cases_10_std', 'new_cases_50_std', 'new_deaths_100_mean', 'Series_Complete_5Plus', 'new_cases_50_min', 'Booster_Doses_50Plus', 'dew_point', 'new_deaths_50_mean', 'Series_Complete_12Plus', 'new_cases_50_max', 'Administered_Dose1_Recip_12Plus', 'new_cases_10_min', 'new_cases_10_max', 'new_cases_100_mean', 'new_deaths_50_max', 'Booster_Doses_65Plus', 'Booster_Doses_18Plus']\n"
     ]
    }
   ],
   "source": [
    "from sklearn.ensemble import GradientBoostingRegressor,GradientBoostingClassifier, BaggingRegressor,BaggingClassifier,RandomForestRegressor,RandomForestClassifier,AdaBoostRegressor,AdaBoostClassifier\n",
    "\n",
    "model_c = GradientBoostingRegressor().fit(X_train, y_train)\n",
    "predictors_3 = pd.concat([pd.Series(model_c.feature_importances_),\n",
    "           pd.Series(X_train.columns)],axis=1).sort_values(by = 0,ascending = False).head(30)\n",
    "print(predictors_3[1].to_list())"
   ]
  },
  {
   "cell_type": "code",
   "execution_count": 8,
   "id": "f46b63c7",
   "metadata": {},
   "outputs": [
    {
     "name": "stdout",
     "output_type": "stream",
     "text": [
      "['new_hospitalized_patients', 'new_cases_10_mean', 'Booster_Doses_65Plus', 'new_cases_50_mean', 'vaccination_rate_1dose', 'new_cases_10_std', 'new_cases_50_std', 'dew_point', 'Series_Complete_12Plus', 'relative_humidity', 'Series_Complete_5Plus', 'Administered_Dose1_Recip_12Plus', 'new_cases_50_max', 'new_cases_100_max', 'Administered_Dose1_Recip', 'minimum_temperature_celsius', 'maximum_temperature_celsius', 'Series_Complete_65Plus', 'Booster_Doses_50Plus', 'Booster_Doses_18Plus', 'new_cases_10_max', 'current_intensive_care_patients', 'Series_Complete_Yes', 'average_temperature_celsius', 'new_cases_100_mean', 'vaccination_rate_complete', 'new_cases_100_std', 'rainfall_mm', 'new_deaths_100_mean', 'new_deaths_100_std']\n"
     ]
    }
   ],
   "source": [
    "from sklearn.ensemble import BaggingRegressor,BaggingClassifier,AdaBoostRegressor,AdaBoostClassifier\n",
    "from sklearn.tree import DecisionTreeRegressor,DecisionTreeClassifier\n",
    "\n",
    "model_d = AdaBoostRegressor(random_state=1, base_estimator = DecisionTreeRegressor(random_state=1)).fit(X_train, y_train)\n",
    "predictors_4 = pd.concat([pd.Series(model_d.feature_importances_),\n",
    "           pd.Series(X_train.columns)],axis=1).sort_values(by = 0,ascending = False).head(30)\n",
    "print(predictors_4[1].to_list())"
   ]
  },
  {
   "cell_type": "code",
   "execution_count": 9,
   "id": "daedb25e",
   "metadata": {},
   "outputs": [
    {
     "name": "stdout",
     "output_type": "stream",
     "text": [
      "['new_cases_10_mean', 'new_cases_50_mean', 'new_hospitalized_patients', 'new_cases_10_std', 'current_intensive_care_patients', 'relative_humidity', 'Series_Complete_12Plus', 'Series_Complete_18Plus', 'maximum_temperature_celsius', 'Administered_Dose1_Recip_5Plus', 'Administered_Dose1_Recip_18Plus', 'minimum_temperature_celsius', 'Booster_Doses_18Plus', 'new_cases_50_max', 'new_cases_50_std', 'dew_point', 'Administered_Dose1_Recip', 'Series_Complete_5Plus', 'average_temperature_celsius', 'booster_rate', 'new_cases_10_max', 'Administered_Dose1_Recip_12Plus', 'new_cases_100_mean', 'Series_Complete_Yes', 'rainfall_mm', 'vaccination_rate_1dose', 'Administered_Dose1_Recip_65Plus', 'Booster_Doses_65Plus', 'vaccination_rate_complete', 'new_cases_50_min']\n"
     ]
    }
   ],
   "source": [
    "from sklearn.ensemble import BaggingRegressor,BaggingClassifier,RandomForestRegressor,RandomForestClassifier\n",
    "\n",
    "model_e = RandomForestRegressor().fit(X_train, y_train)\n",
    "predictors_5 = pd.concat([pd.Series(model_e.feature_importances_), pd.Series(X_train.columns)], axis=1).sort_values(by=0, ascending = False).head(30)\n",
    "print(predictors_5[1].to_list())"
   ]
  },
  {
   "cell_type": "code",
   "execution_count": 10,
   "id": "e7fdfb69",
   "metadata": {},
   "outputs": [
    {
     "name": "stdout",
     "output_type": "stream",
     "text": [
      "Earth Model\n",
      "----------------------------------------------------------------\n",
      "Basis Function                             Pruned  Coefficient  \n",
      "----------------------------------------------------------------\n",
      "(Intercept)                                No      -844579      \n",
      "h(new_cases_10_mean-24547.6)               Yes     None         \n",
      "h(24547.6-new_cases_10_mean)               No      -3.85168     \n",
      "h(new_cases_10_max-151760)                 Yes     None         \n",
      "h(151760-new_cases_10_max)                 No      0.929899     \n",
      "h(new_cases_50_mean-18042.2)               No      78.9968      \n",
      "h(18042.2-new_cases_50_mean)               No      -12.3292     \n",
      "h(new_cases_50_std-46157.3)                No      -79.6616     \n",
      "h(46157.3-new_cases_50_std)                Yes     None         \n",
      "h(new_hospitalized_patients-2092)          Yes     None         \n",
      "h(2092-new_hospitalized_patients)          No      160.771      \n",
      "h(current_intensive_care_patients-2057)    Yes     None         \n",
      "h(2057-current_intensive_care_patients)    No      -86.9999     \n",
      "h(new_deaths_10_max-2340)                  No      -74.3659     \n",
      "h(2340-new_deaths_10_max)                  Yes     None         \n",
      "h(new_hospitalized_patients-1403)          No      232.129      \n",
      "h(1403-new_hospitalized_patients)          No      -151.81      \n",
      "h(new_cases_50_max-151765)                 No      1.66084      \n",
      "h(151765-new_cases_50_max)                 No      -0.797369    \n",
      "h(current_intensive_care_patients-3487)    Yes     None         \n",
      "h(3487-current_intensive_care_patients)    Yes     None         \n",
      "h(new_deaths_10_mean-257.4)                No      -400.35      \n",
      "h(257.4-new_deaths_10_mean)                Yes     None         \n",
      "new_cases_10_min                           No      -0.44486     \n",
      "h(new_cases_50_mean-12012.7)               Yes     None         \n",
      "h(12012.7-new_cases_50_mean)               No      12.8932      \n",
      "new_cases_50_min                           No      -1.19576     \n",
      "new_deaths_100_mean                        No      152.562      \n",
      "h(new_deaths_100_mean-0.77)                Yes     None         \n",
      "h(0.77-new_deaths_100_mean)                No      -74651.1     \n",
      "h(new_deaths_100_mean-17.41)               Yes     None         \n",
      "h(17.41-new_deaths_100_mean)               Yes     None         \n",
      "new_deaths_50_std                          Yes     None         \n",
      "h(new_deaths_50_std-2.98903)               No      11003.7      \n",
      "h(2.98903-new_deaths_50_std)               Yes     None         \n",
      "h(Administered_Dose1_Recip_65Plus-379955)  No      0.00677646   \n",
      "h(379955-Administered_Dose1_Recip_65Plus)  No      0.0584234    \n",
      "h(new_cases_100_std-2264.92)               No      0.608203     \n",
      "h(2264.92-new_cases_100_std)               No      8.22728      \n",
      "public_transport_closing                   Yes     None         \n",
      "h(current_intensive_care_patients-3170)    Yes     None         \n",
      "h(3170-current_intensive_care_patients)    No      122.49       \n",
      "h(new_deaths_50_mean-161.36)               No      562.129      \n",
      "h(161.36-new_deaths_50_mean)               Yes     None         \n",
      "h(new_deaths_10_std-780.45)                No      405.605      \n",
      "h(780.45-new_deaths_10_std)                Yes     None         \n",
      "h(new_cases_100_mean-9153.9)               Yes     None         \n",
      "h(9153.9-new_cases_100_mean)               Yes     None         \n",
      "new_cases_100_min                          No      0.751623     \n",
      "h(current_intensive_care_patients-405)     No      34.5288      \n",
      "h(405-current_intensive_care_patients)     No      342.436      \n",
      "h(average_temperature_celsius-27.5185)     No      -5669.3      \n",
      "h(27.5185-average_temperature_celsius)     Yes     None         \n",
      "h(maximum_temperature_celsius-35.0667)     No      23438.8      \n",
      "h(35.0667-maximum_temperature_celsius)     Yes     None         \n",
      "rainfall_mm                                No      -187.828     \n",
      "Vaccine_available                          Yes     None         \n",
      "PEOPLE_DEATH_NEW_COUNT                     Yes     None         \n",
      "new_deaths_100_max                         No      -4.52873     \n",
      "h(current_intensive_care_patients-285)     Yes     None         \n",
      "h(285-current_intensive_care_patients)     No      -356.121     \n",
      "cancel_public_events                       No      7207.29      \n",
      "international_travel_controls              Yes     None         \n",
      "new_deaths_50_min                          Yes     None         \n",
      "h(new_deaths_50_std-59.0821)               No      -11118.2     \n",
      "h(59.0821-new_deaths_50_std)               No      10954.6      \n",
      "----------------------------------------------------------------\n",
      "MSE: 105436649.2142, GCV: 142341867.2928, RSQ: 0.7158, GRSQ: 0.6175\n"
     ]
    }
   ],
   "source": [
    "# using MARS summary for feature selection\n",
    "model = Earth(max_terms=1000, max_degree=1, feature_importance_type = 'rss') # note, terms in brackets are the hyperparameters \n",
    "model.fit(X_train,y_train)\n",
    "print(model.summary())"
   ]
  },
  {
   "cell_type": "code",
   "execution_count": 11,
   "id": "15338145",
   "metadata": {},
   "outputs": [],
   "source": [
    "def common_member(a, b, c, d, e):\n",
    "    set_1 = set(a)\n",
    "    set_2 = set(b)\n",
    "    set_3 = set(c)\n",
    "    set_4 = set(d)\n",
    "    set_5 = set(e)\n",
    " \n",
    "    if (set_1 & set_2 & set_3 & set_4 & set_5):\n",
    "        print(set_1 & set_2 & set_3 & set_4 & set_5)\n"
   ]
  },
  {
   "cell_type": "code",
   "execution_count": 12,
   "id": "0b7a6577",
   "metadata": {},
   "outputs": [],
   "source": [
    "a = predictors_1[1].to_list()\n",
    "b = predictors_2[1].to_list()\n",
    "c = predictors_3[1].to_list()\n",
    "d = predictors_4[1].to_list()\n",
    "e = predictors_5[1].to_list()"
   ]
  },
  {
   "cell_type": "code",
   "execution_count": 13,
   "id": "ba9212ce",
   "metadata": {},
   "outputs": [
    {
     "name": "stdout",
     "output_type": "stream",
     "text": [
      "{'new_cases_10_std', 'Series_Complete_5Plus', 'new_cases_10_mean', 'new_cases_50_std', 'current_intensive_care_patients', 'minimum_temperature_celsius', 'relative_humidity', 'dew_point', 'Booster_Doses_65Plus', 'maximum_temperature_celsius', 'new_cases_50_mean', 'new_cases_100_mean', 'new_cases_10_max', 'Administered_Dose1_Recip', 'new_hospitalized_patients'}\n"
     ]
    }
   ],
   "source": [
    "full = common_member(a, b, c, d, e)\n",
    "full"
   ]
  },
  {
   "cell_type": "markdown",
   "id": "294e996d",
   "metadata": {},
   "source": [
    "## XGBoost Feature Selection, includes lag and rolling"
   ]
  },
  {
   "cell_type": "code",
   "execution_count": 14,
   "id": "781ede05",
   "metadata": {},
   "outputs": [],
   "source": [
    "import pandas as pd\n",
    "import numpy as np\n",
    "import statsmodels.formula.api as smf\n",
    "import statsmodels.api as sm\n",
    "from pyearth import Earth\n",
    "from sklearn.impute import KNNImputer\n",
    "from sklearn.model_selection import KFold\n",
    "from sklearn.model_selection import train_test_split, cross_val_predict, cross_val_score\n",
    "from sklearn.preprocessing import StandardScaler\n",
    "from sklearn.neighbors import KNeighborsRegressor\n",
    "from sklearn.ensemble import BaggingRegressor,BaggingClassifier,AdaBoostRegressor,AdaBoostClassifier\n",
    "from statsmodels.stats.outliers_influence import variance_inflation_factor\n",
    "from sklearn.model_selection import GridSearchCV, ParameterGrid, StratifiedKFold, RandomizedSearchCV\n",
    "from statsmodels.tools.tools import add_constant\n",
    "import xgboost as xgb\n",
    "from lightgbm import LGBMRegressor\n",
    "from catboost import CatBoostRegressor\n",
    "import time\n",
    "\n",
    "import warnings\n",
    "warnings.filterwarnings(\"ignore\")"
   ]
  },
  {
   "cell_type": "code",
   "execution_count": 15,
   "id": "d8a17174",
   "metadata": {},
   "outputs": [],
   "source": [
    "covid_df = pd.read_csv('florida_multi_df.csv', parse_dates=['Date'])\n",
    "covid_df.drop(columns = ['PROVINCE_STATE_NAME'], inplace = True)\n",
    "covid_df = covid_df.rename(columns={'Date': 'ds', 'PEOPLE_POSITIVE_NEW_CASES_COUNT': 'y'})\n",
    "\n",
    "train_size = int(len(covid_df)* 0.85)\n",
    "covid_train = covid_df[0:train_size]\n",
    "\n",
    "X_train = covid_train.drop(columns=['ds', 'y'], axis=1)\n",
    "X_train = X_train.astype('float32')\n",
    "y_train = covid_train['y']"
   ]
  },
  {
   "cell_type": "code",
   "execution_count": 16,
   "id": "f1db7f61",
   "metadata": {},
   "outputs": [
    {
     "name": "stdout",
     "output_type": "stream",
     "text": [
      "['new_cases_7_lag', 'new_deaths_50_mean', 'new_cases_10_max', 'new_deaths_10_std', 'new_cases_10_mean', 'new_cases_10_std', 'new_deaths_100_mean', 'Booster_Doses_18Plus', 'new_deaths_10_max', 'Administered_Dose1_Recip_18Plus', 'booster_rate', 'new_deaths_10_mean', 'new_hospitalized_patients', 'Series_Complete_5Plus', 'Booster_Doses_65Plus', 'Booster_Doses', 'Series_Complete_12Plus', 'new_cases_50_max', 'new_cases_50_lag', 'new_cases_1 lag', 'new_cases_100_mean', 'new_cases_100_max', 'new_deaths_3_lag', 'new_deaths_2_lag', 'Series_Complete_18Plus', 'new_cases_350_lag', 'maximum_temperature_celsius', 'Booster_Doses_50Plus', 'relative_humidity', 'new_cases_50_std', 'new_deaths_50_std', 'Administered_Dose1_Recip_5Plus', 'new_cases_10_min', 'new_cases_50_mean', 'Administered_Dose1_Recip_65Plus', 'new_deaths_100_max', 'rainfall_mm', 'new_deaths_50_lag', 'new_deaths_4_lag', 'PEOPLE_DEATH_NEW_COUNT']\n"
     ]
    }
   ],
   "source": [
    "model_a = CatBoostRegressor().fit(X_train, y_train, verbose=False)\n",
    "predictors_7 = pd.concat([pd.Series(model_a.feature_importances_),\n",
    "           pd.Series(X_train.columns)],axis=1).sort_values(by = 0,ascending = False).head(40)\n",
    "print(predictors_7[1].to_list())"
   ]
  },
  {
   "cell_type": "code",
   "execution_count": 17,
   "id": "521567e7",
   "metadata": {},
   "outputs": [
    {
     "name": "stdout",
     "output_type": "stream",
     "text": [
      "['new_cases_10_std', 'new_cases_7_lag', 'new_cases_10_mean', 'new_cases_10_max', 'new_cases_3_lag', 'new_cases_1 lag', 'new_hospitalized_patients', 'new_cases_2_lag', 'PEOPLE_DEATH_NEW_COUNT', 'new_deaths_50_lag', 'new_cases_50_std', 'new_deaths_3_lag', 'maximum_temperature_celsius', 'relative_humidity', 'new_cases_350_lag', 'new_cases_4_lag', 'new_deaths_7_lag', 'current_intensive_care_patients', 'new_deaths_10_std', 'new_cases_30_lag', 'new_cases_50_lag', 'new_cases_100_std', 'new_deaths_30_lag', 'rainfall_mm', 'dew_point', 'new_cases_150_lag', 'average_temperature_celsius', 'new_deaths_2_lag', 'new_deaths_1_lag', 'new_cases_10_min']\n"
     ]
    }
   ],
   "source": [
    "model_b = LGBMRegressor().fit(X_train, y_train, verbose=False)\n",
    "predictors_8 = pd.concat([pd.Series(model_b.feature_importances_),\n",
    "           pd.Series(X_train.columns)],axis=1).sort_values(by = 0,ascending = False).head(30)\n",
    "print(predictors_8[1].to_list())"
   ]
  },
  {
   "cell_type": "code",
   "execution_count": 18,
   "id": "e085bb4e",
   "metadata": {},
   "outputs": [
    {
     "name": "stdout",
     "output_type": "stream",
     "text": [
      "['new_cases_7_lag', 'Administered_Dose1_Recip', 'new_cases_10_max', 'new_cases_10_std', 'new_hospitalized_patients', 'new_cases_10_mean', 'facial_coverings', 'new_deaths_100_max', 'new_cases_10_min', 'new_cases_50_std', 'new_cases_1 lag', 'new_cases_2_lag', 'new_deaths_50_std', 'new_cases_3_lag', 'new_deaths_10_std', 'new_cases_50_lag', 'PEOPLE_DEATH_NEW_COUNT', 'dew_point', 'new_cases_100_min', 'new_deaths_3_lag', 'new_cases_350_lag', 'stringency_index', 'new_deaths_100_std', 'new_cases_100_std', 'new_deaths_50_lag', 'new_cases_150_lag', 'current_intensive_care_patients', 'new_deaths_1_lag', 'new_cases_50_mean', 'new_deaths_10_mean']\n"
     ]
    }
   ],
   "source": [
    "model_g = xgb.XGBRegressor().fit(X_train, y_train, verbose=False)\n",
    "predictors_6 = pd.concat([pd.Series(model_g.feature_importances_),\n",
    "           pd.Series(X_train.columns)],axis=1).sort_values(by = 0,ascending = False).head(30)\n",
    "print(predictors_6[1].to_list())"
   ]
  },
  {
   "cell_type": "code",
   "execution_count": 19,
   "id": "16887329",
   "metadata": {},
   "outputs": [
    {
     "name": "stdout",
     "output_type": "stream",
     "text": [
      "Earth Model\n",
      "----------------------------------------------------------------------------\n",
      "Basis Function                                         Pruned  Coefficient  \n",
      "----------------------------------------------------------------------------\n",
      "(Intercept)                                            No      10244.2      \n",
      "present(new_cases_7_lag)                               Yes     None         \n",
      "missing(new_cases_7_lag)                               Yes     None         \n",
      "new_cases_7_lag*present(new_cases_7_lag)               No      1.08079      \n",
      "h(new_cases_10_max-151760)                             No      1.00469      \n",
      "h(151760-new_cases_10_max)                             No      -0.119841    \n",
      "h(new_cases_50_mean-18042.2)                           No      -31.9169     \n",
      "h(18042.2-new_cases_50_mean)                           No      0.342476     \n",
      "h(current_intensive_care_patients-2521)                No      -9.28149     \n",
      "h(2521-current_intensive_care_patients)                No      2.6599       \n",
      "h(new_cases_50_std-46157.3)                            No      17.7466      \n",
      "h(46157.3-new_cases_50_std)                            Yes     None         \n",
      "present(new_cases_350_lag)                             No      -3217.68     \n",
      "missing(new_cases_350_lag)                             Yes     None         \n",
      "h(new_cases_350_lag-13703)*present(new_cases_350_lag)  No      0.932137     \n",
      "h(13703-new_cases_350_lag)*present(new_cases_350_lag)  No      0.24207      \n",
      "present(new_deaths_2_lag)                              Yes     None         \n",
      "missing(new_deaths_2_lag)                              Yes     None         \n",
      "h(new_deaths_2_lag-257)*present(new_deaths_2_lag)      Yes     None         \n",
      "h(257-new_deaths_2_lag)*present(new_deaths_2_lag)      No      -12.4733     \n",
      "present(new_cases_3_lag)                               Yes     None         \n",
      "missing(new_cases_3_lag)                               Yes     None         \n",
      "h(new_cases_3_lag-5876)*present(new_cases_3_lag)       Yes     None         \n",
      "h(5876-new_cases_3_lag)*present(new_cases_3_lag)       Yes     None         \n",
      "----------------------------------------------------------------------------\n",
      "MSE: 22443396.4789, GCV: 24670257.0167, RSQ: 0.9395, GRSQ: 0.9337\n"
     ]
    }
   ],
   "source": [
    "model = Earth(max_terms=1000, max_degree=1, feature_importance_type = 'rss', allow_missing=True) \n",
    "model.fit(X_train,y_train)\n",
    "print(model.summary())"
   ]
  },
  {
   "cell_type": "code",
   "execution_count": 20,
   "id": "fa55033a",
   "metadata": {},
   "outputs": [],
   "source": [
    "def common_member(a, b, c):\n",
    "    set_1 = set(a)\n",
    "    set_2 = set(b)\n",
    "    set_3 = set(c)\n",
    " \n",
    "    if (set_1 & set_2 & set_3):\n",
    "        print(set_1 & set_2 & set_3)\n"
   ]
  },
  {
   "cell_type": "code",
   "execution_count": 21,
   "id": "b466004a",
   "metadata": {},
   "outputs": [],
   "source": [
    "a = predictors_7[1].to_list()\n",
    "b = predictors_8[1].to_list()\n",
    "c = predictors_6[1].to_list()"
   ]
  },
  {
   "cell_type": "code",
   "execution_count": 22,
   "id": "427e1e31",
   "metadata": {},
   "outputs": [
    {
     "name": "stdout",
     "output_type": "stream",
     "text": [
      "{'new_cases_10_std', 'new_cases_350_lag', 'new_deaths_50_lag', 'new_hospitalized_patients', 'new_cases_50_std', 'new_cases_50_lag', 'new_cases_7_lag', 'new_deaths_3_lag', 'PEOPLE_DEATH_NEW_COUNT', 'new_cases_10_min', 'new_deaths_10_std', 'new_cases_1 lag', 'new_cases_10_max', 'new_cases_10_mean'}\n"
     ]
    }
   ],
   "source": [
    "full = common_member(a, b, c)\n",
    "full"
   ]
  },
  {
   "cell_type": "code",
   "execution_count": null,
   "id": "280036a3",
   "metadata": {},
   "outputs": [],
   "source": []
  },
  {
   "cell_type": "code",
   "execution_count": null,
   "id": "791f1b4d",
   "metadata": {},
   "outputs": [],
   "source": []
  },
  {
   "cell_type": "code",
   "execution_count": null,
   "id": "ca9a3e03",
   "metadata": {},
   "outputs": [],
   "source": []
  }
 ],
 "metadata": {
  "kernelspec": {
   "display_name": "Python 3 (ipykernel)",
   "language": "python",
   "name": "python3"
  },
  "language_info": {
   "codemirror_mode": {
    "name": "ipython",
    "version": 3
   },
   "file_extension": ".py",
   "mimetype": "text/x-python",
   "name": "python",
   "nbconvert_exporter": "python",
   "pygments_lexer": "ipython3",
   "version": "3.9.12"
  }
 },
 "nbformat": 4,
 "nbformat_minor": 5
}
