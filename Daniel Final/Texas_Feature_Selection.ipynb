{
 "cells": [
  {
   "cell_type": "code",
   "execution_count": 1,
   "id": "a7149568",
   "metadata": {},
   "outputs": [],
   "source": [
    "import pandas as pd\n",
    "import numpy as np\n",
    "import statsmodels.formula.api as smf\n",
    "import statsmodels.api as sm\n",
    "from pyearth import Earth\n",
    "from sklearn.impute import KNNImputer\n",
    "from sklearn.model_selection import KFold\n",
    "from sklearn.model_selection import train_test_split, cross_val_predict, cross_val_score\n",
    "from sklearn.preprocessing import StandardScaler\n",
    "from sklearn.neighbors import KNeighborsRegressor\n",
    "from sklearn.ensemble import BaggingRegressor,BaggingClassifier,AdaBoostRegressor,AdaBoostClassifier\n",
    "from statsmodels.stats.outliers_influence import variance_inflation_factor\n",
    "from sklearn.model_selection import GridSearchCV, ParameterGrid, StratifiedKFold, RandomizedSearchCV\n",
    "from statsmodels.tools.tools import add_constant\n",
    "import xgboost as xgb\n",
    "from lightgbm import LGBMRegressor\n",
    "from catboost import CatBoostRegressor\n",
    "import time\n",
    "\n",
    "import warnings\n",
    "warnings.filterwarnings(\"ignore\")"
   ]
  },
  {
   "cell_type": "markdown",
   "id": "f9cd2008",
   "metadata": {},
   "source": [
    "## Prophet Feature Selection, so Dropping All Lag and Rolling"
   ]
  },
  {
   "cell_type": "code",
   "execution_count": 2,
   "id": "c704471d",
   "metadata": {},
   "outputs": [],
   "source": [
    "covid_df = pd.read_csv('texas_multi_df.csv', parse_dates=['Date'])\n",
    "covid_df.drop(columns = ['PROVINCE_STATE_NAME'], inplace = True)\n",
    "covid_df = covid_df.rename(columns={'Date': 'ds', 'PEOPLE_POSITIVE_NEW_CASES_COUNT': 'y'})\n",
    "covid_df = covid_df.drop(['new_cases_1 lag', 'new_cases_2_lag', 'new_cases_3_lag', 'new_cases_4_lag', 'new_cases_7_lag', 'new_cases_30_lag', 'new_cases_50_lag', 'new_cases_150_lag', 'new_cases_350_lag', 'new_deaths_1_lag', 'new_deaths_2_lag', 'new_deaths_3_lag', 'new_deaths_4_lag', 'new_deaths_7_lag', 'new_deaths_30_lag', 'new_deaths_50_lag'], axis=1)\n",
    "\n",
    "train_size = int(len(covid_df)* 0.85)\n",
    "covid_train = covid_df[0:train_size] # notice here the original test test is never used"
   ]
  },
  {
   "cell_type": "code",
   "execution_count": 3,
   "id": "553cda9d",
   "metadata": {},
   "outputs": [
    {
     "data": {
      "text/plain": [
       "671"
      ]
     },
     "execution_count": 3,
     "metadata": {},
     "output_type": "execute_result"
    }
   ],
   "source": [
    "train_size"
   ]
  },
  {
   "cell_type": "code",
   "execution_count": 4,
   "id": "43008fd9",
   "metadata": {},
   "outputs": [],
   "source": [
    "X_train = covid_train.drop(columns=['ds', 'y'], axis=1)\n",
    "y_train = covid_train['y']"
   ]
  },
  {
   "cell_type": "code",
   "execution_count": 5,
   "id": "9351efe7",
   "metadata": {},
   "outputs": [
    {
     "name": "stdout",
     "output_type": "stream",
     "text": [
      "['new_hospitalized_patients', 'new_cases_10_mean', 'PEOPLE_DEATH_NEW_COUNT', 'new_cases_10_max', 'current_intensive_care_patients', 'new_cases_10_std', 'new_deaths_100_std', 'relative_humidity', 'dew_point', 'new_deaths_10_mean', 'rainfall_mm', 'new_cases_50_mean', 'new_cases_50_std', 'new_deaths_10_std', 'new_cases_10_min', 'minimum_temperature_celsius', 'average_temperature_celsius', 'maximum_temperature_celsius', 'new_deaths_50_std', 'new_deaths_50_mean', 'new_deaths_10_min', 'new_cases_100_min', 'new_cases_100_mean', 'Booster_Doses', 'new_deaths_100_max', 'new_cases_100_std', 'new_deaths_100_mean', 'Booster_Doses_50Plus', 'new_cases_50_max', 'Booster_Doses_65Plus']\n"
     ]
    }
   ],
   "source": [
    "model_a = CatBoostRegressor().fit(X_train, y_train, verbose=False)\n",
    "predictors_1 = pd.concat([pd.Series(model_a.feature_importances_),\n",
    "           pd.Series(X_train.columns)],axis=1).sort_values(by = 0,ascending = False).head(30)\n",
    "print(predictors_1[1].to_list())"
   ]
  },
  {
   "cell_type": "code",
   "execution_count": 6,
   "id": "3893745a",
   "metadata": {},
   "outputs": [
    {
     "name": "stdout",
     "output_type": "stream",
     "text": [
      "['new_cases_10_std', 'new_cases_10_mean', 'PEOPLE_DEATH_NEW_COUNT', 'new_hospitalized_patients', 'new_deaths_10_mean', 'new_cases_10_max', 'relative_humidity', 'new_deaths_10_std', 'dew_point', 'minimum_temperature_celsius', 'current_intensive_care_patients', 'new_cases_50_std', 'average_temperature_celsius', 'maximum_temperature_celsius', 'new_cases_10_min', 'new_deaths_50_std', 'new_cases_50_mean', 'Booster_Doses_65Plus', 'new_deaths_100_std', 'Administered_Dose1_Recip_5Plus', 'new_deaths_10_min', 'rainfall_mm', 'new_deaths_50_mean', 'new_cases_100_std', 'Series_Complete_5Plus', 'Booster_Doses', 'new_cases_100_mean', 'new_cases_50_max', 'new_deaths_10_max', 'Booster_Doses_18Plus']\n"
     ]
    }
   ],
   "source": [
    "model_b = LGBMRegressor().fit(X_train, y_train, verbose=False)\n",
    "predictors_2 = pd.concat([pd.Series(model_b.feature_importances_),\n",
    "           pd.Series(X_train.columns)],axis=1).sort_values(by = 0,ascending = False).head(30)\n",
    "print(predictors_2[1].to_list())"
   ]
  },
  {
   "cell_type": "code",
   "execution_count": 7,
   "id": "414bbf88",
   "metadata": {},
   "outputs": [
    {
     "name": "stdout",
     "output_type": "stream",
     "text": [
      "['new_cases_10_mean', 'new_hospitalized_patients', 'current_intensive_care_patients', 'PEOPLE_DEATH_NEW_COUNT', 'new_cases_10_max', 'new_cases_10_std', 'new_cases_50_mean', 'new_deaths_50_std', 'new_deaths_10_mean', 'new_deaths_100_std', 'dew_point', 'Series_Complete_18Plus', 'Completeness_pct', 'new_cases_10_min', 'new_cases_100_std', 'new_deaths_10_std', 'new_cases_50_std', 'Administered_Dose1_Recip', 'new_deaths_50_mean', 'new_cases_100_mean', 'rainfall_mm', 'Booster_Doses_50Plus', 'minimum_temperature_celsius', 'vaccination_rate_1dose', 'stringency_index', 'new_deaths_10_min', 'average_temperature_celsius', 'Booster_Doses_65Plus', 'Series_Complete_5Plus', 'Administered_Dose1_Recip_5Plus']\n"
     ]
    }
   ],
   "source": [
    "from sklearn.ensemble import GradientBoostingRegressor,GradientBoostingClassifier, BaggingRegressor,BaggingClassifier,RandomForestRegressor,RandomForestClassifier,AdaBoostRegressor,AdaBoostClassifier\n",
    "\n",
    "model_c = GradientBoostingRegressor().fit(X_train, y_train)\n",
    "predictors_3 = pd.concat([pd.Series(model_c.feature_importances_),\n",
    "           pd.Series(X_train.columns)],axis=1).sort_values(by = 0,ascending = False).head(30)\n",
    "print(predictors_3[1].to_list())"
   ]
  },
  {
   "cell_type": "code",
   "execution_count": 8,
   "id": "f46b63c7",
   "metadata": {},
   "outputs": [
    {
     "name": "stdout",
     "output_type": "stream",
     "text": [
      "['new_cases_10_mean', 'new_cases_10_max', 'new_cases_10_std', 'new_hospitalized_patients', 'PEOPLE_DEATH_NEW_COUNT', 'current_intensive_care_patients', 'maximum_temperature_celsius', 'new_cases_10_min', 'Booster_Doses_65Plus', 'new_cases_100_mean', 'new_deaths_50_mean', 'new_cases_100_std', 'rainfall_mm', 'new_deaths_10_mean', 'Administered_Dose1_Recip', 'relative_humidity', 'Booster_Doses_50Plus', 'new_deaths_50_std', 'booster_rate', 'new_cases_50_std', 'Administered_Dose1_Recip_18Plus', 'dew_point', 'minimum_temperature_celsius', 'Series_Complete_5Plus', 'school_closing', 'new_deaths_10_std', 'average_temperature_celsius', 'vaccination_rate_complete', 'vaccination_policy', 'Series_Complete_18Plus']\n"
     ]
    }
   ],
   "source": [
    "from sklearn.ensemble import BaggingRegressor,BaggingClassifier,AdaBoostRegressor,AdaBoostClassifier\n",
    "from sklearn.tree import DecisionTreeRegressor,DecisionTreeClassifier\n",
    "\n",
    "model_d = AdaBoostRegressor(random_state=1, base_estimator = DecisionTreeRegressor(random_state=1)).fit(X_train, y_train)\n",
    "predictors_4 = pd.concat([pd.Series(model_d.feature_importances_),\n",
    "           pd.Series(X_train.columns)],axis=1).sort_values(by = 0,ascending = False).head(30)\n",
    "print(predictors_4[1].to_list())"
   ]
  },
  {
   "cell_type": "code",
   "execution_count": 9,
   "id": "daedb25e",
   "metadata": {},
   "outputs": [
    {
     "name": "stdout",
     "output_type": "stream",
     "text": [
      "['new_cases_10_mean', 'new_hospitalized_patients', 'current_intensive_care_patients', 'PEOPLE_DEATH_NEW_COUNT', 'new_cases_10_max', 'new_cases_10_std', 'new_cases_100_std', 'new_deaths_10_mean', 'new_cases_50_std', 'new_cases_10_min', 'new_deaths_10_std', 'relative_humidity', 'new_deaths_50_mean', 'new_cases_50_mean', 'maximum_temperature_celsius', 'dew_point', 'new_cases_100_mean', 'rainfall_mm', 'Series_Complete_12Plus', 'new_deaths_100_std', 'minimum_temperature_celsius', 'new_deaths_10_min', 'vaccination_rate_complete', 'average_temperature_celsius', 'Booster_Doses_65Plus', 'new_deaths_100_mean', 'Series_Complete_5Plus', 'booster_rate', 'new_deaths_50_std', 'Series_Complete_5to17']\n"
     ]
    }
   ],
   "source": [
    "from sklearn.ensemble import BaggingRegressor,BaggingClassifier,RandomForestRegressor,RandomForestClassifier\n",
    "\n",
    "model_e = RandomForestRegressor().fit(X_train, y_train)\n",
    "predictors_5 = pd.concat([pd.Series(model_e.feature_importances_), pd.Series(X_train.columns)], axis=1).sort_values(by=0, ascending = False).head(30)\n",
    "print(predictors_5[1].to_list())"
   ]
  },
  {
   "cell_type": "code",
   "execution_count": 10,
   "id": "e7fdfb69",
   "metadata": {},
   "outputs": [
    {
     "name": "stdout",
     "output_type": "stream",
     "text": [
      "Earth Model\n",
      "--------------------------------------------------------------------\n",
      "Basis Function                                 Pruned  Coefficient  \n",
      "--------------------------------------------------------------------\n",
      "(Intercept)                                    No      85230.5      \n",
      "new_cases_10_mean                              Yes     None         \n",
      "new_deaths_10_mean                             No      -161.295     \n",
      "h(PEOPLE_DEATH_NEW_COUNT-334)                  No      -155.353     \n",
      "h(334-PEOPLE_DEATH_NEW_COUNT)                  Yes     None         \n",
      "h(new_deaths_10_max-480)                       No      46.8055      \n",
      "h(480-new_deaths_10_max)                       No      -16.911      \n",
      "h(new_cases_50_mean-18223.5)                   Yes     None         \n",
      "h(18223.5-new_cases_50_mean)                   No      -2.00675     \n",
      "h(new_deaths_50_mean-258.08)                   No      -625.713     \n",
      "h(258.08-new_deaths_50_mean)                   Yes     None         \n",
      "h(new_cases_10_std-8329.86)                    No      5.86785      \n",
      "h(8329.86-new_cases_10_std)                    Yes     None         \n",
      "h(new_cases_100_mean-15344.1)                  Yes     None         \n",
      "h(15344.1-new_cases_100_mean)                  No      60.5469      \n",
      "h(dew_point+3.95062)                           No      -137.353     \n",
      "h(-3.95062-dew_point)                          Yes     None         \n",
      "h(new_cases_100_mean-15153.7)                  No      22.1231      \n",
      "h(15153.7-new_cases_100_mean)                  No      -60.4818     \n",
      "new_cases_10_max                               Yes     None         \n",
      "h(average_temperature_celsius-3.32778)         Yes     None         \n",
      "h(3.32778-average_temperature_celsius)         No      676.553      \n",
      "h(new_deaths_50_std-27.3653)                   No      28.3716      \n",
      "h(27.3653-new_deaths_50_std)                   No      150.455      \n",
      "h(average_temperature_celsius-4.62222)         Yes     None         \n",
      "h(4.62222-average_temperature_celsius)         Yes     None         \n",
      "h(PEOPLE_DEATH_NEW_COUNT-402)                  No      -207.212     \n",
      "h(402-PEOPLE_DEATH_NEW_COUNT)                  No      -32.0435     \n",
      "h(new_cases_50_std-8044.59)                    Yes     None         \n",
      "h(8044.59-new_cases_50_std)                    Yes     None         \n",
      "h(new_cases_10_max-42057)                      Yes     None         \n",
      "h(42057-new_cases_10_max)                      No      -0.810533    \n",
      "h(new_cases_50_std-8603.08)                    Yes     None         \n",
      "h(8603.08-new_cases_50_std)                    Yes     None         \n",
      "h(PEOPLE_DEATH_NEW_COUNT-367)                  No      343.791      \n",
      "h(367-PEOPLE_DEATH_NEW_COUNT)                  Yes     None         \n",
      "h(new_cases_50_std-7416.46)                    No      -82.6526     \n",
      "h(7416.46-new_cases_50_std)                    No      121.239      \n",
      "h(new_cases_50_std-7807.6)                     Yes     None         \n",
      "h(7807.6-new_cases_50_std)                     No      -121.077     \n",
      "h(new_cases_100_min-2068)                      No      -12.042      \n",
      "h(2068-new_cases_100_min)                      No      1.75491      \n",
      "h(new_cases_50_std-7977.04)                    No      76.9619      \n",
      "h(7977.04-new_cases_50_std)                    Yes     None         \n",
      "h(new_cases_50_std-7574.26)                    Yes     None         \n",
      "h(7574.26-new_cases_50_std)                    Yes     None         \n",
      "h(new_deaths_10_std-95.38)                     No      -78.8049     \n",
      "h(95.38-new_deaths_10_std)                     Yes     None         \n",
      "h(new_cases_10_mean-16770.1)                   No      10.8015      \n",
      "h(16770.1-new_cases_10_mean)                   Yes     None         \n",
      "h(new_cases_10_mean-13980.1)                   No      -4.26221     \n",
      "h(13980.1-new_cases_10_mean)                   Yes     None         \n",
      "h(new_cases_10_mean-18852.6)                   No      -29.7206     \n",
      "h(18852.6-new_cases_10_mean)                   Yes     None         \n",
      "h(new_hospitalized_patients-1520)              Yes     None         \n",
      "h(1520-new_hospitalized_patients)              No      80.2175      \n",
      "h(new_cases_50_mean-15201.9)                   No      3.10235      \n",
      "h(15201.9-new_cases_50_mean)                   Yes     None         \n",
      "h(new_deaths_100_std-16.2865)                  Yes     None         \n",
      "h(16.2865-new_deaths_100_std)                  No      -617.694     \n",
      "h(new_cases_10_mean-19512.6)                   Yes     None         \n",
      "h(19512.6-new_cases_10_mean)                   No      14.1433      \n",
      "h(new_cases_10_std-10930.5)                    No      -10.237      \n",
      "h(10930.5-new_cases_10_std)                    No      2.62278      \n",
      "h(new_hospitalized_patients-1618)              Yes     None         \n",
      "h(1618-new_hospitalized_patients)              No      -58.5053     \n",
      "h(new_hospitalized_patients-1197)              No      11.2241      \n",
      "h(1197-new_hospitalized_patients)              No      -21.1152     \n",
      "h(Administered_Dose1_Recip_5Plus-2.71765E+06)  Yes     None         \n",
      "h(2.71765E+06-Administered_Dose1_Recip_5Plus)  No      -0.00257444  \n",
      "h(minimum_temperature_celsius-12.7)            Yes     None         \n",
      "h(12.7-minimum_temperature_celsius)            No      -272.238     \n",
      "vaccination_policy                             No      -1221.25     \n",
      "h(new_cases_10_mean-18188.8)                   No      23.5973      \n",
      "h(18188.8-new_cases_10_mean)                   Yes     None         \n",
      "h(new_cases_10_mean-17524.7)                   Yes     None         \n",
      "h(17524.7-new_cases_10_mean)                   No      -14.9388     \n",
      "new_cases_50_min                               Yes     None         \n",
      "--------------------------------------------------------------------\n",
      "MSE: 7968672.0677, GCV: 11239166.3574, RSQ: 0.8418, GRSQ: 0.7776\n"
     ]
    }
   ],
   "source": [
    "# using MARS summary for feature selection\n",
    "model = Earth(max_terms=1000, max_degree=1, feature_importance_type = 'rss') # note, terms in brackets are the hyperparameters \n",
    "model.fit(X_train,y_train)\n",
    "print(model.summary())"
   ]
  },
  {
   "cell_type": "code",
   "execution_count": 11,
   "id": "15338145",
   "metadata": {},
   "outputs": [],
   "source": [
    "def common_member(a, b, c, d, e):\n",
    "    set_1 = set(a)\n",
    "    set_2 = set(b)\n",
    "    set_3 = set(c)\n",
    "    set_4 = set(d)\n",
    "    set_5 = set(e)\n",
    " \n",
    "    if (set_1 & set_2 & set_3 & set_4 & set_5):\n",
    "        print(set_1 & set_2 & set_3 & set_4 & set_5)\n"
   ]
  },
  {
   "cell_type": "code",
   "execution_count": 12,
   "id": "0b7a6577",
   "metadata": {},
   "outputs": [],
   "source": [
    "a = predictors_1[1].to_list()\n",
    "b = predictors_2[1].to_list()\n",
    "c = predictors_3[1].to_list()\n",
    "d = predictors_4[1].to_list()\n",
    "e = predictors_5[1].to_list()"
   ]
  },
  {
   "cell_type": "code",
   "execution_count": 13,
   "id": "ba9212ce",
   "metadata": {},
   "outputs": [
    {
     "name": "stdout",
     "output_type": "stream",
     "text": [
      "{'new_hospitalized_patients', 'PEOPLE_DEATH_NEW_COUNT', 'minimum_temperature_celsius', 'new_cases_10_max', 'new_cases_10_mean', 'new_cases_50_std', 'new_cases_100_mean', 'dew_point', 'new_deaths_50_mean', 'new_deaths_50_std', 'current_intensive_care_patients', 'new_cases_10_min', 'new_deaths_10_std', 'average_temperature_celsius', 'new_deaths_10_mean', 'Booster_Doses_65Plus', 'new_cases_10_std', 'rainfall_mm', 'new_cases_100_std'}\n"
     ]
    }
   ],
   "source": [
    "full = common_member(a, b, c, d, e)\n",
    "full"
   ]
  },
  {
   "cell_type": "markdown",
   "id": "294e996d",
   "metadata": {},
   "source": [
    "## XGBoost Feature Selection, includes lag and rolling"
   ]
  },
  {
   "cell_type": "code",
   "execution_count": null,
   "id": "a4a320ff",
   "metadata": {},
   "outputs": [],
   "source": [
    "import os\n",
    "os._exit(00)"
   ]
  },
  {
   "cell_type": "code",
   "execution_count": 1,
   "id": "781ede05",
   "metadata": {},
   "outputs": [],
   "source": [
    "import pandas as pd\n",
    "import numpy as np\n",
    "import statsmodels.formula.api as smf\n",
    "import statsmodels.api as sm\n",
    "from pyearth import Earth\n",
    "from sklearn.impute import KNNImputer\n",
    "from sklearn.model_selection import KFold\n",
    "from sklearn.model_selection import train_test_split, cross_val_predict, cross_val_score\n",
    "from sklearn.preprocessing import StandardScaler\n",
    "from sklearn.neighbors import KNeighborsRegressor\n",
    "from sklearn.ensemble import BaggingRegressor,BaggingClassifier,AdaBoostRegressor,AdaBoostClassifier\n",
    "from statsmodels.stats.outliers_influence import variance_inflation_factor\n",
    "from sklearn.model_selection import GridSearchCV, ParameterGrid, StratifiedKFold, RandomizedSearchCV\n",
    "from statsmodels.tools.tools import add_constant\n",
    "import xgboost as xgb\n",
    "from lightgbm import LGBMRegressor\n",
    "from catboost import CatBoostRegressor\n",
    "import time\n",
    "\n",
    "import warnings\n",
    "warnings.filterwarnings(\"ignore\")"
   ]
  },
  {
   "cell_type": "code",
   "execution_count": 2,
   "id": "d8a17174",
   "metadata": {},
   "outputs": [],
   "source": [
    "covid_df = pd.read_csv('texas_multi_df.csv', parse_dates=['Date'])\n",
    "covid_df.drop(columns = ['PROVINCE_STATE_NAME'], inplace = True)\n",
    "covid_df = covid_df.rename(columns={'Date': 'ds', 'PEOPLE_POSITIVE_NEW_CASES_COUNT': 'y'})\n",
    "\n",
    "train_size = int(len(covid_df)* 0.85)\n",
    "covid_train = covid_df[0:train_size]\n",
    "\n",
    "X_train = covid_train.drop(columns=['ds', 'y'], axis=1)\n",
    "X_train = X_train.astype('float32')\n",
    "y_train = covid_train['y']"
   ]
  },
  {
   "cell_type": "code",
   "execution_count": 3,
   "id": "f1db7f61",
   "metadata": {},
   "outputs": [
    {
     "name": "stdout",
     "output_type": "stream",
     "text": [
      "['new_cases_7_lag', 'new_cases_10_mean', 'new_hospitalized_patients', 'new_cases_10_max', 'new_cases_1 lag', 'new_cases_10_std', 'PEOPLE_DEATH_NEW_COUNT', 'new_cases_2_lag', 'new_deaths_30_lag', 'new_deaths_2_lag', 'new_deaths_50_lag', 'new_cases_3_lag', 'new_cases_50_lag', 'new_deaths_100_std', 'new_cases_10_min', 'new_cases_4_lag', 'new_deaths_3_lag', 'new_deaths_4_lag', 'new_deaths_1_lag', 'new_cases_150_lag', 'current_intensive_care_patients', 'new_cases_50_max', 'new_cases_50_std', 'new_deaths_7_lag', 'dew_point', 'new_cases_50_mean', 'relative_humidity', 'rainfall_mm', 'new_cases_100_std', 'maximum_temperature_celsius', 'new_deaths_50_max', 'Booster_Doses_12Plus', 'new_cases_30_lag', 'new_cases_100_max', 'new_deaths_50_mean', 'new_deaths_50_std', 'new_deaths_100_mean', 'new_deaths_100_min', 'minimum_temperature_celsius', 'Booster_Doses_50Plus']\n"
     ]
    }
   ],
   "source": [
    "model_a = CatBoostRegressor().fit(X_train, y_train, verbose=False)\n",
    "predictors_7 = pd.concat([pd.Series(model_a.feature_importances_),\n",
    "           pd.Series(X_train.columns)],axis=1).sort_values(by = 0,ascending = False).head(40)\n",
    "print(predictors_7[1].to_list())"
   ]
  },
  {
   "cell_type": "code",
   "execution_count": 4,
   "id": "521567e7",
   "metadata": {},
   "outputs": [
    {
     "name": "stdout",
     "output_type": "stream",
     "text": [
      "['new_cases_10_std', 'new_cases_1 lag', 'new_cases_7_lag', 'new_cases_10_mean', 'new_cases_10_max', 'PEOPLE_DEATH_NEW_COUNT', 'new_hospitalized_patients', 'new_cases_4_lag', 'new_cases_2_lag', 'new_deaths_2_lag', 'new_cases_3_lag', 'new_deaths_50_lag', 'new_deaths_7_lag', 'new_deaths_4_lag', 'new_cases_50_lag', 'relative_humidity', 'new_deaths_30_lag', 'new_deaths_1_lag', 'new_cases_150_lag', 'maximum_temperature_celsius', 'current_intensive_care_patients', 'new_deaths_3_lag', 'new_cases_50_std', 'new_cases_350_lag', 'new_cases_30_lag', 'dew_point', 'new_cases_10_min', 'new_deaths_10_std', 'minimum_temperature_celsius', 'rainfall_mm']\n"
     ]
    }
   ],
   "source": [
    "model_b = LGBMRegressor().fit(X_train, y_train, verbose=False)\n",
    "predictors_8 = pd.concat([pd.Series(model_b.feature_importances_),\n",
    "           pd.Series(X_train.columns)],axis=1).sort_values(by = 0,ascending = False).head(30)\n",
    "print(predictors_8[1].to_list())"
   ]
  },
  {
   "cell_type": "code",
   "execution_count": 5,
   "id": "e085bb4e",
   "metadata": {},
   "outputs": [
    {
     "name": "stdout",
     "output_type": "stream",
     "text": [
      "['new_cases_10_mean', 'new_cases_10_max', 'new_cases_7_lag', 'new_hospitalized_patients', 'new_deaths_2_lag', 'contact_tracing', 'new_cases_50_max', 'new_cases_2_lag', 'new_cases_100_mean', 'new_deaths_50_lag', 'new_cases_1 lag', 'new_cases_10_std', 'new_deaths_1_lag', 'current_intensive_care_patients', 'Administered_Dose1_Recip', 'Completeness_pct', 'new_cases_350_lag', 'dew_point', 'new_deaths_30_lag', 'new_deaths_100_mean', 'PEOPLE_DEATH_NEW_COUNT', 'new_cases_10_min', 'new_cases_4_lag', 'new_deaths_10_min', 'new_cases_50_lag', 'new_deaths_7_lag', 'new_deaths_4_lag', 'new_deaths_3_lag', 'new_deaths_100_std', 'new_cases_50_std']\n"
     ]
    }
   ],
   "source": [
    "model_g = xgb.XGBRegressor().fit(X_train, y_train, verbose=False)\n",
    "predictors_6 = pd.concat([pd.Series(model_g.feature_importances_),\n",
    "           pd.Series(X_train.columns)],axis=1).sort_values(by = 0,ascending = False).head(30)\n",
    "print(predictors_6[1].to_list())"
   ]
  },
  {
   "cell_type": "code",
   "execution_count": 6,
   "id": "16887329",
   "metadata": {},
   "outputs": [
    {
     "name": "stdout",
     "output_type": "stream",
     "text": [
      "Earth Model\n",
      "---------------------------------------------------------------------------\n",
      "Basis Function                                       Pruned  Coefficient   \n",
      "---------------------------------------------------------------------------\n",
      "(Intercept)                                          No      587759        \n",
      "new_cases_10_mean                                    No      2.08445       \n",
      "present(new_deaths_2_lag)                            Yes     None          \n",
      "missing(new_deaths_2_lag)                            Yes     None          \n",
      "h(new_deaths_2_lag-402)*present(new_deaths_2_lag)    No      -10.68        \n",
      "h(402-new_deaths_2_lag)*present(new_deaths_2_lag)    No      -15.9691      \n",
      "present(new_cases_2_lag)                             No      32368.5       \n",
      "missing(new_cases_2_lag)                             Yes     None          \n",
      "h(new_cases_2_lag-21281)*present(new_cases_2_lag)    No      6.26914       \n",
      "h(21281-new_cases_2_lag)*present(new_cases_2_lag)    Yes     None          \n",
      "present(new_cases_4_lag)                             Yes     None          \n",
      "missing(new_cases_4_lag)                             Yes     None          \n",
      "new_cases_4_lag*present(new_cases_4_lag)             Yes     None          \n",
      "present(new_deaths_4_lag)                            Yes     None          \n",
      "missing(new_deaths_4_lag)                            Yes     None          \n",
      "h(new_deaths_4_lag-402)*present(new_deaths_4_lag)    Yes     None          \n",
      "h(402-new_deaths_4_lag)*present(new_deaths_4_lag)    No      5.88657       \n",
      "present(new_cases_3_lag)                             Yes     None          \n",
      "missing(new_cases_3_lag)                             Yes     None          \n",
      "new_cases_3_lag*present(new_cases_3_lag)             No      -0.339272     \n",
      "present(new_cases_1 lag)                             Yes     None          \n",
      "missing(new_cases_1 lag)                             Yes     None          \n",
      "h(new_cases_1 lag-12143)*present(new_cases_1 lag)    No      -0.604601     \n",
      "h(12143-new_cases_1 lag)*present(new_cases_1 lag)    Yes     None          \n",
      "h(new_cases_100_mean-15153.7)                        No      -23.2459      \n",
      "h(15153.7-new_cases_100_mean)                        Yes     None          \n",
      "h(new_deaths_50_mean-276.26)                         Yes     None          \n",
      "h(276.26-new_deaths_50_mean)                         No      2033.92       \n",
      "h(dew_point+3.95062)                                 Yes     None          \n",
      "h(-3.95062-dew_point)                                No      -329.214      \n",
      "h(new_cases_10_std-13357.2)                          Yes     None          \n",
      "h(13357.2-new_cases_10_std)                          Yes     None          \n",
      "h(new_hospitalized_patients-1719)                    No      23.1972       \n",
      "h(1719-new_hospitalized_patients)                    No      -14.2751      \n",
      "h(new_cases_50_mean-18223.5)                         No      7.7593        \n",
      "h(18223.5-new_cases_50_mean)                         No      0.701954      \n",
      "present(new_deaths_50_lag)                           Yes     None          \n",
      "missing(new_deaths_50_lag)                           Yes     None          \n",
      "h(new_deaths_50_lag-334)*present(new_deaths_50_lag)  Yes     None          \n",
      "h(334-new_deaths_50_lag)*present(new_deaths_50_lag)  No      3.17019       \n",
      "h(new_cases_4_lag-15060)*present(new_cases_4_lag)    No      -2.25877      \n",
      "h(15060-new_cases_4_lag)*present(new_cases_4_lag)    Yes     None          \n",
      "h(current_intensive_care_patients-3802)              No      106.186       \n",
      "h(3802-current_intensive_care_patients)              Yes     None          \n",
      "h(new_cases_2_lag-15411)*present(new_cases_2_lag)    No      -4.78146      \n",
      "h(15411-new_cases_2_lag)*present(new_cases_2_lag)    No      4.62532       \n",
      "h(new_hospitalized_patients-1520)                    Yes     None          \n",
      "h(1520-new_hospitalized_patients)                    No      13.2802       \n",
      "h(new_cases_10_max-42057)                            No      -0.909184     \n",
      "h(42057-new_cases_10_max)                            No      -0.366342     \n",
      "h(new_cases_10_std-10930.5)                          No      2.69728       \n",
      "h(10930.5-new_cases_10_std)                          No      0.925397      \n",
      "h(new_deaths_10_std-41.1928)                         No      122.539       \n",
      "h(41.1928-new_deaths_10_std)                         Yes     None          \n",
      "present(new_cases_7_lag)                             Yes     None          \n",
      "missing(new_cases_7_lag)                             Yes     None          \n",
      "h(new_cases_7_lag-14034)*present(new_cases_7_lag)    Yes     None          \n",
      "h(14034-new_cases_7_lag)*present(new_cases_7_lag)    Yes     None          \n",
      "present(new_cases_350_lag)                           Yes     None          \n",
      "missing(new_cases_350_lag)                           No      3162.18       \n",
      "new_cases_350_lag*present(new_cases_350_lag)         Yes     None          \n",
      "h(Booster_Doses_18Plus-605887)                       No      -0.231454     \n",
      "h(605887-Booster_Doses_18Plus)                       No      0.217416      \n",
      "h(new_cases_100_min-2068)                            No      -17.3801      \n",
      "h(2068-new_cases_100_min)                            No      1.38469       \n",
      "new_deaths_10_mean                                   Yes     None          \n",
      "h(PEOPLE_DEATH_NEW_COUNT-402)                        No      -11.2464      \n",
      "h(402-PEOPLE_DEATH_NEW_COUNT)                        No      -24.464       \n",
      "h(new_cases_50_std-7738.96)                          No      -145.165      \n",
      "h(7738.96-new_cases_50_std)                          Yes     None          \n",
      "new_cases_50_min                                     No      0.814033      \n",
      "h(new_deaths_10_std-19.5576)                         No      -80.9903      \n",
      "h(19.5576-new_deaths_10_std)                         Yes     None          \n",
      "h(new_cases_2_lag-22650)*present(new_cases_2_lag)    Yes     None          \n",
      "h(22650-new_cases_2_lag)*present(new_cases_2_lag)    No      -4.23024      \n",
      "h(new_cases_2_lag-18576)*present(new_cases_2_lag)    No      -2.11496      \n",
      "h(18576-new_cases_2_lag)*present(new_cases_2_lag)    Yes     None          \n",
      "present(new_cases_50_lag)                            Yes     None          \n",
      "missing(new_cases_50_lag)                            Yes     None          \n",
      "h(new_cases_50_lag-24078)*present(new_cases_50_lag)  Yes     None          \n",
      "h(24078-new_cases_50_lag)*present(new_cases_50_lag)  Yes     None          \n",
      "h(new_cases_50_std-7574.26)                          No      88.1889       \n",
      "h(7574.26-new_cases_50_std)                          No      -0.748092     \n",
      "h(new_cases_50_std-7977.04)                          No      56.0531       \n",
      "h(7977.04-new_cases_50_std)                          Yes     None          \n",
      "h(new_deaths_50_mean-258.08)                         No      881.739       \n",
      "h(258.08-new_deaths_50_mean)                         No      -2076.32      \n",
      "h(new_cases_100_mean-14380.9)                        No      16.752        \n",
      "h(14380.9-new_cases_100_mean)                        Yes     None          \n",
      "h(booster_rate-0.113717)                             No      6.9095e+06    \n",
      "h(0.113717-booster_rate)                             No      -6.73959e+06  \n",
      "h(Booster_Doses-3.1192E+06)                          Yes     None          \n",
      "h(3.1192E+06-Booster_Doses)                          Yes     None          \n",
      "h(new_cases_350_lag-82)*present(new_cases_350_lag)   Yes     None          \n",
      "h(82-new_cases_350_lag)*present(new_cases_350_lag)   No      61.4906       \n",
      "h(new_cases_4_lag-18576)*present(new_cases_4_lag)    No      1.7906        \n",
      "h(18576-new_cases_4_lag)*present(new_cases_4_lag)    No      -0.803122     \n",
      "h(new_cases_4_lag-12724)*present(new_cases_4_lag)    Yes     None          \n",
      "h(12724-new_cases_4_lag)*present(new_cases_4_lag)    No      0.965873      \n",
      "h(new_deaths_10_mean-284.6)                          Yes     None          \n",
      "h(284.6-new_deaths_10_mean)                          No      88.7115       \n",
      "present(new_deaths_3_lag)                            Yes     None          \n",
      "missing(new_deaths_3_lag)                            Yes     None          \n",
      "new_deaths_3_lag*present(new_deaths_3_lag)           No      4.82853       \n",
      "---------------------------------------------------------------------------\n",
      "MSE: 4424444.6746, GCV: 6831503.4112, RSQ: 0.9122, GRSQ: 0.8648\n"
     ]
    }
   ],
   "source": [
    "model = Earth(max_terms=1000, max_degree=1, feature_importance_type = 'rss', allow_missing=True) \n",
    "model.fit(X_train,y_train)\n",
    "print(model.summary())"
   ]
  },
  {
   "cell_type": "code",
   "execution_count": 7,
   "id": "fa55033a",
   "metadata": {},
   "outputs": [],
   "source": [
    "def common_member(a, b, c):\n",
    "    set_1 = set(a)\n",
    "    set_2 = set(b)\n",
    "    set_3 = set(c)\n",
    " \n",
    "    if (set_1 & set_2 & set_3):\n",
    "        print(set_1 & set_2 & set_3)\n"
   ]
  },
  {
   "cell_type": "code",
   "execution_count": 8,
   "id": "b466004a",
   "metadata": {},
   "outputs": [],
   "source": [
    "a = predictors_7[1].to_list()\n",
    "b = predictors_8[1].to_list()\n",
    "c = predictors_6[1].to_list()"
   ]
  },
  {
   "cell_type": "code",
   "execution_count": 9,
   "id": "427e1e31",
   "metadata": {},
   "outputs": [
    {
     "name": "stdout",
     "output_type": "stream",
     "text": [
      "{'new_cases_10_min', 'new_deaths_2_lag', 'PEOPLE_DEATH_NEW_COUNT', 'new_cases_10_std', 'new_cases_7_lag', 'new_hospitalized_patients', 'dew_point', 'new_cases_10_max', 'new_deaths_7_lag', 'new_deaths_1_lag', 'new_cases_50_lag', 'new_deaths_30_lag', 'new_cases_50_std', 'new_deaths_3_lag', 'new_cases_2_lag', 'new_cases_10_mean', 'new_cases_4_lag', 'new_cases_1 lag', 'current_intensive_care_patients', 'new_deaths_4_lag', 'new_deaths_50_lag'}\n"
     ]
    }
   ],
   "source": [
    "full = common_member(a, b, c)\n",
    "full"
   ]
  },
  {
   "cell_type": "code",
   "execution_count": null,
   "id": "280036a3",
   "metadata": {},
   "outputs": [],
   "source": []
  },
  {
   "cell_type": "code",
   "execution_count": null,
   "id": "791f1b4d",
   "metadata": {},
   "outputs": [],
   "source": []
  },
  {
   "cell_type": "code",
   "execution_count": null,
   "id": "ca9a3e03",
   "metadata": {},
   "outputs": [],
   "source": []
  }
 ],
 "metadata": {
  "kernelspec": {
   "display_name": "Python 3 (ipykernel)",
   "language": "python",
   "name": "python3"
  },
  "language_info": {
   "codemirror_mode": {
    "name": "ipython",
    "version": 3
   },
   "file_extension": ".py",
   "mimetype": "text/x-python",
   "name": "python",
   "nbconvert_exporter": "python",
   "pygments_lexer": "ipython3",
   "version": "3.9.12"
  }
 },
 "nbformat": 4,
 "nbformat_minor": 5
}
