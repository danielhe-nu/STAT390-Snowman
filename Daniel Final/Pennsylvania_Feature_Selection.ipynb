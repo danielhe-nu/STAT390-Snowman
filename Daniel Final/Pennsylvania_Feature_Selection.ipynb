{
 "cells": [
  {
   "cell_type": "code",
   "execution_count": 1,
   "id": "a7149568",
   "metadata": {},
   "outputs": [],
   "source": [
    "import pandas as pd\n",
    "import numpy as np\n",
    "import statsmodels.formula.api as smf\n",
    "import statsmodels.api as sm\n",
    "from pyearth import Earth\n",
    "from sklearn.impute import KNNImputer\n",
    "from sklearn.model_selection import KFold\n",
    "from sklearn.model_selection import train_test_split, cross_val_predict, cross_val_score\n",
    "from sklearn.preprocessing import StandardScaler\n",
    "from sklearn.neighbors import KNeighborsRegressor\n",
    "from sklearn.ensemble import BaggingRegressor,BaggingClassifier,AdaBoostRegressor,AdaBoostClassifier\n",
    "from statsmodels.stats.outliers_influence import variance_inflation_factor\n",
    "from sklearn.model_selection import GridSearchCV, ParameterGrid, StratifiedKFold, RandomizedSearchCV\n",
    "from statsmodels.tools.tools import add_constant\n",
    "import xgboost as xgb\n",
    "from lightgbm import LGBMRegressor\n",
    "from catboost import CatBoostRegressor\n",
    "import time\n",
    "\n",
    "import warnings\n",
    "warnings.filterwarnings(\"ignore\")"
   ]
  },
  {
   "cell_type": "markdown",
   "id": "f9cd2008",
   "metadata": {},
   "source": [
    "## Prophet Feature Selection, so Dropping All Lag and Rolling"
   ]
  },
  {
   "cell_type": "code",
   "execution_count": 2,
   "id": "c704471d",
   "metadata": {},
   "outputs": [],
   "source": [
    "covid_df = pd.read_csv('penn_multi_df.csv', parse_dates=['Date'])\n",
    "covid_df.drop(columns = ['PROVINCE_STATE_NAME'], inplace = True)\n",
    "covid_df = covid_df.rename(columns={'Date': 'ds', 'PEOPLE_POSITIVE_NEW_CASES_COUNT': 'y'})\n",
    "covid_df = covid_df.drop(['new_cases_1 lag', 'new_cases_2_lag', 'new_cases_3_lag', 'new_cases_4_lag', 'new_cases_7_lag', 'new_cases_30_lag', 'new_cases_50_lag', 'new_cases_150_lag', 'new_cases_350_lag', 'new_deaths_1_lag', 'new_deaths_2_lag', 'new_deaths_3_lag', 'new_deaths_4_lag', 'new_deaths_7_lag', 'new_deaths_30_lag', 'new_deaths_50_lag'], axis=1)\n",
    "\n",
    "train_size = int(len(covid_df)* 0.85)\n",
    "covid_train = covid_df[0:train_size] # notice here the original test test is never used"
   ]
  },
  {
   "cell_type": "code",
   "execution_count": 3,
   "id": "553cda9d",
   "metadata": {},
   "outputs": [
    {
     "data": {
      "text/plain": [
       "671"
      ]
     },
     "execution_count": 3,
     "metadata": {},
     "output_type": "execute_result"
    }
   ],
   "source": [
    "train_size"
   ]
  },
  {
   "cell_type": "code",
   "execution_count": 4,
   "id": "43008fd9",
   "metadata": {},
   "outputs": [],
   "source": [
    "X_train = covid_train.drop(columns=['ds', 'y'], axis=1)\n",
    "y_train = covid_train['y']"
   ]
  },
  {
   "cell_type": "code",
   "execution_count": 5,
   "id": "9351efe7",
   "metadata": {},
   "outputs": [
    {
     "name": "stdout",
     "output_type": "stream",
     "text": [
      "['new_hospitalized_patients', 'new_cases_10_mean', 'new_cases_10_max', 'PEOPLE_DEATH_NEW_COUNT', 'new_cases_50_max', 'new_cases_10_std', 'new_cases_10_min', 'current_intensive_care_patients', 'new_deaths_10_mean', 'new_cases_50_min', 'minimum_temperature_celsius', 'Booster_Doses_18Plus', 'new_cases_100_std', 'new_deaths_10_std', 'Series_Complete_Yes', 'vaccination_rate_complete', 'new_cases_50_std', 'average_temperature_celsius', 'new_cases_50_mean', 'Administered_Dose1_Recip_65Plus', 'Administered_Dose1_Recip', 'relative_humidity', 'rainfall_mm', 'new_deaths_100_mean', 'new_cases_100_min', 'Administered_Dose1_Recip_5Plus', 'Series_Complete_5Plus', 'Series_Complete_18Plus', 'new_deaths_100_std', 'Administered_Dose1_Recip_12Plus']\n"
     ]
    }
   ],
   "source": [
    "model_a = CatBoostRegressor().fit(X_train, y_train, verbose=False)\n",
    "predictors_1 = pd.concat([pd.Series(model_a.feature_importances_),\n",
    "           pd.Series(X_train.columns)],axis=1).sort_values(by = 0,ascending = False).head(30)\n",
    "print(predictors_1[1].to_list())"
   ]
  },
  {
   "cell_type": "code",
   "execution_count": 6,
   "id": "3893745a",
   "metadata": {},
   "outputs": [
    {
     "name": "stdout",
     "output_type": "stream",
     "text": [
      "['new_cases_10_std', 'new_cases_10_mean', 'PEOPLE_DEATH_NEW_COUNT', 'new_hospitalized_patients', 'relative_humidity', 'minimum_temperature_celsius', 'current_intensive_care_patients', 'new_cases_50_mean', 'new_cases_10_max', 'rainfall_mm', 'maximum_temperature_celsius', 'new_cases_10_min', 'new_cases_50_std', 'average_temperature_celsius', 'new_deaths_10_mean', 'new_deaths_50_std', 'Administered_Dose1_Recip_5Plus', 'dew_point', 'new_deaths_10_std', 'new_deaths_50_mean', 'new_deaths_100_std', 'new_cases_100_std', 'new_cases_100_mean', 'Administered_Dose1_Recip', 'new_deaths_10_min', 'Series_Complete_5Plus', 'new_deaths_100_mean', 'Booster_Doses_65Plus', 'Booster_Doses', 'Series_Complete_65Plus']\n"
     ]
    }
   ],
   "source": [
    "model_b = LGBMRegressor().fit(X_train, y_train, verbose=False)\n",
    "predictors_2 = pd.concat([pd.Series(model_b.feature_importances_),\n",
    "           pd.Series(X_train.columns)],axis=1).sort_values(by = 0,ascending = False).head(30)\n",
    "print(predictors_2[1].to_list())"
   ]
  },
  {
   "cell_type": "code",
   "execution_count": 7,
   "id": "414bbf88",
   "metadata": {},
   "outputs": [
    {
     "name": "stdout",
     "output_type": "stream",
     "text": [
      "['new_cases_10_max', 'new_hospitalized_patients', 'new_cases_10_mean', 'new_cases_10_min', 'current_intensive_care_patients', 'new_cases_50_std', 'PEOPLE_DEATH_NEW_COUNT', 'Series_Complete_5Plus', 'Booster_Doses_18Plus', 'Series_Complete_Yes', 'Administered_Dose1_Recip_65Plus', 'new_cases_10_std', 'new_deaths_100_mean', 'new_deaths_50_std', 'new_deaths_10_std', 'Booster_Doses', 'vaccination_rate_complete', 'minimum_temperature_celsius', 'new_deaths_50_mean', 'new_deaths_10_mean', 'average_temperature_celsius', 'new_cases_100_mean', 'Booster_Doses_65Plus', 'dew_point', 'Series_Complete_12Plus', 'new_cases_100_max', 'new_deaths_100_std', 'new_cases_50_mean', 'relative_humidity', 'maximum_temperature_celsius']\n"
     ]
    }
   ],
   "source": [
    "from sklearn.ensemble import GradientBoostingRegressor,GradientBoostingClassifier, BaggingRegressor,BaggingClassifier,RandomForestRegressor,RandomForestClassifier,AdaBoostRegressor,AdaBoostClassifier\n",
    "\n",
    "model_c = GradientBoostingRegressor().fit(X_train, y_train)\n",
    "predictors_3 = pd.concat([pd.Series(model_c.feature_importances_),\n",
    "           pd.Series(X_train.columns)],axis=1).sort_values(by = 0,ascending = False).head(30)\n",
    "print(predictors_3[1].to_list())"
   ]
  },
  {
   "cell_type": "code",
   "execution_count": 8,
   "id": "f46b63c7",
   "metadata": {},
   "outputs": [
    {
     "name": "stdout",
     "output_type": "stream",
     "text": [
      "['new_cases_10_mean', 'new_cases_10_max', 'new_hospitalized_patients', 'current_intensive_care_patients', 'new_cases_50_std', 'rainfall_mm', 'PEOPLE_DEATH_NEW_COUNT', 'new_cases_10_std', 'new_cases_10_min', 'minimum_temperature_celsius', 'Series_Complete_65Plus', 'Booster_Doses', 'new_deaths_10_min', 'Series_Complete_Yes', 'average_temperature_celsius', 'vaccination_rate_complete', 'Booster_Doses_65Plus', 'new_deaths_10_mean', 'Booster_Doses_50Plus', 'new_deaths_100_mean', 'Series_Complete_5Plus', 'Series_Complete_12Plus', 'Series_Complete_18Plus', 'new_cases_100_mean', 'Administered_Dose1_Recip_12Plus', 'booster_rate', 'maximum_temperature_celsius', 'new_deaths_50_mean', 'relative_humidity', 'new_cases_100_std']\n"
     ]
    }
   ],
   "source": [
    "from sklearn.ensemble import BaggingRegressor,BaggingClassifier,AdaBoostRegressor,AdaBoostClassifier\n",
    "from sklearn.tree import DecisionTreeRegressor,DecisionTreeClassifier\n",
    "\n",
    "model_d = AdaBoostRegressor(random_state=1, base_estimator = DecisionTreeRegressor(random_state=1)).fit(X_train, y_train)\n",
    "predictors_4 = pd.concat([pd.Series(model_d.feature_importances_),\n",
    "           pd.Series(X_train.columns)],axis=1).sort_values(by = 0,ascending = False).head(30)\n",
    "print(predictors_4[1].to_list())"
   ]
  },
  {
   "cell_type": "code",
   "execution_count": 9,
   "id": "daedb25e",
   "metadata": {},
   "outputs": [
    {
     "name": "stdout",
     "output_type": "stream",
     "text": [
      "['new_cases_10_max', 'new_cases_10_mean', 'new_hospitalized_patients', 'new_cases_10_min', 'current_intensive_care_patients', 'PEOPLE_DEATH_NEW_COUNT', 'new_cases_10_std', 'new_cases_50_std', 'Booster_Doses_50Plus', 'vaccination_rate_complete', 'booster_rate', 'minimum_temperature_celsius', 'Series_Complete_12Plus', 'Booster_Doses_65Plus', 'Booster_Doses', 'relative_humidity', 'new_deaths_10_mean', 'Booster_Doses_18Plus', 'new_deaths_10_min', 'maximum_temperature_celsius', 'Series_Complete_18Plus', 'rainfall_mm', 'Series_Complete_5Plus', 'new_cases_100_mean', 'new_cases_50_min', 'average_temperature_celsius', 'new_deaths_10_std', 'new_deaths_50_std', 'dew_point', 'new_cases_50_mean']\n"
     ]
    }
   ],
   "source": [
    "from sklearn.ensemble import BaggingRegressor,BaggingClassifier,RandomForestRegressor,RandomForestClassifier\n",
    "\n",
    "model_e = RandomForestRegressor().fit(X_train, y_train)\n",
    "predictors_5 = pd.concat([pd.Series(model_e.feature_importances_), pd.Series(X_train.columns)], axis=1).sort_values(by=0, ascending = False).head(30)\n",
    "print(predictors_5[1].to_list())"
   ]
  },
  {
   "cell_type": "code",
   "execution_count": 10,
   "id": "e7fdfb69",
   "metadata": {},
   "outputs": [
    {
     "name": "stdout",
     "output_type": "stream",
     "text": [
      "Earth Model\n",
      "---------------------------------------------------------------------\n",
      "Basis Function                                  Pruned  Coefficient  \n",
      "---------------------------------------------------------------------\n",
      "(Intercept)                                     No      805.655      \n",
      "h(new_cases_10_mean-9356.9)                     No      2.50504      \n",
      "h(9356.9-new_cases_10_mean)                     No      -1.32899     \n",
      "h(Series_Complete_Yes-7.4857E+06)               No      0.193559     \n",
      "h(7.4857E+06-Series_Complete_Yes)               No      0.0608377    \n",
      "h(PEOPLE_DEATH_NEW_COUNT-156)                   Yes     None         \n",
      "h(156-PEOPLE_DEATH_NEW_COUNT)                   No      -10.0026     \n",
      "new_deaths_10_mean                              Yes     None         \n",
      "h(new_cases_10_min-6578)                        No      -0.867931    \n",
      "h(6578-new_cases_10_min)                        No      0.199383     \n",
      "h(Administered_Dose1_Recip_18Plus-9.16048E+06)  No      -0.520513    \n",
      "h(9.16048E+06-Administered_Dose1_Recip_18Plus)  No      0.00385637   \n",
      "h(Administered_Dose1_Recip_12Plus-9.61403E+06)  No      0.212151     \n",
      "h(9.61403E+06-Administered_Dose1_Recip_12Plus)  No      0.0104582    \n",
      "h(vaccination_rate_1dose-0.765776)              Yes     None         \n",
      "h(0.765776-vaccination_rate_1dose)              No      -124447      \n",
      "h(Administered_Dose1_Recip_65Plus-2.86706E+06)  Yes     None         \n",
      "h(2.86706E+06-Administered_Dose1_Recip_65Plus)  No      0.571798     \n",
      "h(Administered_Dose1_Recip_5Plus-9.29651E+06)   No      0.0426893    \n",
      "h(9.29651E+06-Administered_Dose1_Recip_5Plus)   Yes     None         \n",
      "h(Administered_Dose1_Recip-9.85018E+06)         No      0.227813     \n",
      "h(9.85018E+06-Administered_Dose1_Recip)         Yes     None         \n",
      "h(Administered_Dose1_Recip_5Plus-7.19708E+06)   No      -0.0152314   \n",
      "h(7.19708E+06-Administered_Dose1_Recip_5Plus)   Yes     None         \n",
      "h(new_cases_100_std-2779.37)                    No      -2.73654     \n",
      "h(2779.37-new_cases_100_std)                    No      0.172621     \n",
      "h(Series_Complete_12Plus-7.4841E+06)            No      -0.191604    \n",
      "h(7.4841E+06-Series_Complete_12Plus)            No      -0.0638928   \n",
      "h(new_deaths_10_std-86.7269)                    No      47.9342      \n",
      "h(86.7269-new_deaths_10_std)                    No      17.8191      \n",
      "h(Administered_Dose1_Recip_65Plus-2.84565E+06)  Yes     None         \n",
      "h(2.84565E+06-Administered_Dose1_Recip_65Plus)  No      -0.578896    \n",
      "h(maximum_temperature_celsius-1.12222)          Yes     None         \n",
      "h(1.12222-maximum_temperature_celsius)          No      178.529      \n",
      "---------------------------------------------------------------------\n",
      "MSE: 513729.8886, GCV: 621613.1652, RSQ: 0.9454, GRSQ: 0.9342\n"
     ]
    }
   ],
   "source": [
    "# using MARS summary for feature selection\n",
    "model = Earth(max_terms=1000, max_degree=1, feature_importance_type = 'rss') # note, terms in brackets are the hyperparameters \n",
    "model.fit(X_train,y_train)\n",
    "print(model.summary())"
   ]
  },
  {
   "cell_type": "code",
   "execution_count": 11,
   "id": "15338145",
   "metadata": {},
   "outputs": [],
   "source": [
    "def common_member(a, b, c, d, e):\n",
    "    set_1 = set(a)\n",
    "    set_2 = set(b)\n",
    "    set_3 = set(c)\n",
    "    set_4 = set(d)\n",
    "    set_5 = set(e)\n",
    " \n",
    "    if (set_1 & set_2 & set_3 & set_4 & set_5):\n",
    "        print(set_1 & set_2 & set_3 & set_4 & set_5)\n"
   ]
  },
  {
   "cell_type": "code",
   "execution_count": 12,
   "id": "0b7a6577",
   "metadata": {},
   "outputs": [],
   "source": [
    "a = predictors_1[1].to_list()\n",
    "b = predictors_2[1].to_list()\n",
    "c = predictors_3[1].to_list()\n",
    "d = predictors_4[1].to_list()\n",
    "e = predictors_5[1].to_list()"
   ]
  },
  {
   "cell_type": "code",
   "execution_count": 13,
   "id": "ba9212ce",
   "metadata": {},
   "outputs": [
    {
     "name": "stdout",
     "output_type": "stream",
     "text": [
      "{'new_cases_50_std', 'PEOPLE_DEATH_NEW_COUNT', 'relative_humidity', 'average_temperature_celsius', 'new_cases_10_std', 'new_hospitalized_patients', 'Series_Complete_5Plus', 'new_deaths_10_mean', 'current_intensive_care_patients', 'new_cases_10_min', 'new_cases_10_mean', 'new_cases_10_max', 'minimum_temperature_celsius'}\n"
     ]
    }
   ],
   "source": [
    "full = common_member(a, b, c, d, e)\n",
    "full"
   ]
  },
  {
   "cell_type": "markdown",
   "id": "294e996d",
   "metadata": {},
   "source": [
    "## XGBoost Feature Selection, includes lag and rolling"
   ]
  },
  {
   "cell_type": "code",
   "execution_count": null,
   "id": "a4a320ff",
   "metadata": {},
   "outputs": [],
   "source": [
    "import os\n",
    "os._exit(00)"
   ]
  },
  {
   "cell_type": "code",
   "execution_count": 22,
   "id": "781ede05",
   "metadata": {},
   "outputs": [],
   "source": [
    "import pandas as pd\n",
    "import numpy as np\n",
    "import statsmodels.formula.api as smf\n",
    "import statsmodels.api as sm\n",
    "from pyearth import Earth\n",
    "from sklearn.impute import KNNImputer\n",
    "from sklearn.model_selection import KFold\n",
    "from sklearn.model_selection import train_test_split, cross_val_predict, cross_val_score\n",
    "from sklearn.preprocessing import StandardScaler\n",
    "from sklearn.neighbors import KNeighborsRegressor\n",
    "from sklearn.ensemble import BaggingRegressor,BaggingClassifier,AdaBoostRegressor,AdaBoostClassifier\n",
    "from statsmodels.stats.outliers_influence import variance_inflation_factor\n",
    "from sklearn.model_selection import GridSearchCV, ParameterGrid, StratifiedKFold, RandomizedSearchCV\n",
    "from statsmodels.tools.tools import add_constant\n",
    "import xgboost as xgb\n",
    "from lightgbm import LGBMRegressor\n",
    "from catboost import CatBoostRegressor\n",
    "import time\n",
    "\n",
    "import warnings\n",
    "warnings.filterwarnings(\"ignore\")"
   ]
  },
  {
   "cell_type": "code",
   "execution_count": 23,
   "id": "d8a17174",
   "metadata": {},
   "outputs": [],
   "source": [
    "covid_df = pd.read_csv('penn_multi_df.csv', parse_dates=['Date'])\n",
    "covid_df.drop(columns = ['PROVINCE_STATE_NAME'], inplace = True)\n",
    "covid_df = covid_df.rename(columns={'Date': 'ds', 'PEOPLE_POSITIVE_NEW_CASES_COUNT': 'y'})\n",
    "\n",
    "train_size = int(len(covid_df)* 0.85)\n",
    "covid_train = covid_df[0:train_size]\n",
    "\n",
    "X_train = covid_train.drop(columns=['ds', 'y'], axis=1)\n",
    "X_train = X_train.astype('float32')\n",
    "y_train = covid_train['y']"
   ]
  },
  {
   "cell_type": "code",
   "execution_count": 24,
   "id": "f1db7f61",
   "metadata": {},
   "outputs": [
    {
     "name": "stdout",
     "output_type": "stream",
     "text": [
      "['new_cases_7_lag', 'new_cases_10_max', 'new_hospitalized_patients', 'new_cases_1 lag', 'current_intensive_care_patients', 'new_cases_10_mean', 'new_cases_10_min', 'PEOPLE_DEATH_NEW_COUNT', 'new_cases_10_std', 'new_cases_4_lag', 'new_deaths_3_lag', 'new_deaths_4_lag', 'new_deaths_1_lag', 'new_cases_50_std', 'new_cases_50_max', 'new_cases_3_lag', 'new_cases_100_mean', 'new_cases_350_lag', 'Booster_Doses_65Plus', 'Completeness_pct', 'new_cases_50_min', 'Series_Complete_18Plus', 'Administered_Dose1_Recip', 'Booster_Doses', 'Administered_Dose1_Recip_18Plus', 'Booster_Doses_50Plus', 'new_deaths_10_std', 'new_cases_2_lag', 'relative_humidity', 'new_cases_30_lag', 'new_deaths_50_max', 'vaccination_rate_complete', 'minimum_temperature_celsius', 'new_deaths_7_lag', 'Series_Complete_5Plus', 'new_cases_100_std', 'Administered_Dose1_Recip_5Plus', 'new_deaths_10_mean', 'Series_Complete_12Plus', 'average_temperature_celsius']\n"
     ]
    }
   ],
   "source": [
    "model_a = CatBoostRegressor().fit(X_train, y_train, verbose=False)\n",
    "predictors_7 = pd.concat([pd.Series(model_a.feature_importances_),\n",
    "           pd.Series(X_train.columns)],axis=1).sort_values(by = 0,ascending = False).head(40)\n",
    "print(predictors_7[1].to_list())"
   ]
  },
  {
   "cell_type": "code",
   "execution_count": 25,
   "id": "521567e7",
   "metadata": {},
   "outputs": [
    {
     "name": "stdout",
     "output_type": "stream",
     "text": [
      "['new_cases_10_std', 'new_cases_10_mean', 'new_cases_7_lag', 'new_cases_1 lag', 'new_hospitalized_patients', 'new_cases_3_lag', 'new_deaths_3_lag', 'new_cases_4_lag', 'new_cases_30_lag', 'new_cases_2_lag', 'new_cases_10_min', 'new_deaths_4_lag', 'PEOPLE_DEATH_NEW_COUNT', 'new_cases_10_max', 'new_cases_350_lag', 'relative_humidity', 'new_deaths_1_lag', 'new_cases_50_std', 'new_deaths_50_lag', 'minimum_temperature_celsius', 'new_deaths_30_lag', 'rainfall_mm', 'new_cases_150_lag', 'new_deaths_7_lag', 'new_deaths_2_lag', 'new_cases_50_lag', 'new_cases_50_mean', 'new_deaths_50_std', 'Series_Complete_5Plus', 'maximum_temperature_celsius']\n"
     ]
    }
   ],
   "source": [
    "model_b = LGBMRegressor().fit(X_train, y_train, verbose=False)\n",
    "predictors_8 = pd.concat([pd.Series(model_b.feature_importances_),\n",
    "           pd.Series(X_train.columns)],axis=1).sort_values(by = 0,ascending = False).head(30)\n",
    "print(predictors_8[1].to_list())"
   ]
  },
  {
   "cell_type": "code",
   "execution_count": 26,
   "id": "e085bb4e",
   "metadata": {},
   "outputs": [
    {
     "name": "stdout",
     "output_type": "stream",
     "text": [
      "['new_cases_10_max', 'Series_Complete_65Plus', 'new_cases_10_mean', 'new_hospitalized_patients', 'Administered_Dose1_Recip_65Plus', 'new_cases_7_lag', 'new_cases_10_min', 'Series_Complete_Yes', 'new_deaths_10_min', 'new_cases_1 lag', 'new_cases_100_max', 'new_cases_100_mean', 'current_intensive_care_patients', 'new_cases_50_max', 'new_cases_4_lag', 'new_deaths_10_max', 'new_deaths_100_max', 'new_deaths_4_lag', 'new_cases_50_min', 'new_deaths_50_std', 'new_cases_3_lag', 'new_cases_10_std', 'new_cases_50_std', 'school_closing', 'Series_Complete_5Plus', 'new_deaths_50_mean', 'new_cases_100_std', 'new_cases_30_lag', 'PEOPLE_DEATH_NEW_COUNT', 'new_cases_150_lag']\n"
     ]
    }
   ],
   "source": [
    "model_g = xgb.XGBRegressor().fit(X_train, y_train, verbose=False)\n",
    "predictors_6 = pd.concat([pd.Series(model_g.feature_importances_),\n",
    "           pd.Series(X_train.columns)],axis=1).sort_values(by = 0,ascending = False).head(30)\n",
    "print(predictors_6[1].to_list())"
   ]
  },
  {
   "cell_type": "code",
   "execution_count": 27,
   "id": "16887329",
   "metadata": {},
   "outputs": [
    {
     "name": "stdout",
     "output_type": "stream",
     "text": [
      "Earth Model\n",
      "----------------------------------------------------------------------------\n",
      "Basis Function                                        Pruned  Coefficient   \n",
      "----------------------------------------------------------------------------\n",
      "(Intercept)                                           No      -4.96435e+06  \n",
      "h(new_cases_10_mean-9356.9)                           Yes     None          \n",
      "h(9356.9-new_cases_10_mean)                           No      -1.8297       \n",
      "present(new_deaths_4_lag)                             Yes     None          \n",
      "missing(new_deaths_4_lag)                             No      2383.01       \n",
      "new_deaths_4_lag*present(new_deaths_4_lag)            No      -1.83932      \n",
      "h(booster_rate-0.115872)                              No      -3.85057e+08  \n",
      "h(0.115872-booster_rate)                              No      3.84561e+08   \n",
      "present(new_cases_4_lag)                              Yes     None          \n",
      "missing(new_cases_4_lag)                              Yes     None          \n",
      "h(new_cases_4_lag-10057)*present(new_cases_4_lag)     No      -0.545959     \n",
      "h(10057-new_cases_4_lag)*present(new_cases_4_lag)     No      0.312265      \n",
      "h(Booster_Doses-1.33926E+06)                          No      29.5638       \n",
      "h(1.33926E+06-Booster_Doses)                          No      -29.5693      \n",
      "present(new_cases_2_lag)                              Yes     None          \n",
      "missing(new_cases_2_lag)                              Yes     None          \n",
      "new_cases_2_lag*present(new_cases_2_lag)              No      -0.190885     \n",
      "present(new_cases_30_lag)                             Yes     None          \n",
      "missing(new_cases_30_lag)                             Yes     None          \n",
      "new_cases_30_lag*present(new_cases_30_lag)            No      -0.117737     \n",
      "h(Administered_Dose1_Recip_65Plus-2.89176E+06)        No      -0.186311     \n",
      "h(2.89176E+06-Administered_Dose1_Recip_65Plus)        Yes     None          \n",
      "h(new_cases_10_std-1366.88)                           No      2.67689       \n",
      "h(1366.88-new_cases_10_std)                           Yes     None          \n",
      "present(new_cases_1 lag)                              Yes     None          \n",
      "missing(new_cases_1 lag)                              Yes     None          \n",
      "h(new_cases_1 lag-10190)*present(new_cases_1 lag)     No      -0.881256     \n",
      "h(10190-new_cases_1 lag)*present(new_cases_1 lag)     Yes     None          \n",
      "present(new_cases_3_lag)                              Yes     None          \n",
      "missing(new_cases_3_lag)                              Yes     None          \n",
      "h(new_cases_3_lag-8779)*present(new_cases_3_lag)      No      -0.558187     \n",
      "h(8779-new_cases_3_lag)*present(new_cases_3_lag)      No      0.10599       \n",
      "h(new_cases_2_lag-10127)*present(new_cases_2_lag)     No      -0.743379     \n",
      "h(10127-new_cases_2_lag)*present(new_cases_2_lag)     Yes     None          \n",
      "h(new_cases_50_std-3004.32)                           Yes     None          \n",
      "h(3004.32-new_cases_50_std)                           Yes     None          \n",
      "present(new_cases_350_lag)                            Yes     None          \n",
      "missing(new_cases_350_lag)                            No      -2481.79      \n",
      "h(new_cases_350_lag-8658)*present(new_cases_350_lag)  No      -0.502967     \n",
      "h(8658-new_cases_350_lag)*present(new_cases_350_lag)  No      -0.19177      \n",
      "h(Administered_Dose1_Recip_5Plus-7.17747E+06)         No      -0.00162079   \n",
      "h(7.17747E+06-Administered_Dose1_Recip_5Plus)         Yes     None          \n",
      "h(Booster_Doses_65Plus-649995)                        No      0.0589105     \n",
      "h(649995-Booster_Doses_65Plus)                        No      0.0340597     \n",
      "h(new_cases_50_std-2905.27)                           No      20.3201       \n",
      "h(2905.27-new_cases_50_std)                           Yes     None          \n",
      "h(new_cases_100_min-1771)                             No      2.12661       \n",
      "h(1771-new_cases_100_min)                             No      0.668447      \n",
      "h(new_deaths_50_mean-180.56)                          No      236.661       \n",
      "h(180.56-new_deaths_50_mean)                          Yes     None          \n",
      "h(Series_Complete_65Plus-290229)                      No      -0.00175418   \n",
      "h(290229-Series_Complete_65Plus)                      No      -0.00727005   \n",
      "h(average_temperature_celsius+3.11111)                Yes     None          \n",
      "h(-3.11111-average_temperature_celsius)               No      416.263       \n",
      "h(new_cases_100_mean-1576.66)                         No      -0.337836     \n",
      "h(1576.66-new_cases_100_mean)                         Yes     None          \n",
      "----------------------------------------------------------------------------\n",
      "MSE: 379560.2182, GCV: 486798.2616, RSQ: 0.9597, GRSQ: 0.9484\n"
     ]
    }
   ],
   "source": [
    "model = Earth(max_terms=1000, max_degree=1, feature_importance_type = 'rss', allow_missing=True) # note, terms in brackets are the hyperparameters \n",
    "model.fit(X_train,y_train)\n",
    "print(model.summary())"
   ]
  },
  {
   "cell_type": "code",
   "execution_count": 30,
   "id": "fa55033a",
   "metadata": {},
   "outputs": [],
   "source": [
    "def common_member(a, b, c):\n",
    "    set_1 = set(a)\n",
    "    set_2 = set(b)\n",
    "    set_3 = set(c)\n",
    " \n",
    "    if (set_1 & set_2 & set_3):\n",
    "        print(set_1 & set_2 & set_3)\n"
   ]
  },
  {
   "cell_type": "code",
   "execution_count": 31,
   "id": "b466004a",
   "metadata": {},
   "outputs": [],
   "source": [
    "a = predictors_7[1].to_list()\n",
    "b = predictors_8[1].to_list()\n",
    "c = predictors_6[1].to_list()"
   ]
  },
  {
   "cell_type": "code",
   "execution_count": 32,
   "id": "427e1e31",
   "metadata": {},
   "outputs": [
    {
     "name": "stdout",
     "output_type": "stream",
     "text": [
      "{'PEOPLE_DEATH_NEW_COUNT', 'Series_Complete_5Plus', 'new_cases_50_std', 'new_cases_4_lag', 'new_cases_10_max', 'new_cases_30_lag', 'new_cases_10_mean', 'new_cases_10_min', 'new_cases_7_lag', 'new_hospitalized_patients', 'new_cases_10_std', 'new_cases_1 lag', 'new_deaths_4_lag', 'new_cases_3_lag'}\n"
     ]
    }
   ],
   "source": [
    "full = common_member(a, b, c)\n",
    "full"
   ]
  },
  {
   "cell_type": "code",
   "execution_count": null,
   "id": "280036a3",
   "metadata": {},
   "outputs": [],
   "source": []
  },
  {
   "cell_type": "code",
   "execution_count": null,
   "id": "791f1b4d",
   "metadata": {},
   "outputs": [],
   "source": []
  },
  {
   "cell_type": "code",
   "execution_count": null,
   "id": "ca9a3e03",
   "metadata": {},
   "outputs": [],
   "source": []
  }
 ],
 "metadata": {
  "kernelspec": {
   "display_name": "Python 3 (ipykernel)",
   "language": "python",
   "name": "python3"
  },
  "language_info": {
   "codemirror_mode": {
    "name": "ipython",
    "version": 3
   },
   "file_extension": ".py",
   "mimetype": "text/x-python",
   "name": "python",
   "nbconvert_exporter": "python",
   "pygments_lexer": "ipython3",
   "version": "3.9.12"
  }
 },
 "nbformat": 4,
 "nbformat_minor": 5
}
