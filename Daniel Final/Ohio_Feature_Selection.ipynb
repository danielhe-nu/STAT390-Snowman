{
 "cells": [
  {
   "cell_type": "code",
   "execution_count": 1,
   "id": "a7149568",
   "metadata": {},
   "outputs": [],
   "source": [
    "import pandas as pd\n",
    "import numpy as np\n",
    "import statsmodels.formula.api as smf\n",
    "import statsmodels.api as sm\n",
    "from pyearth import Earth\n",
    "from sklearn.impute import KNNImputer\n",
    "from sklearn.model_selection import KFold\n",
    "from sklearn.model_selection import train_test_split, cross_val_predict, cross_val_score\n",
    "from sklearn.preprocessing import StandardScaler\n",
    "from sklearn.neighbors import KNeighborsRegressor\n",
    "from sklearn.ensemble import BaggingRegressor,BaggingClassifier,AdaBoostRegressor,AdaBoostClassifier\n",
    "from statsmodels.stats.outliers_influence import variance_inflation_factor\n",
    "from sklearn.model_selection import GridSearchCV, ParameterGrid, StratifiedKFold, RandomizedSearchCV\n",
    "from statsmodels.tools.tools import add_constant\n",
    "import xgboost as xgb\n",
    "from lightgbm import LGBMRegressor\n",
    "from catboost import CatBoostRegressor\n",
    "import time\n",
    "\n",
    "import warnings\n",
    "warnings.filterwarnings(\"ignore\")"
   ]
  },
  {
   "cell_type": "markdown",
   "id": "f9cd2008",
   "metadata": {},
   "source": [
    "## Prophet Feature Selection, so Dropping All Lag and Rolling"
   ]
  },
  {
   "cell_type": "code",
   "execution_count": 2,
   "id": "c704471d",
   "metadata": {},
   "outputs": [],
   "source": [
    "covid_df = pd.read_csv('ohio_multi_df.csv', parse_dates=['Date'])\n",
    "covid_df.drop(columns = ['PROVINCE_STATE_NAME'], inplace = True)\n",
    "covid_df = covid_df.rename(columns={'Date': 'ds', 'PEOPLE_POSITIVE_NEW_CASES_COUNT': 'y'})\n",
    "covid_df = covid_df.drop(['new_cases_1 lag', 'new_cases_2_lag', 'new_cases_3_lag', 'new_cases_4_lag', 'new_cases_7_lag', 'new_cases_30_lag', 'new_cases_50_lag', 'new_cases_150_lag', 'new_cases_350_lag', 'new_deaths_1_lag', 'new_deaths_2_lag', 'new_deaths_3_lag', 'new_deaths_4_lag', 'new_deaths_7_lag', 'new_deaths_30_lag', 'new_deaths_50_lag'], axis=1)\n",
    "\n",
    "train_size = int(len(covid_df)* 0.85)\n",
    "covid_train = covid_df[0:train_size] # notice here the original test test is never used"
   ]
  },
  {
   "cell_type": "code",
   "execution_count": 3,
   "id": "553cda9d",
   "metadata": {},
   "outputs": [
    {
     "data": {
      "text/plain": [
       "671"
      ]
     },
     "execution_count": 3,
     "metadata": {},
     "output_type": "execute_result"
    }
   ],
   "source": [
    "train_size"
   ]
  },
  {
   "cell_type": "code",
   "execution_count": 4,
   "id": "43008fd9",
   "metadata": {},
   "outputs": [],
   "source": [
    "X_train = covid_train.drop(columns=['ds', 'y'], axis=1)\n",
    "y_train = covid_train['y']"
   ]
  },
  {
   "cell_type": "code",
   "execution_count": 5,
   "id": "9351efe7",
   "metadata": {},
   "outputs": [
    {
     "name": "stdout",
     "output_type": "stream",
     "text": [
      "['new_cases_10_max', 'new_cases_10_mean', 'new_hospitalized_patients', 'new_cases_10_std', 'current_intensive_care_patients', 'new_cases_50_std', 'PEOPLE_DEATH_NEW_COUNT', 'average_temperature_celsius', 'new_cases_10_min', 'Series_Complete_5Plus', 'Series_Complete_18Plus', 'dew_point', 'vaccination_rate_complete', 'relative_humidity', 'new_deaths_10_mean', 'rainfall_mm', 'Administered_Dose1_Recip_18Plus', 'new_cases_50_mean', 'minimum_temperature_celsius', 'maximum_temperature_celsius', 'new_cases_100_std', 'new_cases_100_max', 'new_deaths_100_std', 'new_deaths_100_mean', 'new_cases_100_min', 'vaccination_rate_1dose', 'Administered_Dose1_Recip_12Plus', 'Administered_Dose1_Recip_5Plus', 'Booster_Doses', 'new_cases_50_max']\n"
     ]
    }
   ],
   "source": [
    "model_a = CatBoostRegressor().fit(X_train, y_train, verbose=False)\n",
    "predictors_1 = pd.concat([pd.Series(model_a.feature_importances_),\n",
    "           pd.Series(X_train.columns)],axis=1).sort_values(by = 0,ascending = False).head(30)\n",
    "print(predictors_1[1].to_list())"
   ]
  },
  {
   "cell_type": "code",
   "execution_count": 6,
   "id": "3893745a",
   "metadata": {},
   "outputs": [
    {
     "name": "stdout",
     "output_type": "stream",
     "text": [
      "['new_cases_10_std', 'new_hospitalized_patients', 'relative_humidity', 'new_cases_10_mean', 'new_cases_10_max', 'new_cases_50_std', 'PEOPLE_DEATH_NEW_COUNT', 'rainfall_mm', 'current_intensive_care_patients', 'maximum_temperature_celsius', 'new_cases_10_min', 'new_deaths_10_mean', 'new_cases_50_mean', 'dew_point', 'average_temperature_celsius', 'new_deaths_10_std', 'minimum_temperature_celsius', 'new_cases_100_std', 'new_deaths_50_std', 'new_deaths_50_mean', 'new_deaths_100_mean', 'Administered_Dose1_Recip', 'Booster_Doses_50Plus', 'new_deaths_10_max', 'Booster_Doses', 'Administered_Dose1_Recip_65Plus', 'new_deaths_100_std', 'new_cases_100_mean', 'Administered_Dose1_Recip_5Plus', 'Booster_Doses_65Plus']\n"
     ]
    }
   ],
   "source": [
    "model_b = LGBMRegressor().fit(X_train, y_train, verbose=False)\n",
    "predictors_2 = pd.concat([pd.Series(model_b.feature_importances_),\n",
    "           pd.Series(X_train.columns)],axis=1).sort_values(by = 0,ascending = False).head(30)\n",
    "print(predictors_2[1].to_list())"
   ]
  },
  {
   "cell_type": "code",
   "execution_count": 7,
   "id": "414bbf88",
   "metadata": {},
   "outputs": [
    {
     "name": "stdout",
     "output_type": "stream",
     "text": [
      "['new_hospitalized_patients', 'new_cases_10_mean', 'new_cases_10_std', 'new_cases_10_max', 'maximum_temperature_celsius', 'new_cases_10_min', 'new_cases_50_std', 'dew_point', 'new_cases_100_std', 'PEOPLE_DEATH_NEW_COUNT', 'average_temperature_celsius', 'new_cases_50_mean', 'Booster_Doses_65Plus', 'new_deaths_10_mean', 'new_deaths_50_mean', 'relative_humidity', 'current_intensive_care_patients', 'new_deaths_100_std', 'minimum_temperature_celsius', 'Administered_Dose1_Recip', 'Series_Complete_65Plus', 'Series_Complete_Yes', 'new_deaths_100_mean', 'rainfall_mm', 'Completeness_pct', 'new_deaths_50_std', 'new_cases_100_min', 'vaccination_rate_1dose', 'Booster_Doses_50Plus', 'new_cases_100_mean']\n"
     ]
    }
   ],
   "source": [
    "from sklearn.ensemble import GradientBoostingRegressor,GradientBoostingClassifier, BaggingRegressor,BaggingClassifier,RandomForestRegressor,RandomForestClassifier,AdaBoostRegressor,AdaBoostClassifier\n",
    "\n",
    "model_c = GradientBoostingRegressor().fit(X_train, y_train)\n",
    "predictors_3 = pd.concat([pd.Series(model_c.feature_importances_),\n",
    "           pd.Series(X_train.columns)],axis=1).sort_values(by = 0,ascending = False).head(30)\n",
    "print(predictors_3[1].to_list())"
   ]
  },
  {
   "cell_type": "code",
   "execution_count": 8,
   "id": "f46b63c7",
   "metadata": {},
   "outputs": [
    {
     "name": "stdout",
     "output_type": "stream",
     "text": [
      "['new_cases_10_mean', 'new_cases_10_std', 'new_hospitalized_patients', 'new_cases_50_std', 'new_cases_10_max', 'new_cases_10_min', 'new_cases_50_max', 'PEOPLE_DEATH_NEW_COUNT', 'minimum_temperature_celsius', 'rainfall_mm', 'dew_point', 'average_temperature_celsius', 'current_intensive_care_patients', 'maximum_temperature_celsius', 'new_deaths_10_mean', 'new_deaths_50_std', 'new_deaths_100_std', 'new_deaths_100_mean', 'new_cases_100_std', 'new_cases_50_mean', 'relative_humidity', 'new_cases_100_mean', 'new_deaths_10_std', 'new_deaths_100_max', 'new_cases_100_max', 'Administered_Dose1_Recip_18Plus', 'Administered_Dose1_Recip_65Plus', 'Series_Complete_12Plus', 'Booster_Doses_18Plus', 'Administered_Dose1_Recip']\n"
     ]
    }
   ],
   "source": [
    "from sklearn.ensemble import BaggingRegressor,BaggingClassifier,AdaBoostRegressor,AdaBoostClassifier\n",
    "from sklearn.tree import DecisionTreeRegressor,DecisionTreeClassifier\n",
    "\n",
    "model_d = AdaBoostRegressor(random_state=1, base_estimator = DecisionTreeRegressor(random_state=1)).fit(X_train, y_train)\n",
    "predictors_4 = pd.concat([pd.Series(model_d.feature_importances_),\n",
    "           pd.Series(X_train.columns)],axis=1).sort_values(by = 0,ascending = False).head(30)\n",
    "print(predictors_4[1].to_list())"
   ]
  },
  {
   "cell_type": "code",
   "execution_count": 9,
   "id": "daedb25e",
   "metadata": {},
   "outputs": [
    {
     "name": "stdout",
     "output_type": "stream",
     "text": [
      "['new_hospitalized_patients', 'new_cases_10_mean', 'new_cases_10_max', 'new_cases_10_std', 'new_cases_50_std', 'new_cases_10_min', 'maximum_temperature_celsius', 'minimum_temperature_celsius', 'dew_point', 'rainfall_mm', 'new_cases_100_std', 'Series_Complete_12Plus', 'PEOPLE_DEATH_NEW_COUNT', 'average_temperature_celsius', 'relative_humidity', 'Booster_Doses_18Plus', 'new_deaths_10_mean', 'new_deaths_100_std', 'Booster_Doses_50Plus', 'new_cases_50_mean', 'Series_Complete_65Plus', 'current_intensive_care_patients', 'Administered_Dose1_Recip_65Plus', 'new_deaths_100_mean', 'new_deaths_10_std', 'Administered_Dose1_Recip_18Plus', 'Series_Complete_Yes', 'new_cases_100_mean', 'Administered_Dose1_Recip_5Plus', 'Administered_Dose1_Recip']\n"
     ]
    }
   ],
   "source": [
    "from sklearn.ensemble import BaggingRegressor,BaggingClassifier,RandomForestRegressor,RandomForestClassifier\n",
    "\n",
    "model_e = RandomForestRegressor().fit(X_train, y_train)\n",
    "predictors_5 = pd.concat([pd.Series(model_e.feature_importances_), pd.Series(X_train.columns)], axis=1).sort_values(by=0, ascending = False).head(30)\n",
    "print(predictors_5[1].to_list())"
   ]
  },
  {
   "cell_type": "code",
   "execution_count": 10,
   "id": "e7fdfb69",
   "metadata": {},
   "outputs": [
    {
     "name": "stdout",
     "output_type": "stream",
     "text": [
      "Earth Model\n",
      "--------------------------------------------------------------\n",
      "Basis Function                           Pruned  Coefficient  \n",
      "--------------------------------------------------------------\n",
      "(Intercept)                              No      -71582.2     \n",
      "h(new_cases_10_mean-10954.8)             Yes     None         \n",
      "h(10954.8-new_cases_10_mean)             No      3.68858      \n",
      "h(new_cases_50_mean-8551.92)             No      20.2323      \n",
      "h(8551.92-new_cases_50_mean)             No      -27.2946     \n",
      "h(new_cases_10_std-5096.76)              No      14.502       \n",
      "h(5096.76-new_cases_10_std)              No      3.89783      \n",
      "h(current_intensive_care_patients-1216)  Yes     None         \n",
      "h(1216-current_intensive_care_patients)  Yes     None         \n",
      "new_hospitalized_patients                No      4.68497      \n",
      "h(new_cases_10_max-20917)                No      2.43951      \n",
      "h(20917-new_cases_10_max)                No      -1.62331     \n",
      "h(Booster_Doses_65Plus-885508)           No      0.0471481    \n",
      "h(885508-Booster_Doses_65Plus)           No      -0.0234486   \n",
      "h(new_cases_10_mean-6186.8)              No      -1.72041     \n",
      "h(6186.8-new_cases_10_mean)              Yes     None         \n",
      "h(new_cases_100_std-4207.49)             Yes     None         \n",
      "h(4207.49-new_cases_100_std)             No      194.896      \n",
      "h(new_cases_50_std-3917.36)              Yes     None         \n",
      "h(3917.36-new_cases_50_std)              No      103.876      \n",
      "h(PEOPLE_DEATH_NEW_COUNT-217)            Yes     None         \n",
      "h(217-PEOPLE_DEATH_NEW_COUNT)            No      -3.32192     \n",
      "h(new_cases_10_min-6385)                 No      6.02907      \n",
      "h(6385-new_cases_10_min)                 No      0.390298     \n",
      "h(new_cases_10_mean-9095.6)              Yes     None         \n",
      "h(9095.6-new_cases_10_mean)              No      -3.71132     \n",
      "h(Booster_Doses-2.17055E+06)             Yes     None         \n",
      "h(2.17055E+06-Booster_Doses)             No      0.0102177    \n",
      "h(new_cases_50_std-3893.8)               Yes     None         \n",
      "h(3893.8-new_cases_50_std)               No      -104.334     \n",
      "h(current_intensive_care_patients-1160)  No      -49.3346     \n",
      "h(1160-current_intensive_care_patients)  No      -8.84484     \n",
      "h(new_cases_50_mean-8401.02)             Yes     None         \n",
      "h(8401.02-new_cases_50_mean)             No      27.8665      \n",
      "h(new_cases_100_std-3817.65)             No      184.577      \n",
      "h(3817.65-new_cases_100_std)             No      -195.18      \n",
      "h(current_intensive_care_patients-965)   Yes     None         \n",
      "h(965-current_intensive_care_patients)   No      10.1584      \n",
      "new_cases_100_max                        Yes     None         \n",
      "--------------------------------------------------------------\n",
      "MSE: 1084071.4369, GCV: 1322544.7552, RSQ: 0.9084, GRSQ: 0.8886\n"
     ]
    }
   ],
   "source": [
    "# using MARS summary for feature selection\n",
    "model = Earth(max_terms=1000, max_degree=1, feature_importance_type = 'rss') # note, terms in brackets are the hyperparameters \n",
    "model.fit(X_train,y_train)\n",
    "print(model.summary())"
   ]
  },
  {
   "cell_type": "code",
   "execution_count": 11,
   "id": "15338145",
   "metadata": {},
   "outputs": [],
   "source": [
    "def common_member(a, b, c, d, e):\n",
    "    set_1 = set(a)\n",
    "    set_2 = set(b)\n",
    "    set_3 = set(c)\n",
    "    set_4 = set(d)\n",
    "    set_5 = set(e)\n",
    " \n",
    "    if (set_1 & set_2 & set_3 & set_4 & set_5):\n",
    "        print(set_1 & set_2 & set_3 & set_4 & set_5)\n"
   ]
  },
  {
   "cell_type": "code",
   "execution_count": 12,
   "id": "0b7a6577",
   "metadata": {},
   "outputs": [],
   "source": [
    "a = predictors_1[1].to_list()\n",
    "b = predictors_2[1].to_list()\n",
    "c = predictors_3[1].to_list()\n",
    "d = predictors_4[1].to_list()\n",
    "e = predictors_5[1].to_list()"
   ]
  },
  {
   "cell_type": "code",
   "execution_count": 13,
   "id": "ba9212ce",
   "metadata": {},
   "outputs": [
    {
     "name": "stdout",
     "output_type": "stream",
     "text": [
      "{'current_intensive_care_patients', 'new_cases_10_min', 'relative_humidity', 'dew_point', 'rainfall_mm', 'new_deaths_100_mean', 'new_cases_50_std', 'maximum_temperature_celsius', 'new_cases_10_max', 'PEOPLE_DEATH_NEW_COUNT', 'new_cases_100_std', 'new_cases_50_mean', 'new_deaths_10_mean', 'minimum_temperature_celsius', 'new_cases_10_mean', 'new_cases_10_std', 'average_temperature_celsius', 'new_hospitalized_patients', 'new_deaths_100_std'}\n"
     ]
    }
   ],
   "source": [
    "full = common_member(a, b, c, d, e)\n",
    "full"
   ]
  },
  {
   "cell_type": "markdown",
   "id": "294e996d",
   "metadata": {},
   "source": [
    "## XGBoost Feature Selection, includes lag and rolling"
   ]
  },
  {
   "cell_type": "code",
   "execution_count": 14,
   "id": "781ede05",
   "metadata": {},
   "outputs": [],
   "source": [
    "import pandas as pd\n",
    "import numpy as np\n",
    "import statsmodels.formula.api as smf\n",
    "import statsmodels.api as sm\n",
    "from pyearth import Earth\n",
    "from sklearn.impute import KNNImputer\n",
    "from sklearn.model_selection import KFold\n",
    "from sklearn.model_selection import train_test_split, cross_val_predict, cross_val_score\n",
    "from sklearn.preprocessing import StandardScaler\n",
    "from sklearn.neighbors import KNeighborsRegressor\n",
    "from sklearn.ensemble import BaggingRegressor,BaggingClassifier,AdaBoostRegressor,AdaBoostClassifier\n",
    "from statsmodels.stats.outliers_influence import variance_inflation_factor\n",
    "from sklearn.model_selection import GridSearchCV, ParameterGrid, StratifiedKFold, RandomizedSearchCV\n",
    "from statsmodels.tools.tools import add_constant\n",
    "import xgboost as xgb\n",
    "from lightgbm import LGBMRegressor\n",
    "from catboost import CatBoostRegressor\n",
    "import time\n",
    "\n",
    "import warnings\n",
    "warnings.filterwarnings(\"ignore\")"
   ]
  },
  {
   "cell_type": "code",
   "execution_count": 15,
   "id": "d8a17174",
   "metadata": {},
   "outputs": [],
   "source": [
    "covid_df = pd.read_csv('ohio_multi_df.csv', parse_dates=['Date'])\n",
    "covid_df.drop(columns = ['PROVINCE_STATE_NAME'], inplace = True)\n",
    "covid_df = covid_df.rename(columns={'Date': 'ds', 'PEOPLE_POSITIVE_NEW_CASES_COUNT': 'y'})\n",
    "\n",
    "train_size = int(len(covid_df)* 0.85)\n",
    "covid_train = covid_df[0:train_size]\n",
    "\n",
    "X_train = covid_train.drop(columns=['ds', 'y'], axis=1)\n",
    "X_train = X_train.astype('float32')\n",
    "y_train = covid_train['y']"
   ]
  },
  {
   "cell_type": "code",
   "execution_count": 16,
   "id": "f1db7f61",
   "metadata": {},
   "outputs": [
    {
     "name": "stdout",
     "output_type": "stream",
     "text": [
      "['new_cases_10_mean', 'current_intensive_care_patients', 'new_hospitalized_patients', 'new_cases_10_max', 'new_cases_7_lag', 'new_cases_50_std', 'new_cases_2_lag', 'new_cases_1 lag', 'new_cases_3_lag', 'new_cases_10_std', 'PEOPLE_DEATH_NEW_COUNT', 'new_cases_30_lag', 'new_cases_10_min', 'new_cases_4_lag', 'new_deaths_3_lag', 'rainfall_mm', 'Series_Complete_Yes', 'maximum_temperature_celsius', 'Series_Complete_18Plus', 'new_deaths_100_std', 'Booster_Doses_50Plus', 'new_cases_350_lag', 'new_cases_50_mean', 'new_cases_100_min', 'new_deaths_1_lag', 'new_deaths_10_std', 'Booster_Doses', 'Booster_Doses_65Plus', 'new_deaths_2_lag', 'new_deaths_4_lag', 'Administered_Dose1_Recip_18Plus', 'Booster_Doses_18Plus', 'new_deaths_100_mean', 'relative_humidity', 'minimum_temperature_celsius', 'dew_point', 'new_deaths_50_std', 'new_cases_150_lag', 'new_deaths_7_lag', 'Series_Complete_65Plus']\n"
     ]
    }
   ],
   "source": [
    "model_a = CatBoostRegressor().fit(X_train, y_train, verbose=False)\n",
    "predictors_7 = pd.concat([pd.Series(model_a.feature_importances_),\n",
    "           pd.Series(X_train.columns)],axis=1).sort_values(by = 0,ascending = False).head(40)\n",
    "print(predictors_7[1].to_list())"
   ]
  },
  {
   "cell_type": "code",
   "execution_count": 17,
   "id": "521567e7",
   "metadata": {},
   "outputs": [
    {
     "name": "stdout",
     "output_type": "stream",
     "text": [
      "['new_cases_7_lag', 'new_cases_10_std', 'new_cases_1 lag', 'new_cases_10_max', 'new_hospitalized_patients', 'new_cases_4_lag', 'new_cases_10_mean', 'new_cases_3_lag', 'new_cases_2_lag', 'relative_humidity', 'new_cases_10_min', 'new_cases_30_lag', 'PEOPLE_DEATH_NEW_COUNT', 'new_deaths_30_lag', 'new_cases_50_std', 'current_intensive_care_patients', 'new_deaths_7_lag', 'new_deaths_2_lag', 'new_deaths_50_lag', 'new_deaths_4_lag', 'rainfall_mm', 'new_cases_100_std', 'new_cases_350_lag', 'new_deaths_1_lag', 'new_deaths_3_lag', 'new_deaths_10_std', 'new_deaths_10_mean', 'new_cases_50_lag', 'new_cases_150_lag', 'maximum_temperature_celsius']\n"
     ]
    }
   ],
   "source": [
    "model_b = LGBMRegressor().fit(X_train, y_train, verbose=False)\n",
    "predictors_8 = pd.concat([pd.Series(model_b.feature_importances_),\n",
    "           pd.Series(X_train.columns)],axis=1).sort_values(by = 0,ascending = False).head(30)\n",
    "print(predictors_8[1].to_list())"
   ]
  },
  {
   "cell_type": "code",
   "execution_count": 18,
   "id": "e085bb4e",
   "metadata": {},
   "outputs": [
    {
     "name": "stdout",
     "output_type": "stream",
     "text": [
      "['new_hospitalized_patients', 'new_cases_10_max', 'new_cases_10_mean', 'new_cases_10_std', 'new_cases_7_lag', 'new_cases_10_min', 'new_cases_1 lag', 'maximum_temperature_celsius', 'new_deaths_1_lag', 'Administered_Dose1_Recip', 'new_deaths_3_lag', 'new_cases_150_lag', 'new_cases_100_std', 'average_temperature_celsius', 'new_deaths_100_mean', 'new_deaths_2_lag', 'new_cases_2_lag', 'Booster_Doses_50Plus', 'new_cases_100_mean', 'new_deaths_100_std', 'new_cases_3_lag', 'rainfall_mm', 'new_cases_50_std', 'Completeness_pct', 'new_deaths_10_std', 'dew_point', 'PEOPLE_DEATH_NEW_COUNT', 'new_cases_50_lag', 'new_cases_350_lag', 'new_deaths_10_mean']\n"
     ]
    }
   ],
   "source": [
    "model_g = xgb.XGBRegressor().fit(X_train, y_train, verbose=False)\n",
    "predictors_6 = pd.concat([pd.Series(model_g.feature_importances_),\n",
    "           pd.Series(X_train.columns)],axis=1).sort_values(by = 0,ascending = False).head(30)\n",
    "print(predictors_6[1].to_list())"
   ]
  },
  {
   "cell_type": "code",
   "execution_count": 19,
   "id": "16887329",
   "metadata": {},
   "outputs": [
    {
     "name": "stdout",
     "output_type": "stream",
     "text": [
      "Earth Model\n",
      "------------------------------------------------------------------------\n",
      "Basis Function                                     Pruned  Coefficient  \n",
      "------------------------------------------------------------------------\n",
      "(Intercept)                                        No      -118393      \n",
      "h(new_cases_10_mean-10954.8)                       No      -4.53625     \n",
      "h(10954.8-new_cases_10_mean)                       Yes     None         \n",
      "present(new_cases_1 lag)                           Yes     None         \n",
      "missing(new_cases_1 lag)                           Yes     None         \n",
      "h(new_cases_1 lag-49)*present(new_cases_1 lag)     No      -0.59809     \n",
      "h(49-new_cases_1 lag)*present(new_cases_1 lag)     No      24.0697      \n",
      "h(new_cases_50_mean-8551.92)                       No      31.9768      \n",
      "h(8551.92-new_cases_50_mean)                       No      0.567102     \n",
      "present(new_cases_3_lag)                           Yes     None         \n",
      "missing(new_cases_3_lag)                           Yes     None         \n",
      "h(new_cases_3_lag-49)*present(new_cases_3_lag)     No      -0.431216    \n",
      "h(49-new_cases_3_lag)*present(new_cases_3_lag)     No      -16.5592     \n",
      "h(new_cases_10_std-5096.76)                        No      12.3772      \n",
      "h(5096.76-new_cases_10_std)                        No      0.958735     \n",
      "new_hospitalized_patients                          No      3.90647      \n",
      "h(current_intensive_care_patients-1216)            Yes     None         \n",
      "h(1216-current_intensive_care_patients)            No      -48.3338     \n",
      "present(new_cases_4_lag)                           No      -2503.1      \n",
      "missing(new_cases_4_lag)                           Yes     None         \n",
      "h(new_cases_4_lag-8082)*present(new_cases_4_lag)   No      -0.209049    \n",
      "h(8082-new_cases_4_lag)*present(new_cases_4_lag)   No      0.232579     \n",
      "h(new_cases_50_std-3917.36)                        No      41.5751      \n",
      "h(3917.36-new_cases_50_std)                        No      -0.534686    \n",
      "h(Booster_Doses_65Plus-885508)                     No      1.17956      \n",
      "h(885508-Booster_Doses_65Plus)                     No      -1.15366     \n",
      "present(new_cases_2_lag)                           Yes     None         \n",
      "missing(new_cases_2_lag)                           Yes     None         \n",
      "h(new_cases_2_lag-4463)*present(new_cases_2_lag)   Yes     None         \n",
      "h(4463-new_cases_2_lag)*present(new_cases_2_lag)   Yes     None         \n",
      "h(new_cases_10_max-20917)                          No      -1.34401     \n",
      "h(20917-new_cases_10_max)                          No      -0.536751    \n",
      "h(new_cases_10_min-6385)                           No      3.2306       \n",
      "h(6385-new_cases_10_min)                           Yes     None         \n",
      "h(Administered_Dose1_Recip_65Plus-1.81246E+06)     No      -18.0968     \n",
      "h(1.81246E+06-Administered_Dose1_Recip_65Plus)     Yes     None         \n",
      "h(current_intensive_care_patients-733)             No      -56.4928     \n",
      "h(733-current_intensive_care_patients)             No      49.5992      \n",
      "h(new_cases_2_lag-11018)*present(new_cases_2_lag)  No      -0.679206    \n",
      "h(11018-new_cases_2_lag)*present(new_cases_2_lag)  No      0.235167     \n",
      "h(Completeness_pct-85.5)                           No      0.279814     \n",
      "h(85.5-Completeness_pct)                           No      34.973       \n",
      "h(Booster_Doses_18Plus-2.16688E+06)                No      0.0213819    \n",
      "h(2.16688E+06-Booster_Doses_18Plus)                No      0.0074916    \n",
      "h(new_cases_10_mean-9095.6)                        Yes     None         \n",
      "h(9095.6-new_cases_10_mean)                        No      -2.32175     \n",
      "h(PEOPLE_DEATH_NEW_COUNT-217)                      Yes     None         \n",
      "h(217-PEOPLE_DEATH_NEW_COUNT)                      No      -3.10686     \n",
      "h(Booster_Doses_65Plus-1.02762E+06)                Yes     None         \n",
      "h(1.02762E+06-Booster_Doses_65Plus)                No      1.13574      \n",
      "present(new_deaths_1_lag)                          Yes     None         \n",
      "missing(new_deaths_1_lag)                          Yes     None         \n",
      "h(new_deaths_1_lag-293)*present(new_deaths_1_lag)  Yes     None         \n",
      "h(293-new_deaths_1_lag)*present(new_deaths_1_lag)  No      -2.36833     \n",
      "h(maximum_temperature_celsius-6.65)                Yes     None         \n",
      "h(6.65-maximum_temperature_celsius)                No      -94.0309     \n",
      "h(new_cases_100_std-4207.49)                       No      28.5286      \n",
      "h(4207.49-new_cases_100_std)                       Yes     None         \n",
      "------------------------------------------------------------------------\n",
      "MSE: 549040.6755, GCV: 734841.3281, RSQ: 0.9536, GRSQ: 0.9381\n"
     ]
    }
   ],
   "source": [
    "model = Earth(max_terms=1000, max_degree=1, feature_importance_type = 'rss', allow_missing=True) \n",
    "model.fit(X_train,y_train)\n",
    "print(model.summary())"
   ]
  },
  {
   "cell_type": "code",
   "execution_count": 20,
   "id": "fa55033a",
   "metadata": {},
   "outputs": [],
   "source": [
    "def common_member(a, b, c):\n",
    "    set_1 = set(a)\n",
    "    set_2 = set(b)\n",
    "    set_3 = set(c)\n",
    " \n",
    "    if (set_1 & set_2 & set_3):\n",
    "        print(set_1 & set_2 & set_3)\n"
   ]
  },
  {
   "cell_type": "code",
   "execution_count": 21,
   "id": "b466004a",
   "metadata": {},
   "outputs": [],
   "source": [
    "a = predictors_7[1].to_list()\n",
    "b = predictors_8[1].to_list()\n",
    "c = predictors_6[1].to_list()"
   ]
  },
  {
   "cell_type": "code",
   "execution_count": 22,
   "id": "427e1e31",
   "metadata": {},
   "outputs": [
    {
     "name": "stdout",
     "output_type": "stream",
     "text": [
      "{'new_cases_10_min', 'new_cases_1 lag', 'new_cases_2_lag', 'rainfall_mm', 'new_cases_350_lag', 'new_cases_50_std', 'maximum_temperature_celsius', 'new_deaths_10_std', 'new_cases_3_lag', 'new_deaths_3_lag', 'new_cases_10_std', 'new_cases_7_lag', 'PEOPLE_DEATH_NEW_COUNT', 'new_deaths_2_lag', 'new_cases_10_mean', 'new_deaths_1_lag', 'new_cases_150_lag', 'new_hospitalized_patients', 'new_cases_10_max'}\n"
     ]
    }
   ],
   "source": [
    "full = common_member(a, b, c)\n",
    "full"
   ]
  },
  {
   "cell_type": "code",
   "execution_count": null,
   "id": "280036a3",
   "metadata": {},
   "outputs": [],
   "source": []
  },
  {
   "cell_type": "code",
   "execution_count": null,
   "id": "791f1b4d",
   "metadata": {},
   "outputs": [],
   "source": []
  },
  {
   "cell_type": "code",
   "execution_count": null,
   "id": "ca9a3e03",
   "metadata": {},
   "outputs": [],
   "source": []
  }
 ],
 "metadata": {
  "kernelspec": {
   "display_name": "Python 3 (ipykernel)",
   "language": "python",
   "name": "python3"
  },
  "language_info": {
   "codemirror_mode": {
    "name": "ipython",
    "version": 3
   },
   "file_extension": ".py",
   "mimetype": "text/x-python",
   "name": "python",
   "nbconvert_exporter": "python",
   "pygments_lexer": "ipython3",
   "version": "3.9.12"
  }
 },
 "nbformat": 4,
 "nbformat_minor": 5
}
