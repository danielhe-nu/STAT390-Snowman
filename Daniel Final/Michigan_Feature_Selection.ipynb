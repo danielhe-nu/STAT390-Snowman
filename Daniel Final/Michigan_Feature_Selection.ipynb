{
 "cells": [
  {
   "cell_type": "code",
   "execution_count": 1,
   "id": "a7149568",
   "metadata": {},
   "outputs": [],
   "source": [
    "import pandas as pd\n",
    "import numpy as np\n",
    "import statsmodels.formula.api as smf\n",
    "import statsmodels.api as sm\n",
    "from pyearth import Earth\n",
    "from sklearn.impute import KNNImputer\n",
    "from sklearn.model_selection import KFold\n",
    "from sklearn.model_selection import train_test_split, cross_val_predict, cross_val_score\n",
    "from sklearn.preprocessing import StandardScaler\n",
    "from sklearn.neighbors import KNeighborsRegressor\n",
    "from sklearn.ensemble import BaggingRegressor,BaggingClassifier,AdaBoostRegressor,AdaBoostClassifier\n",
    "from statsmodels.stats.outliers_influence import variance_inflation_factor\n",
    "from sklearn.model_selection import GridSearchCV, ParameterGrid, StratifiedKFold, RandomizedSearchCV\n",
    "from statsmodels.tools.tools import add_constant\n",
    "import xgboost as xgb\n",
    "from lightgbm import LGBMRegressor\n",
    "from catboost import CatBoostRegressor\n",
    "import time\n",
    "\n",
    "import warnings\n",
    "warnings.filterwarnings(\"ignore\")"
   ]
  },
  {
   "cell_type": "markdown",
   "id": "f9cd2008",
   "metadata": {},
   "source": [
    "## Prophet Feature Selection, so Dropping All Lag and Rolling"
   ]
  },
  {
   "cell_type": "code",
   "execution_count": 2,
   "id": "c704471d",
   "metadata": {},
   "outputs": [],
   "source": [
    "covid_df = pd.read_csv('mich_multi_df.csv', parse_dates=['Date'])\n",
    "covid_df.drop(columns = ['PROVINCE_STATE_NAME'], inplace = True)\n",
    "covid_df = covid_df.rename(columns={'Date': 'ds', 'PEOPLE_POSITIVE_NEW_CASES_COUNT': 'y'})\n",
    "covid_df = covid_df.drop(['new_cases_1 lag', 'new_cases_2_lag', 'new_cases_3_lag', 'new_cases_4_lag', 'new_cases_7_lag', 'new_cases_30_lag', 'new_cases_50_lag', 'new_cases_150_lag', 'new_cases_350_lag', 'new_deaths_1_lag', 'new_deaths_2_lag', 'new_deaths_3_lag', 'new_deaths_4_lag', 'new_deaths_7_lag', 'new_deaths_30_lag', 'new_deaths_50_lag'], axis=1)\n",
    "\n",
    "train_size = int(len(covid_df)* 0.85)\n",
    "covid_train = covid_df[0:train_size] # notice here the original test test is never used"
   ]
  },
  {
   "cell_type": "code",
   "execution_count": 3,
   "id": "553cda9d",
   "metadata": {},
   "outputs": [
    {
     "data": {
      "text/plain": [
       "671"
      ]
     },
     "execution_count": 3,
     "metadata": {},
     "output_type": "execute_result"
    }
   ],
   "source": [
    "train_size"
   ]
  },
  {
   "cell_type": "code",
   "execution_count": 4,
   "id": "43008fd9",
   "metadata": {},
   "outputs": [],
   "source": [
    "X_train = covid_train.drop(columns=['ds', 'y'], axis=1)\n",
    "y_train = covid_train['y']"
   ]
  },
  {
   "cell_type": "code",
   "execution_count": 5,
   "id": "9351efe7",
   "metadata": {},
   "outputs": [
    {
     "name": "stdout",
     "output_type": "stream",
     "text": [
      "['PEOPLE_DEATH_NEW_COUNT', 'new_cases_10_mean', 'new_cases_10_max', 'new_cases_10_std', 'new_hospitalized_patients', 'Administered_Dose1_Recip', 'vaccination_rate_1dose', 'income_support', 'minimum_temperature_celsius', 'dew_point', 'Administered_Dose1_Recip_65Plus', 'new_cases_50_max', 'Booster_Doses_50Plus', 'Series_Complete_12Plus', 'vaccination_rate_complete', 'new_deaths_100_mean', 'new_deaths_10_max', 'new_deaths_100_max', 'Booster_Doses', 'new_cases_50_std', 'Series_Complete_Yes', 'Series_Complete_65Plus', 'Series_Complete_18Plus', 'new_deaths_10_mean', 'new_cases_100_mean', 'international_travel_controls', 'new_deaths_50_mean', 'new_deaths_50_std', 'Booster_Doses_18Plus', 'booster_rate']\n"
     ]
    }
   ],
   "source": [
    "model_a = CatBoostRegressor().fit(X_train, y_train, verbose=False)\n",
    "predictors_1 = pd.concat([pd.Series(model_a.feature_importances_),\n",
    "           pd.Series(X_train.columns)],axis=1).sort_values(by = 0,ascending = False).head(30)\n",
    "print(predictors_1[1].to_list())"
   ]
  },
  {
   "cell_type": "code",
   "execution_count": 6,
   "id": "3893745a",
   "metadata": {},
   "outputs": [
    {
     "name": "stdout",
     "output_type": "stream",
     "text": [
      "['PEOPLE_DEATH_NEW_COUNT', 'new_cases_10_mean', 'new_cases_10_std', 'new_hospitalized_patients', 'new_cases_10_max', 'relative_humidity', 'new_deaths_10_std', 'maximum_temperature_celsius', 'minimum_temperature_celsius', 'rainfall_mm', 'average_temperature_celsius', 'new_cases_50_std', 'new_deaths_10_mean', 'new_cases_50_mean', 'dew_point', 'current_intensive_care_patients', 'new_deaths_50_mean', 'new_cases_100_mean', 'new_deaths_100_mean', 'new_deaths_100_std', 'Administered_Dose1_Recip', 'new_deaths_50_std', 'new_cases_100_std', 'new_cases_10_min', 'new_deaths_10_max', 'Administered_Dose1_Recip_5Plus', 'Booster_Doses', 'new_deaths_100_max', 'Completeness_pct', 'new_cases_50_max']\n"
     ]
    }
   ],
   "source": [
    "model_b = LGBMRegressor().fit(X_train, y_train, verbose=False)\n",
    "predictors_2 = pd.concat([pd.Series(model_b.feature_importances_),\n",
    "           pd.Series(X_train.columns)],axis=1).sort_values(by = 0,ascending = False).head(30)\n",
    "print(predictors_2[1].to_list())"
   ]
  },
  {
   "cell_type": "code",
   "execution_count": 7,
   "id": "414bbf88",
   "metadata": {},
   "outputs": [
    {
     "name": "stdout",
     "output_type": "stream",
     "text": [
      "['PEOPLE_DEATH_NEW_COUNT', 'new_cases_10_mean', 'new_cases_10_max', 'new_cases_10_std', 'new_cases_50_std', 'new_cases_50_max', 'new_cases_100_max', 'new_deaths_50_std', 'new_hospitalized_patients', 'new_cases_100_mean', 'new_deaths_50_mean', 'Series_Complete_12Plus', 'minimum_temperature_celsius', 'Series_Complete_65Plus', 'dew_point', 'Booster_Doses_18Plus', 'new_cases_50_mean', 'maximum_temperature_celsius', 'current_intensive_care_patients', 'Series_Complete_Yes', 'new_deaths_100_max', 'new_cases_100_std', 'Booster_Doses', 'new_deaths_100_mean', 'new_deaths_10_std', 'new_deaths_10_mean', 'new_deaths_100_std', 'new_cases_50_min', 'Booster_Doses_50Plus', 'average_temperature_celsius']\n"
     ]
    }
   ],
   "source": [
    "from sklearn.ensemble import GradientBoostingRegressor,GradientBoostingClassifier, BaggingRegressor,BaggingClassifier,RandomForestRegressor,RandomForestClassifier,AdaBoostRegressor,AdaBoostClassifier\n",
    "\n",
    "model_c = GradientBoostingRegressor().fit(X_train, y_train)\n",
    "predictors_3 = pd.concat([pd.Series(model_c.feature_importances_),\n",
    "           pd.Series(X_train.columns)],axis=1).sort_values(by = 0,ascending = False).head(30)\n",
    "print(predictors_3[1].to_list())"
   ]
  },
  {
   "cell_type": "code",
   "execution_count": 8,
   "id": "f46b63c7",
   "metadata": {},
   "outputs": [
    {
     "name": "stdout",
     "output_type": "stream",
     "text": [
      "['PEOPLE_DEATH_NEW_COUNT', 'new_cases_10_std', 'new_cases_10_max', 'new_cases_10_mean', 'new_cases_100_std', 'current_intensive_care_patients', 'Administered_Dose1_Recip_18Plus', 'new_deaths_10_mean', 'Series_Complete_12Plus', 'new_cases_50_std', 'Administered_Dose1_Recip', 'Completeness_pct', 'Series_Complete_65Plus', 'Administered_Dose1_Recip_65Plus', 'Administered_Dose1_Recip_5Plus', 'new_cases_100_max', 'new_cases_50_max', 'new_hospitalized_patients', 'Series_Complete_Yes', 'new_cases_50_mean', 'new_cases_100_mean', 'Administered_Dose1_Recip_12Plus', 'new_deaths_100_mean', 'dew_point', 'Series_Complete_5Plus', 'vaccination_rate_complete', 'maximum_temperature_celsius', 'Booster_Doses', 'relative_humidity', 'average_temperature_celsius']\n"
     ]
    }
   ],
   "source": [
    "from sklearn.ensemble import BaggingRegressor,BaggingClassifier,AdaBoostRegressor,AdaBoostClassifier\n",
    "from sklearn.tree import DecisionTreeRegressor,DecisionTreeClassifier\n",
    "\n",
    "model_d = AdaBoostRegressor(random_state=1, base_estimator = DecisionTreeRegressor(random_state=1)).fit(X_train, y_train)\n",
    "predictors_4 = pd.concat([pd.Series(model_d.feature_importances_),\n",
    "           pd.Series(X_train.columns)],axis=1).sort_values(by = 0,ascending = False).head(30)\n",
    "print(predictors_4[1].to_list())"
   ]
  },
  {
   "cell_type": "code",
   "execution_count": 9,
   "id": "daedb25e",
   "metadata": {},
   "outputs": [
    {
     "name": "stdout",
     "output_type": "stream",
     "text": [
      "['PEOPLE_DEATH_NEW_COUNT', 'new_cases_10_mean', 'new_cases_10_std', 'new_cases_10_max', 'new_cases_50_std', 'Series_Complete_Yes', 'vaccination_rate_complete', 'Series_Complete_12Plus', 'Administered_Dose1_Recip_12Plus', 'new_cases_100_mean', 'vaccination_rate_1dose', 'Series_Complete_18Plus', 'Series_Complete_65Plus', 'new_cases_100_max', 'new_hospitalized_patients', 'Administered_Dose1_Recip_18Plus', 'Administered_Dose1_Recip_65Plus', 'new_cases_100_std', 'new_cases_50_mean', 'Administered_Dose1_Recip', 'new_deaths_10_mean', 'new_deaths_50_mean', 'new_deaths_10_max', 'new_cases_50_max', 'new_deaths_50_std', 'Administered_Dose1_Recip_5Plus', 'maximum_temperature_celsius', 'new_deaths_100_mean', 'relative_humidity', 'current_intensive_care_patients']\n"
     ]
    }
   ],
   "source": [
    "from sklearn.ensemble import BaggingRegressor,BaggingClassifier,RandomForestRegressor,RandomForestClassifier\n",
    "\n",
    "model_e = RandomForestRegressor().fit(X_train, y_train)\n",
    "predictors_5 = pd.concat([pd.Series(model_e.feature_importances_), pd.Series(X_train.columns)], axis=1).sort_values(by=0, ascending = False).head(30)\n",
    "print(predictors_5[1].to_list())"
   ]
  },
  {
   "cell_type": "code",
   "execution_count": 10,
   "id": "e7fdfb69",
   "metadata": {},
   "outputs": [
    {
     "name": "stdout",
     "output_type": "stream",
     "text": [
      "Earth Model\n",
      "---------------------------------------------------------------------\n",
      "Basis Function                                  Pruned  Coefficient  \n",
      "---------------------------------------------------------------------\n",
      "(Intercept)                                     No      -648973      \n",
      "h(new_cases_10_mean-7994.8)                     No      -18.3691     \n",
      "h(7994.8-new_cases_10_mean)                     Yes     None         \n",
      "h(PEOPLE_DEATH_NEW_COUNT-109)                   Yes     None         \n",
      "h(109-PEOPLE_DEATH_NEW_COUNT)                   No      -50.3654     \n",
      "new_deaths_10_mean                              No      -88.8113     \n",
      "h(new_cases_50_mean-6693.7)                     Yes     None         \n",
      "h(6693.7-new_cases_50_mean)                     Yes     None         \n",
      "h(new_deaths_10_std-157.523)                    Yes     None         \n",
      "h(157.523-new_deaths_10_std)                    No      -32.4764     \n",
      "h(new_cases_50_std-8520.17)                     No      -172.89      \n",
      "h(8520.17-new_cases_50_std)                     No      163.51       \n",
      "h(new_cases_50_max-27322)                       Yes     None         \n",
      "h(27322-new_cases_50_max)                       No      -0.282614    \n",
      "h(new_cases_100_std-6846.69)                    Yes     None         \n",
      "h(6846.69-new_cases_100_std)                    Yes     None         \n",
      "h(Series_Complete_12Plus-5.37025E+06)           No      -12.2117     \n",
      "h(5.37025E+06-Series_Complete_12Plus)           Yes     None         \n",
      "h(Series_Complete_65Plus-1.15555E+06)           No      0.0914367    \n",
      "h(1.15555E+06-Series_Complete_65Plus)           Yes     None         \n",
      "h(vaccination_rate_complete-0.535212)           No      4.66454e+07  \n",
      "h(0.535212-vaccination_rate_complete)           Yes     None         \n",
      "h(new_cases_50_mean-5918.08)                    Yes     None         \n",
      "h(5918.08-new_cases_50_mean)                    No      -1.11783     \n",
      "h(new_cases_100_std-5514.67)                    No      30.3945      \n",
      "h(5514.67-new_cases_100_std)                    No      1.20754      \n",
      "h(Series_Complete_18Plus-5.03098E+06)           No      1.11549      \n",
      "h(5.03098E+06-Series_Complete_18Plus)           No      0.00581098   \n",
      "h(Administered_Dose1_Recip_12Plus-5.62902E+06)  No      -0.369006    \n",
      "h(5.62902E+06-Administered_Dose1_Recip_12Plus)  Yes     None         \n",
      "h(Administered_Dose1_Recip_18Plus-5.29396E+06)  No      -1.10098     \n",
      "h(5.29396E+06-Administered_Dose1_Recip_18Plus)  Yes     None         \n",
      "h(new_hospitalized_patients-588)                No      19.8806      \n",
      "h(588-new_hospitalized_patients)                No      13.6804      \n",
      "h(new_cases_100_std-3901.52)                    No      251.331      \n",
      "h(3901.52-new_cases_100_std)                    Yes     None         \n",
      "h(new_cases_50_std-4658.11)                     Yes     None         \n",
      "h(4658.11-new_cases_50_std)                     No      -165.283     \n",
      "h(Booster_Doses_50Plus-1.45822E+06)             No      0.88118      \n",
      "h(1.45822E+06-Booster_Doses_50Plus)             Yes     None         \n",
      "h(new_cases_10_mean-7705.1)                     No      23.9494      \n",
      "h(7705.1-new_cases_10_mean)                     Yes     None         \n",
      "h(Series_Complete_65Plus-1.47178E+06)           No      -2.93192     \n",
      "h(1.47178E+06-Series_Complete_65Plus)           Yes     None         \n",
      "international_travel_controls                   No      2214.98      \n",
      "h(new_cases_10_mean-7153.9)                     No      -6.4124      \n",
      "h(7153.9-new_cases_10_mean)                     Yes     None         \n",
      "h(new_cases_50_std-3240.4)                      Yes     None         \n",
      "h(3240.4-new_cases_50_std)                      No      3.92453      \n",
      "h(new_cases_50_mean-3040.92)                    Yes     None         \n",
      "h(3040.92-new_cases_50_mean)                    Yes     None         \n",
      "h(Administered_Dose1_Recip_65Plus-1.38217E+06)  No      -0.0784691   \n",
      "h(1.38217E+06-Administered_Dose1_Recip_65Plus)  No      -0.00635405  \n",
      "new_deaths_10_min                               No      58.7926      \n",
      "h(new_cases_10_min-635)                         No      -6.90081     \n",
      "h(635-new_cases_10_min)                         Yes     None         \n",
      "new_cases_10_mean                               Yes     None         \n",
      "h(new_cases_10_mean-576.1)                      No      2.58188      \n",
      "h(576.1-new_cases_10_mean)                      Yes     None         \n",
      "vaccination_policy                              No      975.934      \n",
      "contact_tracing                                 No      -1625.64     \n",
      "h(new_cases_100_mean-1163.8)                    Yes     None         \n",
      "h(1163.8-new_cases_100_mean)                    No      -2.31465     \n",
      "PEOPLE_DEATH_NEW_COUNT                          Yes     None         \n",
      "---------------------------------------------------------------------\n",
      "MSE: 2485343.3451, GCV: 3297915.8888, RSQ: 0.8538, GRSQ: 0.8066\n"
     ]
    }
   ],
   "source": [
    "# using MARS summary for feature selection\n",
    "model = Earth(max_terms=1000, max_degree=1, feature_importance_type = 'rss') # note, terms in brackets are the hyperparameters \n",
    "model.fit(X_train,y_train)\n",
    "print(model.summary())"
   ]
  },
  {
   "cell_type": "code",
   "execution_count": 11,
   "id": "15338145",
   "metadata": {},
   "outputs": [],
   "source": [
    "def common_member(a, b, c, d, e):\n",
    "    set_1 = set(a)\n",
    "    set_2 = set(b)\n",
    "    set_3 = set(c)\n",
    "    set_4 = set(d)\n",
    "    set_5 = set(e)\n",
    " \n",
    "    if (set_1 & set_2 & set_3 & set_4 & set_5):\n",
    "        print(set_1 & set_2 & set_3 & set_4 & set_5)\n"
   ]
  },
  {
   "cell_type": "code",
   "execution_count": 12,
   "id": "0b7a6577",
   "metadata": {},
   "outputs": [],
   "source": [
    "a = predictors_1[1].to_list()\n",
    "b = predictors_2[1].to_list()\n",
    "c = predictors_3[1].to_list()\n",
    "d = predictors_4[1].to_list()\n",
    "e = predictors_5[1].to_list()"
   ]
  },
  {
   "cell_type": "code",
   "execution_count": 13,
   "id": "ba9212ce",
   "metadata": {},
   "outputs": [
    {
     "name": "stdout",
     "output_type": "stream",
     "text": [
      "{'new_cases_10_max', 'new_cases_50_std', 'new_cases_10_std', 'new_deaths_10_mean', 'new_cases_50_max', 'PEOPLE_DEATH_NEW_COUNT', 'new_hospitalized_patients', 'new_cases_10_mean', 'new_deaths_100_mean', 'new_cases_100_mean'}\n"
     ]
    }
   ],
   "source": [
    "full = common_member(a, b, c, d, e)\n",
    "full"
   ]
  },
  {
   "cell_type": "markdown",
   "id": "294e996d",
   "metadata": {},
   "source": [
    "## XGBoost Feature Selection, includes lag and rolling"
   ]
  },
  {
   "cell_type": "code",
   "execution_count": 14,
   "id": "781ede05",
   "metadata": {},
   "outputs": [],
   "source": [
    "import pandas as pd\n",
    "import numpy as np\n",
    "import statsmodels.formula.api as smf\n",
    "import statsmodels.api as sm\n",
    "from pyearth import Earth\n",
    "from sklearn.impute import KNNImputer\n",
    "from sklearn.model_selection import KFold\n",
    "from sklearn.model_selection import train_test_split, cross_val_predict, cross_val_score\n",
    "from sklearn.preprocessing import StandardScaler\n",
    "from sklearn.neighbors import KNeighborsRegressor\n",
    "from sklearn.ensemble import BaggingRegressor,BaggingClassifier,AdaBoostRegressor,AdaBoostClassifier\n",
    "from statsmodels.stats.outliers_influence import variance_inflation_factor\n",
    "from sklearn.model_selection import GridSearchCV, ParameterGrid, StratifiedKFold, RandomizedSearchCV\n",
    "from statsmodels.tools.tools import add_constant\n",
    "import xgboost as xgb\n",
    "from lightgbm import LGBMRegressor\n",
    "from catboost import CatBoostRegressor\n",
    "import time\n",
    "\n",
    "import warnings\n",
    "warnings.filterwarnings(\"ignore\")"
   ]
  },
  {
   "cell_type": "code",
   "execution_count": 15,
   "id": "d8a17174",
   "metadata": {},
   "outputs": [],
   "source": [
    "covid_df = pd.read_csv('mich_multi_df.csv', parse_dates=['Date'])\n",
    "covid_df.drop(columns = ['PROVINCE_STATE_NAME'], inplace = True)\n",
    "covid_df = covid_df.rename(columns={'Date': 'ds', 'PEOPLE_POSITIVE_NEW_CASES_COUNT': 'y'})\n",
    "\n",
    "train_size = int(len(covid_df)* 0.85)\n",
    "covid_train = covid_df[0:train_size]\n",
    "\n",
    "X_train = covid_train.drop(columns=['ds', 'y'], axis=1)\n",
    "X_train = X_train.astype('float32')\n",
    "y_train = covid_train['y']"
   ]
  },
  {
   "cell_type": "code",
   "execution_count": 16,
   "id": "f1db7f61",
   "metadata": {},
   "outputs": [
    {
     "name": "stdout",
     "output_type": "stream",
     "text": [
      "['new_cases_7_lag', 'PEOPLE_DEATH_NEW_COUNT', 'new_cases_10_max', 'new_cases_10_mean', 'new_cases_10_std', 'Administered_Dose1_Recip_65Plus', 'new_cases_100_max', 'vaccination_rate_complete', 'new_cases_100_std', 'new_deaths_100_std', 'new_cases_4_lag', 'new_hospitalized_patients', 'new_deaths_7_lag', 'new_cases_1 lag', 'Booster_Doses_18Plus', 'restrictions_on_gatherings', 'new_deaths_1_lag', 'new_deaths_50_std', 'Series_Complete_12Plus', 'new_cases_50_lag', 'new_cases_3_lag', 'new_cases_350_lag', 'new_cases_50_mean', 'new_deaths_50_mean', 'new_deaths_50_max', 'new_deaths_3_lag', 'minimum_temperature_celsius', 'Administered_Dose1_Recip_18Plus', 'new_deaths_4_lag', 'new_deaths_10_max', 'Series_Complete_18Plus', 'international_travel_controls', 'new_deaths_100_mean', 'rainfall_mm', 'new_deaths_2_lag', 'new_cases_100_mean', 'new_cases_2_lag', 'Booster_Doses_50Plus', 'new_deaths_10_mean', 'Series_Complete_65Plus']\n"
     ]
    }
   ],
   "source": [
    "model_a = CatBoostRegressor().fit(X_train, y_train, verbose=False)\n",
    "predictors_7 = pd.concat([pd.Series(model_a.feature_importances_),\n",
    "           pd.Series(X_train.columns)],axis=1).sort_values(by = 0,ascending = False).head(40)\n",
    "print(predictors_7[1].to_list())"
   ]
  },
  {
   "cell_type": "code",
   "execution_count": 17,
   "id": "521567e7",
   "metadata": {},
   "outputs": [
    {
     "name": "stdout",
     "output_type": "stream",
     "text": [
      "['new_cases_7_lag', 'PEOPLE_DEATH_NEW_COUNT', 'new_cases_10_std', 'new_cases_10_max', 'new_cases_50_lag', 'new_cases_4_lag', 'new_cases_3_lag', 'new_cases_10_mean', 'new_deaths_30_lag', 'new_cases_1 lag', 'new_deaths_7_lag', 'new_cases_150_lag', 'new_cases_2_lag', 'new_deaths_10_std', 'new_cases_30_lag', 'new_deaths_2_lag', 'new_hospitalized_patients', 'new_deaths_10_mean', 'relative_humidity', 'new_deaths_50_lag', 'new_deaths_4_lag', 'new_deaths_1_lag', 'new_deaths_3_lag', 'new_cases_50_mean', 'new_cases_350_lag', 'new_deaths_50_std', 'rainfall_mm', 'dew_point', 'new_deaths_50_mean', 'maximum_temperature_celsius']\n"
     ]
    }
   ],
   "source": [
    "model_b = LGBMRegressor().fit(X_train, y_train, verbose=False)\n",
    "predictors_8 = pd.concat([pd.Series(model_b.feature_importances_),\n",
    "           pd.Series(X_train.columns)],axis=1).sort_values(by = 0,ascending = False).head(30)\n",
    "print(predictors_8[1].to_list())"
   ]
  },
  {
   "cell_type": "code",
   "execution_count": 18,
   "id": "e085bb4e",
   "metadata": {},
   "outputs": [
    {
     "name": "stdout",
     "output_type": "stream",
     "text": [
      "['new_cases_10_max', 'new_cases_7_lag', 'PEOPLE_DEATH_NEW_COUNT', 'new_cases_10_std', 'new_deaths_100_min', 'new_cases_10_mean', 'new_cases_100_mean', 'Booster_Doses', 'new_deaths_1_lag', 'new_cases_50_min', 'new_hospitalized_patients', 'new_deaths_10_mean', 'new_cases_3_lag', 'new_deaths_50_std', 'new_cases_50_mean', 'new_deaths_7_lag', 'new_cases_50_lag', 'new_cases_2_lag', 'minimum_temperature_celsius', 'new_deaths_50_mean', 'new_cases_150_lag', 'new_deaths_2_lag', 'new_cases_1 lag', 'stringency_index', 'new_deaths_4_lag', 'Administered_Dose1_Recip_5Plus', 'new_cases_350_lag', 'new_cases_10_min', 'new_deaths_100_max', 'current_intensive_care_patients']\n"
     ]
    }
   ],
   "source": [
    "model_g = xgb.XGBRegressor().fit(X_train, y_train, verbose=False)\n",
    "predictors_6 = pd.concat([pd.Series(model_g.feature_importances_),\n",
    "           pd.Series(X_train.columns)],axis=1).sort_values(by = 0,ascending = False).head(30)\n",
    "print(predictors_6[1].to_list())"
   ]
  },
  {
   "cell_type": "code",
   "execution_count": 19,
   "id": "16887329",
   "metadata": {},
   "outputs": [
    {
     "name": "stdout",
     "output_type": "stream",
     "text": [
      "Earth Model\n",
      "----------------------------------------------------------------------------\n",
      "Basis Function                                        Pruned  Coefficient   \n",
      "----------------------------------------------------------------------------\n",
      "(Intercept)                                           No      3.89002e+06   \n",
      "present(new_cases_7_lag)                              Yes     None          \n",
      "missing(new_cases_7_lag)                              Yes     None          \n",
      "h(new_cases_7_lag-14588)*present(new_cases_7_lag)     No      0.515149      \n",
      "h(14588-new_cases_7_lag)*present(new_cases_7_lag)     No      -0.657039     \n",
      "h(PEOPLE_DEATH_NEW_COUNT-230)                         No      50.1036       \n",
      "h(230-PEOPLE_DEATH_NEW_COUNT)                         No      -18.4611      \n",
      "present(new_deaths_7_lag)                             Yes     None          \n",
      "missing(new_deaths_7_lag)                             No      -10647.8      \n",
      "h(new_deaths_7_lag-225)*present(new_deaths_7_lag)     No      -58.1926      \n",
      "h(225-new_deaths_7_lag)*present(new_deaths_7_lag)     No      5.83847       \n",
      "h(new_cases_10_max-22766)                             Yes     None          \n",
      "h(22766-new_cases_10_max)                             Yes     None          \n",
      "present(new_cases_1 lag)                              No      -9911.07      \n",
      "missing(new_cases_1 lag)                              Yes     None          \n",
      "h(new_cases_1 lag-15963)*present(new_cases_1 lag)     No      -0.570032     \n",
      "h(15963-new_cases_1 lag)*present(new_cases_1 lag)     No      0.647533      \n",
      "h(new_deaths_10_mean-15)                              No      -20.9069      \n",
      "h(15-new_deaths_10_mean)                              No      44.5118       \n",
      "present(new_cases_350_lag)                            No      3032.63       \n",
      "missing(new_cases_350_lag)                            Yes     None          \n",
      "h(new_cases_350_lag-4459)*present(new_cases_350_lag)  No      0.355153      \n",
      "h(4459-new_cases_350_lag)*present(new_cases_350_lag)  No      -0.321884     \n",
      "h(new_cases_10_std-10237.7)                           No      -9.08899      \n",
      "h(10237.7-new_cases_10_std)                           Yes     None          \n",
      "present(new_deaths_30_lag)                            Yes     None          \n",
      "missing(new_deaths_30_lag)                            Yes     None          \n",
      "h(new_deaths_30_lag-205)*present(new_deaths_30_lag)   No      -20.3234      \n",
      "h(205-new_deaths_30_lag)*present(new_deaths_30_lag)   Yes     None          \n",
      "present(new_cases_30_lag)                             Yes     None          \n",
      "missing(new_cases_30_lag)                             Yes     None          \n",
      "h(new_cases_30_lag-11206)*present(new_cases_30_lag)   No      0.271445      \n",
      "h(11206-new_cases_30_lag)*present(new_cases_30_lag)   Yes     None          \n",
      "h(new_cases_10_mean-7705.1)                           No      4.8071        \n",
      "h(7705.1-new_cases_10_mean)                           No      -2.04866      \n",
      "h(new_cases_7_lag-3791)*present(new_cases_7_lag)      No      -0.478573     \n",
      "h(3791-new_cases_7_lag)*present(new_cases_7_lag)      Yes     None          \n",
      "present(new_deaths_4_lag)                             Yes     None          \n",
      "missing(new_deaths_4_lag)                             Yes     None          \n",
      "h(new_deaths_4_lag-230)*present(new_deaths_4_lag)     Yes     None          \n",
      "h(230-new_deaths_4_lag)*present(new_deaths_4_lag)     Yes     None          \n",
      "present(new_cases_2_lag)                              Yes     None          \n",
      "missing(new_cases_2_lag)                              No      8710.49       \n",
      "new_cases_2_lag*present(new_cases_2_lag)              Yes     None          \n",
      "h(new_cases_50_mean-6272.34)                          Yes     None          \n",
      "h(6272.34-new_cases_50_mean)                          No      0.983515      \n",
      "h(new_deaths_50_mean-101.7)                           No      881.901       \n",
      "h(101.7-new_deaths_50_mean)                           Yes     None          \n",
      "h(new_cases_2_lag-15963)*present(new_cases_2_lag)     Yes     None          \n",
      "h(15963-new_cases_2_lag)*present(new_cases_2_lag)     No      1.12477       \n",
      "h(new_cases_2_lag-11659)*present(new_cases_2_lag)     Yes     None          \n",
      "h(11659-new_cases_2_lag)*present(new_cases_2_lag)     No      -0.678765     \n",
      "h(booster_rate-0.179763)                              No      7.8998e+06    \n",
      "h(0.179763-booster_rate)                              No      -5.21569e+06  \n",
      "h(Booster_Doses_18Plus-1.77579E+06)                   No      -0.775732     \n",
      "h(1.77579E+06-Booster_Doses_18Plus)                   No      0.508701      \n",
      "present(new_deaths_2_lag)                             Yes     None          \n",
      "missing(new_deaths_2_lag)                             Yes     None          \n",
      "h(new_deaths_2_lag-230)*present(new_deaths_2_lag)     No      27.4365       \n",
      "h(230-new_deaths_2_lag)*present(new_deaths_2_lag)     No      -4.12915      \n",
      "h(new_cases_50_mean-2669.1)                           Yes     None          \n",
      "h(2669.1-new_cases_50_mean)                           No      -1.72462      \n",
      "present(new_cases_4_lag)                              Yes     None          \n",
      "missing(new_cases_4_lag)                              Yes     None          \n",
      "h(new_cases_4_lag-11308)*present(new_cases_4_lag)     No      -0.328302     \n",
      "h(11308-new_cases_4_lag)*present(new_cases_4_lag)     No      0.0836941     \n",
      "present(new_cases_3_lag)                              Yes     None          \n",
      "missing(new_cases_3_lag)                              Yes     None          \n",
      "new_cases_3_lag*present(new_cases_3_lag)              No      -0.191078     \n",
      "present(new_deaths_1_lag)                             Yes     None          \n",
      "missing(new_deaths_1_lag)                             Yes     None          \n",
      "new_deaths_1_lag*present(new_deaths_1_lag)            No      9.53004       \n",
      "h(new_cases_10_min-635)                               No      -2.72396      \n",
      "h(635-new_cases_10_min)                               Yes     None          \n",
      "h(new_cases_50_max-27322)                             No      -0.695907     \n",
      "h(27322-new_cases_50_max)                             Yes     None          \n",
      "h(Series_Complete_12Plus-29030)                       No      -0.736173     \n",
      "h(29030-Series_Complete_12Plus)                       No      0.822922      \n",
      "h(Administered_Dose1_Recip_65Plus-1.5716E+06)         No      -18.1251      \n",
      "h(1.5716E+06-Administered_Dose1_Recip_65Plus)         Yes     None          \n",
      "h(current_intensive_care_patients-610)                No      -1.66306      \n",
      "h(610-current_intensive_care_patients)                Yes     None          \n",
      "h(new_cases_10_std-3377.23)                           No      12.3825       \n",
      "h(3377.23-new_cases_10_std)                           Yes     None          \n",
      "h(vaccination_rate_complete-0.522864)                 Yes     None          \n",
      "h(0.522864-vaccination_rate_complete)                 Yes     None          \n",
      "h(new_cases_100_mean-4113.42)                         No      5.15568       \n",
      "h(4113.42-new_cases_100_mean)                         No      0.30034       \n",
      "h(new_cases_10_std-3210.34)                           No      -10.3777      \n",
      "h(3210.34-new_cases_10_std)                           Yes     None          \n",
      "h(Series_Complete_Yes-5.27937E+06)                    Yes     None          \n",
      "h(5.27937E+06-Series_Complete_Yes)                    No      -0.736767     \n",
      "h(Administered_Dose1_Recip_12Plus-5.56827E+06)        No      -13.4156      \n",
      "h(5.56827E+06-Administered_Dose1_Recip_12Plus)        No      0.0134338     \n",
      "h(Administered_Dose1_Recip_18Plus-5.36372E+06)        No      3.891         \n",
      "h(5.36372E+06-Administered_Dose1_Recip_18Plus)        No      -0.0133461    \n",
      "h(Series_Complete_5Plus-5.37216E+06)                  No      -1.97989      \n",
      "h(5.37216E+06-Series_Complete_5Plus)                  Yes     None          \n",
      "h(new_cases_100_std-5514.67)                          No      37.9255       \n",
      "h(5514.67-new_cases_100_std)                          Yes     None          \n",
      "h(Administered_Dose1_Recip-5.56868E+06)               No      12.9957       \n",
      "h(5.56868E+06-Administered_Dose1_Recip)               Yes     None          \n",
      "h(Administered_Dose1_Recip_5Plus-3.95159E+06)         No      -0.00354443   \n",
      "h(3.95159E+06-Administered_Dose1_Recip_5Plus)         No      0.00531416    \n",
      "----------------------------------------------------------------------------\n",
      "MSE: 717624.4580, GCV: 1161174.1106, RSQ: 0.9578, GRSQ: 0.9319\n"
     ]
    }
   ],
   "source": [
    "model = Earth(max_terms=1000, max_degree=1, feature_importance_type = 'rss', allow_missing=True) # note, terms in brackets are the hyperparameters \n",
    "model.fit(X_train,y_train)\n",
    "print(model.summary())"
   ]
  },
  {
   "cell_type": "code",
   "execution_count": 20,
   "id": "fa55033a",
   "metadata": {},
   "outputs": [],
   "source": [
    "def common_member(a, b, c):\n",
    "    set_1 = set(a)\n",
    "    set_2 = set(b)\n",
    "    set_3 = set(c)\n",
    " \n",
    "    if (set_1 & set_2 & set_3):\n",
    "        print(set_1 & set_2 & set_3)\n"
   ]
  },
  {
   "cell_type": "code",
   "execution_count": 21,
   "id": "b466004a",
   "metadata": {},
   "outputs": [],
   "source": [
    "a = predictors_7[1].to_list()\n",
    "b = predictors_8[1].to_list()\n",
    "c = predictors_6[1].to_list()"
   ]
  },
  {
   "cell_type": "code",
   "execution_count": 22,
   "id": "427e1e31",
   "metadata": {},
   "outputs": [
    {
     "name": "stdout",
     "output_type": "stream",
     "text": [
      "{'new_cases_10_std', 'new_cases_50_lag', 'new_cases_10_mean', 'new_deaths_7_lag', 'new_cases_50_mean', 'new_deaths_50_mean', 'new_cases_10_max', 'new_cases_3_lag', 'new_cases_7_lag', 'new_cases_350_lag', 'new_cases_2_lag', 'new_deaths_50_std', 'new_deaths_10_mean', 'PEOPLE_DEATH_NEW_COUNT', 'new_deaths_1_lag', 'new_cases_1 lag', 'new_hospitalized_patients', 'new_deaths_2_lag', 'new_deaths_4_lag'}\n"
     ]
    }
   ],
   "source": [
    "full = common_member(a, b, c)\n",
    "full"
   ]
  },
  {
   "cell_type": "code",
   "execution_count": null,
   "id": "280036a3",
   "metadata": {},
   "outputs": [],
   "source": []
  },
  {
   "cell_type": "code",
   "execution_count": null,
   "id": "791f1b4d",
   "metadata": {},
   "outputs": [],
   "source": []
  },
  {
   "cell_type": "code",
   "execution_count": null,
   "id": "ca9a3e03",
   "metadata": {},
   "outputs": [],
   "source": []
  }
 ],
 "metadata": {
  "kernelspec": {
   "display_name": "Python 3 (ipykernel)",
   "language": "python",
   "name": "python3"
  },
  "language_info": {
   "codemirror_mode": {
    "name": "ipython",
    "version": 3
   },
   "file_extension": ".py",
   "mimetype": "text/x-python",
   "name": "python",
   "nbconvert_exporter": "python",
   "pygments_lexer": "ipython3",
   "version": "3.9.12"
  }
 },
 "nbformat": 4,
 "nbformat_minor": 5
}
