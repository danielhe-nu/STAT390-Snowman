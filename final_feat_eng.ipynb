{
 "cells": [
  {
   "cell_type": "code",
   "execution_count": 1,
   "metadata": {},
   "outputs": [
    {
     "data": {
      "text/html": [
       "<div>\n",
       "<style scoped>\n",
       "    .dataframe tbody tr th:only-of-type {\n",
       "        vertical-align: middle;\n",
       "    }\n",
       "\n",
       "    .dataframe tbody tr th {\n",
       "        vertical-align: top;\n",
       "    }\n",
       "\n",
       "    .dataframe thead th {\n",
       "        text-align: right;\n",
       "    }\n",
       "</style>\n",
       "<table border=\"1\" class=\"dataframe\">\n",
       "  <thead>\n",
       "    <tr style=\"text-align: right;\">\n",
       "      <th></th>\n",
       "      <th>Date</th>\n",
       "      <th>STATE</th>\n",
       "      <th>PROVINCE_STATE_NAME</th>\n",
       "      <th>Completeness_pct</th>\n",
       "      <th>Administered_Dose1_Recip</th>\n",
       "      <th>Administered_Dose1_Recip_5Plus</th>\n",
       "      <th>Administered_Dose1_Recip_12Plus</th>\n",
       "      <th>Administered_Dose1_Recip_18Plus</th>\n",
       "      <th>Administered_Dose1_Recip_65Plus</th>\n",
       "      <th>Series_Complete_Yes</th>\n",
       "      <th>...</th>\n",
       "      <th>new_deaths_50_min</th>\n",
       "      <th>new_deaths_100_min</th>\n",
       "      <th>vaccination_rate_1dose</th>\n",
       "      <th>vaccination_rate_complete</th>\n",
       "      <th>booster_rate</th>\n",
       "      <th>prop_age04</th>\n",
       "      <th>prop_age59</th>\n",
       "      <th>prop_age6064</th>\n",
       "      <th>prop_age8084</th>\n",
       "      <th>prop_age85plus</th>\n",
       "    </tr>\n",
       "  </thead>\n",
       "  <tbody>\n",
       "    <tr>\n",
       "      <th>0</th>\n",
       "      <td>2020-03-01</td>\n",
       "      <td>1</td>\n",
       "      <td>Alabama</td>\n",
       "      <td>0.0</td>\n",
       "      <td>0.0</td>\n",
       "      <td>0.0</td>\n",
       "      <td>0.0</td>\n",
       "      <td>0.0</td>\n",
       "      <td>0.0</td>\n",
       "      <td>0.0</td>\n",
       "      <td>...</td>\n",
       "      <td>NaN</td>\n",
       "      <td>NaN</td>\n",
       "      <td>0.0</td>\n",
       "      <td>0.0</td>\n",
       "      <td>0.0</td>\n",
       "      <td>5.810037</td>\n",
       "      <td>5.990525</td>\n",
       "      <td>6.557529</td>\n",
       "      <td>2.031935</td>\n",
       "      <td>1.845802</td>\n",
       "    </tr>\n",
       "    <tr>\n",
       "      <th>1</th>\n",
       "      <td>2020-03-02</td>\n",
       "      <td>1</td>\n",
       "      <td>Alabama</td>\n",
       "      <td>0.0</td>\n",
       "      <td>0.0</td>\n",
       "      <td>0.0</td>\n",
       "      <td>0.0</td>\n",
       "      <td>0.0</td>\n",
       "      <td>0.0</td>\n",
       "      <td>0.0</td>\n",
       "      <td>...</td>\n",
       "      <td>NaN</td>\n",
       "      <td>NaN</td>\n",
       "      <td>0.0</td>\n",
       "      <td>0.0</td>\n",
       "      <td>0.0</td>\n",
       "      <td>5.810037</td>\n",
       "      <td>5.990525</td>\n",
       "      <td>6.557529</td>\n",
       "      <td>2.031935</td>\n",
       "      <td>1.845802</td>\n",
       "    </tr>\n",
       "    <tr>\n",
       "      <th>2</th>\n",
       "      <td>2020-03-03</td>\n",
       "      <td>1</td>\n",
       "      <td>Alabama</td>\n",
       "      <td>0.0</td>\n",
       "      <td>0.0</td>\n",
       "      <td>0.0</td>\n",
       "      <td>0.0</td>\n",
       "      <td>0.0</td>\n",
       "      <td>0.0</td>\n",
       "      <td>0.0</td>\n",
       "      <td>...</td>\n",
       "      <td>NaN</td>\n",
       "      <td>NaN</td>\n",
       "      <td>0.0</td>\n",
       "      <td>0.0</td>\n",
       "      <td>0.0</td>\n",
       "      <td>5.810037</td>\n",
       "      <td>5.990525</td>\n",
       "      <td>6.557529</td>\n",
       "      <td>2.031935</td>\n",
       "      <td>1.845802</td>\n",
       "    </tr>\n",
       "    <tr>\n",
       "      <th>3</th>\n",
       "      <td>2020-03-04</td>\n",
       "      <td>1</td>\n",
       "      <td>Alabama</td>\n",
       "      <td>0.0</td>\n",
       "      <td>0.0</td>\n",
       "      <td>0.0</td>\n",
       "      <td>0.0</td>\n",
       "      <td>0.0</td>\n",
       "      <td>0.0</td>\n",
       "      <td>0.0</td>\n",
       "      <td>...</td>\n",
       "      <td>NaN</td>\n",
       "      <td>NaN</td>\n",
       "      <td>0.0</td>\n",
       "      <td>0.0</td>\n",
       "      <td>0.0</td>\n",
       "      <td>5.810037</td>\n",
       "      <td>5.990525</td>\n",
       "      <td>6.557529</td>\n",
       "      <td>2.031935</td>\n",
       "      <td>1.845802</td>\n",
       "    </tr>\n",
       "    <tr>\n",
       "      <th>4</th>\n",
       "      <td>2020-03-05</td>\n",
       "      <td>1</td>\n",
       "      <td>Alabama</td>\n",
       "      <td>0.0</td>\n",
       "      <td>0.0</td>\n",
       "      <td>0.0</td>\n",
       "      <td>0.0</td>\n",
       "      <td>0.0</td>\n",
       "      <td>0.0</td>\n",
       "      <td>0.0</td>\n",
       "      <td>...</td>\n",
       "      <td>NaN</td>\n",
       "      <td>NaN</td>\n",
       "      <td>0.0</td>\n",
       "      <td>0.0</td>\n",
       "      <td>0.0</td>\n",
       "      <td>5.810037</td>\n",
       "      <td>5.990525</td>\n",
       "      <td>6.557529</td>\n",
       "      <td>2.031935</td>\n",
       "      <td>1.845802</td>\n",
       "    </tr>\n",
       "  </tbody>\n",
       "</table>\n",
       "<p>5 rows × 248 columns</p>\n",
       "</div>"
      ],
      "text/plain": [
       "         Date  STATE PROVINCE_STATE_NAME  Completeness_pct  \\\n",
       "0  2020-03-01      1             Alabama               0.0   \n",
       "1  2020-03-02      1             Alabama               0.0   \n",
       "2  2020-03-03      1             Alabama               0.0   \n",
       "3  2020-03-04      1             Alabama               0.0   \n",
       "4  2020-03-05      1             Alabama               0.0   \n",
       "\n",
       "   Administered_Dose1_Recip  Administered_Dose1_Recip_5Plus  \\\n",
       "0                       0.0                             0.0   \n",
       "1                       0.0                             0.0   \n",
       "2                       0.0                             0.0   \n",
       "3                       0.0                             0.0   \n",
       "4                       0.0                             0.0   \n",
       "\n",
       "   Administered_Dose1_Recip_12Plus  Administered_Dose1_Recip_18Plus  \\\n",
       "0                              0.0                              0.0   \n",
       "1                              0.0                              0.0   \n",
       "2                              0.0                              0.0   \n",
       "3                              0.0                              0.0   \n",
       "4                              0.0                              0.0   \n",
       "\n",
       "   Administered_Dose1_Recip_65Plus  Series_Complete_Yes  ...  \\\n",
       "0                              0.0                  0.0  ...   \n",
       "1                              0.0                  0.0  ...   \n",
       "2                              0.0                  0.0  ...   \n",
       "3                              0.0                  0.0  ...   \n",
       "4                              0.0                  0.0  ...   \n",
       "\n",
       "   new_deaths_50_min  new_deaths_100_min  vaccination_rate_1dose  \\\n",
       "0                NaN                 NaN                     0.0   \n",
       "1                NaN                 NaN                     0.0   \n",
       "2                NaN                 NaN                     0.0   \n",
       "3                NaN                 NaN                     0.0   \n",
       "4                NaN                 NaN                     0.0   \n",
       "\n",
       "   vaccination_rate_complete  booster_rate  prop_age04  prop_age59  \\\n",
       "0                        0.0           0.0    5.810037    5.990525   \n",
       "1                        0.0           0.0    5.810037    5.990525   \n",
       "2                        0.0           0.0    5.810037    5.990525   \n",
       "3                        0.0           0.0    5.810037    5.990525   \n",
       "4                        0.0           0.0    5.810037    5.990525   \n",
       "\n",
       "   prop_age6064  prop_age8084  prop_age85plus  \n",
       "0      6.557529      2.031935        1.845802  \n",
       "1      6.557529      2.031935        1.845802  \n",
       "2      6.557529      2.031935        1.845802  \n",
       "3      6.557529      2.031935        1.845802  \n",
       "4      6.557529      2.031935        1.845802  \n",
       "\n",
       "[5 rows x 248 columns]"
      ]
     },
     "execution_count": 1,
     "metadata": {},
     "output_type": "execute_result"
    }
   ],
   "source": [
    "import pandas as pd\n",
    "from matplotlib import pyplot as plt\n",
    "import seaborn as sns\n",
    "\n",
    "df = pd.read_csv('feat_eng_df.csv')\n",
    "df.head()"
   ]
  },
  {
   "cell_type": "code",
   "execution_count": 2,
   "metadata": {},
   "outputs": [
    {
     "data": {
      "text/plain": [
       "(39500, 248)"
      ]
     },
     "execution_count": 2,
     "metadata": {},
     "output_type": "execute_result"
    }
   ],
   "source": [
    "df.shape"
   ]
  },
  {
   "cell_type": "code",
   "execution_count": 3,
   "metadata": {},
   "outputs": [
    {
     "name": "stdout",
     "output_type": "stream",
     "text": [
      "['Date', 'STATE', 'PROVINCE_STATE_NAME', 'Completeness_pct', 'Administered_Dose1_Recip', 'Administered_Dose1_Recip_5Plus', 'Administered_Dose1_Recip_12Plus', 'Administered_Dose1_Recip_18Plus', 'Administered_Dose1_Recip_65Plus', 'Series_Complete_Yes', 'Series_Complete_5Plus', 'Series_Complete_5to17', 'Series_Complete_12Plus', 'Series_Complete_18Plus', 'Series_Complete_65Plus', 'Booster_Doses', 'Booster_Doses_5Plus', 'Booster_Doses_12Plus', 'Booster_Doses_18Plus', 'Booster_Doses_50Plus', 'Booster_Doses_65Plus', 'Second_Booster_50Plus', 'Second_Booster_65Plus', 'Bivalent_Booster_5Plus', 'Bivalent_Booster_12Plus', 'Bivalent_Booster_18Plus', 'Bivalent_Booster_65Plus', 'PEOPLE_POSITIVE_CASES_COUNT', 'PEOPLE_DEATH_NEW_COUNT', 'PEOPLE_POSITIVE_NEW_CASES_COUNT', 'PEOPLE_DEATH_COUNT', 'TOT_POP', 'TOT_MALE', 'TOT_FEMALE', 'WA_MALE', 'WA_FEMALE', 'BA_MALE', 'BA_FEMALE', 'IA_MALE', 'IA_FEMALE', 'AA_MALE', 'AA_FEMALE', 'NA_MALE', 'NA_FEMALE', 'TOM_MALE', 'TOM_FEMALE', 'WAC_MALE', 'WAC_FEMALE', 'BAC_MALE', 'BAC_FEMALE', 'IAC_MALE', 'IAC_FEMALE', 'AAC_MALE', 'AAC_FEMALE', 'NAC_MALE', 'NAC_FEMALE', 'NH_MALE', 'NH_FEMALE', 'NHWA_MALE', 'NHWA_FEMALE', 'NHBA_MALE', 'NHBA_FEMALE', 'NHIA_MALE', 'NHIA_FEMALE', 'NHAA_MALE', 'NHAA_FEMALE', 'NHNA_MALE', 'NHNA_FEMALE', 'NHTOM_MALE', 'NHTOM_FEMALE', 'NHWAC_MALE', 'NHWAC_FEMALE', 'NHBAC_MALE', 'NHBAC_FEMALE', 'NHIAC_MALE', 'NHIAC_FEMALE', 'NHAAC_MALE', 'NHAAC_FEMALE', 'NHNAC_MALE', 'NHNAC_FEMALE', 'H_MALE', 'H_FEMALE', 'HWA_MALE', 'HWA_FEMALE', 'HBA_MALE', 'HBA_FEMALE', 'HIA_MALE', 'HIA_FEMALE', 'HAA_MALE', 'HAA_FEMALE', 'HNA_MALE', 'HNA_FEMALE', 'HTOM_MALE', 'HTOM_FEMALE', 'HWAC_MALE', 'HWAC_FEMALE', 'HBAC_MALE', 'HBAC_FEMALE', 'HIAC_MALE', 'HIAC_FEMALE', 'HAAC_MALE', 'HAAC_FEMALE', 'HNAC_MALE', 'HNAC_FEMALE', 'POPESTIMATE', 'POPEST_MALE', 'POPEST_FEM', 'AGE04_TOT', 'AGE04_MALE', 'AGE04_FEM', 'AGE59_TOT', 'AGE59_MALE', 'AGE59_FEM', 'AGE1014_TOT', 'AGE1014_MALE', 'AGE1014_FEM', 'AGE1519_TOT', 'AGE1519_MALE', 'AGE1519_FEM', 'AGE2024_TOT', 'AGE2024_MALE', 'AGE2024_FEM', 'AGE2529_TOT', 'AGE2529_MALE', 'AGE2529_FEM', 'AGE3034_TOT', 'AGE3034_MALE', 'AGE3034_FEM', 'AGE3539_TOT', 'AGE3539_MALE', 'AGE3539_FEM', 'AGE4044_TOT', 'AGE4044_MALE', 'AGE4044_FEM', 'AGE4549_TOT', 'AGE4549_MALE', 'AGE4549_FEM', 'AGE5054_TOT', 'AGE5054_MALE', 'AGE5054_FEM', 'AGE5559_TOT', 'AGE5559_MALE', 'AGE5559_FEM', 'AGE6064_TOT', 'AGE6064_MALE', 'AGE6064_FEM', 'AGE6569_TOT', 'AGE6569_MALE', 'AGE6569_FEM', 'AGE7074_TOT', 'AGE7074_MALE', 'AGE7074_FEM', 'AGE7579_TOT', 'AGE7579_MALE', 'AGE7579_FEM', 'AGE8084_TOT', 'AGE8084_MALE', 'AGE8084_FEM', 'AGE85PLUS_TOT', 'AGE85PLUS_MALE', 'AGE85PLUS_FEM', 'GDP_current_dollar', 'personal_income', 'Vaccine_available', 'average_temperature_celsius', 'minimum_temperature_celsius', 'maximum_temperature_celsius', 'rainfall_mm', 'dew_point', 'relative_humidity', 'new_hospitalized_patients', 'current_intensive_care_patients', 'school_closing', 'workplace_closing', 'cancel_public_events', 'restrictions_on_gatherings', 'public_transport_closing', 'stay_at_home_requirements', 'restrictions_on_internal_movement', 'international_travel_controls', 'income_support', 'debt_relief', 'public_information_campaigns', 'testing_policy', 'contact_tracing', 'facial_coverings', 'vaccination_policy', 'stringency_index', 'new_cases_1 lag', 'new_cases_2_lag', 'new_cases_3_lag', 'new_cases_4_lag', 'new_cases_7_lag', 'new_cases_30_lag', 'new_cases_50_lag', 'new_cases_150_lag', 'new_cases_350_lag', 'new_deaths_1_lag', 'new_deaths_2_lag', 'new_deaths_3_lag', 'new_deaths_4_lag', 'new_deaths_7_lag', 'new_deaths_30_lag', 'new_deaths_50_lag', 'administered_dose1_recip_10_mean', 'administered_dose1_recip_50_mean', 'administered_dose1_recip_100_mean', 'administered_dose1_recip_10_std', 'administered_dose1_recip_50_std', 'administered_dose1_recip_100_std', 'administered_dose1_recip_10_max', 'administered_dose1_recip_50_max', 'administered_dose1_recip_100_max', 'administered_dose1_recip_10_min', 'administered_dose1_recip_50_min', 'administered_dose1_recip_100_min', 'new_cases_10_mean', 'new_cases_50_mean', 'new_cases_100_mean', 'new_cases_10_std', 'new_cases_50_std', 'new_cases_100_std', 'new_cases_10_max', 'new_cases_50_max', 'new_cases_100_max', 'new_cases_10_min', 'new_cases_50_min', 'new_cases_100_min', 'new_deaths_10_mean', 'new_deaths_50_mean', 'new_deaths_100_mean', 'new_deaths_10_std', 'new_deaths_50_std', 'new_deaths_100_std', 'new_deaths_10_max', 'new_deaths_50_max', 'new_deaths_100_max', 'new_deaths_10_min', 'new_deaths_50_min', 'new_deaths_100_min', 'vaccination_rate_1dose', 'vaccination_rate_complete', 'booster_rate', 'prop_age04', 'prop_age59', 'prop_age6064', 'prop_age8084', 'prop_age85plus']\n"
     ]
    }
   ],
   "source": [
    "columns = df.columns.tolist()\n",
    "print(columns)"
   ]
  },
  {
   "cell_type": "code",
   "execution_count": 4,
   "metadata": {},
   "outputs": [],
   "source": [
    "#remove female & male specific age bin columns\n",
    "\n",
    "fem_cols_remove = ['AGE04_FEM', 'AGE59_FEM', 'AGE1014_FEM', 'AGE1519_FEM', 'AGE2024_FEM', 'AGE2529_FEM', 'AGE3034_FEM', 'AGE3539_FEM', 'AGE4044_FEM', 'AGE4549_FEM', 'AGE5054_FEM', 'AGE5559_FEM', 'AGE6064_FEM', 'AGE6569_FEM', 'AGE7074_FEM', 'AGE7579_FEM', 'AGE8084_FEM', 'AGE85PLUS_FEM']\n",
    "male_cols_remove = ['AGE04_MALE', 'AGE59_MALE', 'AGE1014_MALE', 'AGE1519_MALE', 'AGE2024_MALE', 'AGE2529_MALE', 'AGE3034_MALE', 'AGE3539_MALE', 'AGE4044_MALE', 'AGE4549_MALE', 'AGE5054_MALE', 'AGE5559_MALE', 'AGE6064_MALE', 'AGE6569_MALE', 'AGE7074_MALE', 'AGE7579_MALE', 'AGE8084_MALE', 'AGE85PLUS_MALE']\n",
    "other_cols_remove = ['AGE59_TOT', 'TOT_MALE', 'TOT_FEMALE', 'PEOPLE_POSITIVE_CASES_COUNT']"
   ]
  },
  {
   "cell_type": "code",
   "execution_count": 5,
   "metadata": {},
   "outputs": [
    {
     "name": "stdout",
     "output_type": "stream",
     "text": [
      "40\n"
     ]
    }
   ],
   "source": [
    "#how many cols should be dropped after removing above columns\n",
    "print(2*len(fem_cols_remove) + 4)"
   ]
  },
  {
   "cell_type": "code",
   "execution_count": 6,
   "metadata": {},
   "outputs": [
    {
     "name": "stdout",
     "output_type": "stream",
     "text": [
      "208\n"
     ]
    }
   ],
   "source": [
    "df_2 = df.drop(columns = fem_cols_remove)\n",
    "df_2 = df_2.drop(columns = male_cols_remove)\n",
    "df_2 = df_2.drop(columns = other_cols_remove)\n",
    "print(len(df_2.columns))"
   ]
  },
  {
   "cell_type": "code",
   "execution_count": 7,
   "metadata": {},
   "outputs": [
    {
     "name": "stdout",
     "output_type": "stream",
     "text": [
      "['Date', 'STATE', 'PROVINCE_STATE_NAME', 'Completeness_pct', 'Administered_Dose1_Recip', 'Administered_Dose1_Recip_5Plus', 'Administered_Dose1_Recip_12Plus', 'Administered_Dose1_Recip_18Plus', 'Administered_Dose1_Recip_65Plus', 'Series_Complete_Yes', 'Series_Complete_5Plus', 'Series_Complete_5to17', 'Series_Complete_12Plus', 'Series_Complete_18Plus', 'Series_Complete_65Plus', 'Booster_Doses', 'Booster_Doses_5Plus', 'Booster_Doses_12Plus', 'Booster_Doses_18Plus', 'Booster_Doses_50Plus', 'Booster_Doses_65Plus', 'Second_Booster_50Plus', 'Second_Booster_65Plus', 'Bivalent_Booster_5Plus', 'Bivalent_Booster_12Plus', 'Bivalent_Booster_18Plus', 'Bivalent_Booster_65Plus', 'PEOPLE_DEATH_NEW_COUNT', 'PEOPLE_POSITIVE_NEW_CASES_COUNT', 'PEOPLE_DEATH_COUNT', 'TOT_POP', 'WA_MALE', 'WA_FEMALE', 'BA_MALE', 'BA_FEMALE', 'IA_MALE', 'IA_FEMALE', 'AA_MALE', 'AA_FEMALE', 'NA_MALE', 'NA_FEMALE', 'TOM_MALE', 'TOM_FEMALE', 'WAC_MALE', 'WAC_FEMALE', 'BAC_MALE', 'BAC_FEMALE', 'IAC_MALE', 'IAC_FEMALE', 'AAC_MALE', 'AAC_FEMALE', 'NAC_MALE', 'NAC_FEMALE', 'NH_MALE', 'NH_FEMALE', 'NHWA_MALE', 'NHWA_FEMALE', 'NHBA_MALE', 'NHBA_FEMALE', 'NHIA_MALE', 'NHIA_FEMALE', 'NHAA_MALE', 'NHAA_FEMALE', 'NHNA_MALE', 'NHNA_FEMALE', 'NHTOM_MALE', 'NHTOM_FEMALE', 'NHWAC_MALE', 'NHWAC_FEMALE', 'NHBAC_MALE', 'NHBAC_FEMALE', 'NHIAC_MALE', 'NHIAC_FEMALE', 'NHAAC_MALE', 'NHAAC_FEMALE', 'NHNAC_MALE', 'NHNAC_FEMALE', 'H_MALE', 'H_FEMALE', 'HWA_MALE', 'HWA_FEMALE', 'HBA_MALE', 'HBA_FEMALE', 'HIA_MALE', 'HIA_FEMALE', 'HAA_MALE', 'HAA_FEMALE', 'HNA_MALE', 'HNA_FEMALE', 'HTOM_MALE', 'HTOM_FEMALE', 'HWAC_MALE', 'HWAC_FEMALE', 'HBAC_MALE', 'HBAC_FEMALE', 'HIAC_MALE', 'HIAC_FEMALE', 'HAAC_MALE', 'HAAC_FEMALE', 'HNAC_MALE', 'HNAC_FEMALE', 'POPESTIMATE', 'POPEST_MALE', 'POPEST_FEM', 'AGE04_TOT', 'AGE1014_TOT', 'AGE1519_TOT', 'AGE2024_TOT', 'AGE2529_TOT', 'AGE3034_TOT', 'AGE3539_TOT', 'AGE4044_TOT', 'AGE4549_TOT', 'AGE5054_TOT', 'AGE5559_TOT', 'AGE6064_TOT', 'AGE6569_TOT', 'AGE7074_TOT', 'AGE7579_TOT', 'AGE8084_TOT', 'AGE85PLUS_TOT', 'GDP_current_dollar', 'personal_income', 'Vaccine_available', 'average_temperature_celsius', 'minimum_temperature_celsius', 'maximum_temperature_celsius', 'rainfall_mm', 'dew_point', 'relative_humidity', 'new_hospitalized_patients', 'current_intensive_care_patients', 'school_closing', 'workplace_closing', 'cancel_public_events', 'restrictions_on_gatherings', 'public_transport_closing', 'stay_at_home_requirements', 'restrictions_on_internal_movement', 'international_travel_controls', 'income_support', 'debt_relief', 'public_information_campaigns', 'testing_policy', 'contact_tracing', 'facial_coverings', 'vaccination_policy', 'stringency_index', 'new_cases_1 lag', 'new_cases_2_lag', 'new_cases_3_lag', 'new_cases_4_lag', 'new_cases_7_lag', 'new_cases_30_lag', 'new_cases_50_lag', 'new_cases_150_lag', 'new_cases_350_lag', 'new_deaths_1_lag', 'new_deaths_2_lag', 'new_deaths_3_lag', 'new_deaths_4_lag', 'new_deaths_7_lag', 'new_deaths_30_lag', 'new_deaths_50_lag', 'administered_dose1_recip_10_mean', 'administered_dose1_recip_50_mean', 'administered_dose1_recip_100_mean', 'administered_dose1_recip_10_std', 'administered_dose1_recip_50_std', 'administered_dose1_recip_100_std', 'administered_dose1_recip_10_max', 'administered_dose1_recip_50_max', 'administered_dose1_recip_100_max', 'administered_dose1_recip_10_min', 'administered_dose1_recip_50_min', 'administered_dose1_recip_100_min', 'new_cases_10_mean', 'new_cases_50_mean', 'new_cases_100_mean', 'new_cases_10_std', 'new_cases_50_std', 'new_cases_100_std', 'new_cases_10_max', 'new_cases_50_max', 'new_cases_100_max', 'new_cases_10_min', 'new_cases_50_min', 'new_cases_100_min', 'new_deaths_10_mean', 'new_deaths_50_mean', 'new_deaths_100_mean', 'new_deaths_10_std', 'new_deaths_50_std', 'new_deaths_100_std', 'new_deaths_10_max', 'new_deaths_50_max', 'new_deaths_100_max', 'new_deaths_10_min', 'new_deaths_50_min', 'new_deaths_100_min', 'vaccination_rate_1dose', 'vaccination_rate_complete', 'booster_rate', 'prop_age04', 'prop_age59', 'prop_age6064', 'prop_age8084', 'prop_age85plus']\n"
     ]
    }
   ],
   "source": [
    "print(df_2.columns.to_list())"
   ]
  },
  {
   "cell_type": "code",
   "execution_count": 8,
   "metadata": {},
   "outputs": [
    {
     "name": "stdout",
     "output_type": "stream",
     "text": [
      "17\n"
     ]
    }
   ],
   "source": [
    "#columns to remove after creating larger age bins\n",
    "small_age_bin_columns = ['AGE04_TOT', 'AGE1014_TOT', 'AGE1519_TOT', 'AGE2024_TOT', 'AGE2529_TOT', 'AGE3034_TOT', 'AGE3539_TOT', 'AGE4044_TOT', 'AGE4549_TOT', 'AGE5054_TOT', 'AGE5559_TOT', 'AGE6064_TOT', 'AGE6569_TOT', 'AGE7074_TOT', 'AGE7579_TOT', 'AGE8084_TOT', 'AGE85PLUS_TOT']\n",
    "print(len(small_age_bin_columns))\n",
    "\n",
    "#non-target rolling statistic columns to drop\n",
    "roll_columns_drop = ['administered_dose1_recip_10_mean', 'administered_dose1_recip_50_mean', 'administered_dose1_recip_100_mean', 'administered_dose1_recip_10_std', 'administered_dose1_recip_50_std', 'administered_dose1_recip_100_std', 'administered_dose1_recip_10_max', 'administered_dose1_recip_50_max', 'administered_dose1_recip_100_max', 'administered_dose1_recip_10_min', 'administered_dose1_recip_50_min', 'administered_dose1_recip_100_min']"
   ]
  },
  {
   "cell_type": "code",
   "execution_count": 9,
   "metadata": {},
   "outputs": [
    {
     "name": "stdout",
     "output_type": "stream",
     "text": [
      "182\n"
     ]
    }
   ],
   "source": [
    "#create larger age bins:\n",
    "#sum: age04_tot through age2529_tot, sum: age3034_tot through age_5559_tot, sum: age6064_tot through age85plus_tot'\n",
    "\n",
    "# Sum the age bins as specified\n",
    "df_2['AGE04_29_TOT'] = df_2[['AGE04_TOT', 'AGE1014_TOT', 'AGE1519_TOT', 'AGE2024_TOT', 'AGE2529_TOT']].sum(axis=1)\n",
    "df_2['AGE30_59_TOT'] = df_2[['AGE3034_TOT', 'AGE3539_TOT', 'AGE4044_TOT', 'AGE4549_TOT', 'AGE5054_TOT', 'AGE5559_TOT']].sum(axis=1)\n",
    "df_2['AGE60PLUS_TOT'] = df_2[['AGE6064_TOT', 'AGE6569_TOT', 'AGE7074_TOT', 'AGE7579_TOT', 'AGE8084_TOT', 'AGE85PLUS_TOT']].sum(axis=1)\n",
    "\n",
    "#remove the old columns:\n",
    "\n",
    "df_2 = df_2.drop(columns = small_age_bin_columns)\n",
    "df_2 = df_2.drop(columns = roll_columns_drop)\n",
    "print(len(df_2.columns.tolist()))"
   ]
  },
  {
   "cell_type": "code",
   "execution_count": 10,
   "metadata": {},
   "outputs": [
    {
     "data": {
      "text/plain": [
       "(39500, 182)"
      ]
     },
     "execution_count": 10,
     "metadata": {},
     "output_type": "execute_result"
    }
   ],
   "source": [
    "df_2.shape"
   ]
  },
  {
   "cell_type": "code",
   "execution_count": 11,
   "metadata": {},
   "outputs": [
    {
     "name": "stdout",
     "output_type": "stream",
     "text": [
      "['Date', 'STATE', 'PROVINCE_STATE_NAME', 'Completeness_pct', 'Administered_Dose1_Recip', 'Administered_Dose1_Recip_5Plus', 'Administered_Dose1_Recip_12Plus', 'Administered_Dose1_Recip_18Plus', 'Administered_Dose1_Recip_65Plus', 'Series_Complete_Yes', 'Series_Complete_5Plus', 'Series_Complete_5to17', 'Series_Complete_12Plus', 'Series_Complete_18Plus', 'Series_Complete_65Plus', 'Booster_Doses', 'Booster_Doses_5Plus', 'Booster_Doses_12Plus', 'Booster_Doses_18Plus', 'Booster_Doses_50Plus', 'Booster_Doses_65Plus', 'Second_Booster_50Plus', 'Second_Booster_65Plus', 'Bivalent_Booster_5Plus', 'Bivalent_Booster_12Plus', 'Bivalent_Booster_18Plus', 'Bivalent_Booster_65Plus', 'PEOPLE_DEATH_NEW_COUNT', 'PEOPLE_POSITIVE_NEW_CASES_COUNT', 'PEOPLE_DEATH_COUNT', 'TOT_POP', 'WA_MALE', 'WA_FEMALE', 'BA_MALE', 'BA_FEMALE', 'IA_MALE', 'IA_FEMALE', 'AA_MALE', 'AA_FEMALE', 'NA_MALE', 'NA_FEMALE', 'TOM_MALE', 'TOM_FEMALE', 'WAC_MALE', 'WAC_FEMALE', 'BAC_MALE', 'BAC_FEMALE', 'IAC_MALE', 'IAC_FEMALE', 'AAC_MALE', 'AAC_FEMALE', 'NAC_MALE', 'NAC_FEMALE', 'NH_MALE', 'NH_FEMALE', 'NHWA_MALE', 'NHWA_FEMALE', 'NHBA_MALE', 'NHBA_FEMALE', 'NHIA_MALE', 'NHIA_FEMALE', 'NHAA_MALE', 'NHAA_FEMALE', 'NHNA_MALE', 'NHNA_FEMALE', 'NHTOM_MALE', 'NHTOM_FEMALE', 'NHWAC_MALE', 'NHWAC_FEMALE', 'NHBAC_MALE', 'NHBAC_FEMALE', 'NHIAC_MALE', 'NHIAC_FEMALE', 'NHAAC_MALE', 'NHAAC_FEMALE', 'NHNAC_MALE', 'NHNAC_FEMALE', 'H_MALE', 'H_FEMALE', 'HWA_MALE', 'HWA_FEMALE', 'HBA_MALE', 'HBA_FEMALE', 'HIA_MALE', 'HIA_FEMALE', 'HAA_MALE', 'HAA_FEMALE', 'HNA_MALE', 'HNA_FEMALE', 'HTOM_MALE', 'HTOM_FEMALE', 'HWAC_MALE', 'HWAC_FEMALE', 'HBAC_MALE', 'HBAC_FEMALE', 'HIAC_MALE', 'HIAC_FEMALE', 'HAAC_MALE', 'HAAC_FEMALE', 'HNAC_MALE', 'HNAC_FEMALE', 'POPESTIMATE', 'POPEST_MALE', 'POPEST_FEM', 'GDP_current_dollar', 'personal_income', 'Vaccine_available', 'average_temperature_celsius', 'minimum_temperature_celsius', 'maximum_temperature_celsius', 'rainfall_mm', 'dew_point', 'relative_humidity', 'new_hospitalized_patients', 'current_intensive_care_patients', 'school_closing', 'workplace_closing', 'cancel_public_events', 'restrictions_on_gatherings', 'public_transport_closing', 'stay_at_home_requirements', 'restrictions_on_internal_movement', 'international_travel_controls', 'income_support', 'debt_relief', 'public_information_campaigns', 'testing_policy', 'contact_tracing', 'facial_coverings', 'vaccination_policy', 'stringency_index', 'new_cases_1 lag', 'new_cases_2_lag', 'new_cases_3_lag', 'new_cases_4_lag', 'new_cases_7_lag', 'new_cases_30_lag', 'new_cases_50_lag', 'new_cases_150_lag', 'new_cases_350_lag', 'new_deaths_1_lag', 'new_deaths_2_lag', 'new_deaths_3_lag', 'new_deaths_4_lag', 'new_deaths_7_lag', 'new_deaths_30_lag', 'new_deaths_50_lag', 'new_cases_10_mean', 'new_cases_50_mean', 'new_cases_100_mean', 'new_cases_10_std', 'new_cases_50_std', 'new_cases_100_std', 'new_cases_10_max', 'new_cases_50_max', 'new_cases_100_max', 'new_cases_10_min', 'new_cases_50_min', 'new_cases_100_min', 'new_deaths_10_mean', 'new_deaths_50_mean', 'new_deaths_100_mean', 'new_deaths_10_std', 'new_deaths_50_std', 'new_deaths_100_std', 'new_deaths_10_max', 'new_deaths_50_max', 'new_deaths_100_max', 'new_deaths_10_min', 'new_deaths_50_min', 'new_deaths_100_min', 'vaccination_rate_1dose', 'vaccination_rate_complete', 'booster_rate', 'prop_age04', 'prop_age59', 'prop_age6064', 'prop_age8084', 'prop_age85plus', 'AGE04_29_TOT', 'AGE30_59_TOT', 'AGE60PLUS_TOT']\n"
     ]
    }
   ],
   "source": [
    "print(df_2.columns.tolist())"
   ]
  },
  {
   "cell_type": "code",
   "execution_count": 12,
   "metadata": {},
   "outputs": [],
   "source": [
    "df_2.drop(columns = ['PEOPLE_DEATH_COUNT'], inplace = True)"
   ]
  },
  {
   "cell_type": "code",
   "execution_count": 13,
   "metadata": {},
   "outputs": [],
   "source": [
    "df_2['Date'] = pd.to_datetime(df_2['Date'])"
   ]
  },
  {
   "cell_type": "code",
   "execution_count": 14,
   "metadata": {},
   "outputs": [],
   "source": [
    "#subset for top 10 states by population\n",
    "df_2 = df_2.loc[df_2['PROVINCE_STATE_NAME'].isin(['California', 'Texas', 'Florida', 'New York', 'Pennsylvania', 'Illinois', 'Ohio', 'Georgia', 'North Carolina', 'Michigan'])]"
   ]
  },
  {
   "cell_type": "code",
   "execution_count": 16,
   "metadata": {},
   "outputs": [],
   "source": [
    "#save df_2 with features\n",
    "df_2.to_csv('multivariate_eng_df.csv')"
   ]
  },
  {
   "cell_type": "code",
   "execution_count": 17,
   "metadata": {},
   "outputs": [
    {
     "data": {
      "text/plain": [
       "(7900, 181)"
      ]
     },
     "execution_count": 17,
     "metadata": {},
     "output_type": "execute_result"
    }
   ],
   "source": [
    "df_2.shape"
   ]
  },
  {
   "cell_type": "code",
   "execution_count": null,
   "metadata": {},
   "outputs": [],
   "source": []
  }
 ],
 "metadata": {
  "interpreter": {
   "hash": "0f6d84b503d10ab3b01a6b0f24be3e0907c562ee635aa6ab378405e208297f18"
  },
  "kernelspec": {
   "display_name": "Python 3.9.12 64-bit ('base': conda)",
   "name": "python3"
  },
  "language_info": {
   "codemirror_mode": {
    "name": "ipython",
    "version": 3
   },
   "file_extension": ".py",
   "mimetype": "text/x-python",
   "name": "python",
   "nbconvert_exporter": "python",
   "pygments_lexer": "ipython3",
   "version": "3.9.2"
  },
  "orig_nbformat": 4
 },
 "nbformat": 4,
 "nbformat_minor": 2
}
